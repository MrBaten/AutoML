{
  "nbformat": 4,
  "nbformat_minor": 0,
  "metadata": {
    "colab": {
      "provenance": [],
      "gpuType": "T4",
      "include_colab_link": true
    },
    "kernelspec": {
      "name": "python3",
      "display_name": "Python 3"
    },
    "language_info": {
      "name": "python"
    },
    "accelerator": "GPU"
  },
  "cells": [
    {
      "cell_type": "markdown",
      "metadata": {
        "id": "view-in-github",
        "colab_type": "text"
      },
      "source": [
        "<a href=\"https://colab.research.google.com/github/MrBaten/AutoML/blob/main/efficentNetB1.ipynb\" target=\"_parent\"><img src=\"https://colab.research.google.com/assets/colab-badge.svg\" alt=\"Open In Colab\"/></a>"
      ]
    },
    {
      "cell_type": "code",
      "execution_count": null,
      "metadata": {
        "id": "ZYzoecJVb5sL"
      },
      "outputs": [],
      "source": [
        "import numpy as np\n",
        "import tensorflow as tf\n",
        "import numpy as np\n",
        "import pandas as pd\n",
        "import matplotlib.pyplot as plt\n",
        "import os\n"
      ]
    },
    {
      "cell_type": "code",
      "source": [
        "from google.colab import drive\n",
        "drive.mount('/content/drive')"
      ],
      "metadata": {
        "id": "B6LGe1e8sOB8",
        "outputId": "7e2e5672-b042-47be-daac-e8808c687dca",
        "colab": {
          "base_uri": "https://localhost:8080/"
        }
      },
      "execution_count": null,
      "outputs": [
        {
          "output_type": "stream",
          "name": "stdout",
          "text": [
            "Mounted at /content/drive\n"
          ]
        }
      ]
    },
    {
      "cell_type": "code",
      "source": [
        "\n",
        "dataset_path = os.listdir('/content/drive/MyDrive/pest')\n",
        "\n",
        "print (dataset_path)  #what kinds of classes are in this dataset\n",
        "\n",
        "print(\"Types of classes labels found: \", len(dataset_path))"
      ],
      "metadata": {
        "colab": {
          "base_uri": "https://localhost:8080/"
        },
        "id": "2jxYJbIgcf-P",
        "outputId": "5f0b5576-a364-45d3-eef8-e23a62e31e81"
      },
      "execution_count": null,
      "outputs": [
        {
          "output_type": "stream",
          "name": "stdout",
          "text": [
            "['aphids', 'mosquito', 'mites', 'sawfly', 'beetle', 'stem_borer', 'armyworm', 'bollworm', 'grasshopper']\n",
            "Types of classes labels found:  9\n"
          ]
        }
      ]
    },
    {
      "cell_type": "code",
      "source": [
        "class_labels = []\n",
        "\n",
        "for item in dataset_path:\n",
        " # Get all the file names\n",
        " all_classes = os.listdir('/content/drive/MyDrive/pest' + '/' +item)\n",
        " #print(all_classes)\n",
        "\n",
        " # Add them to the list\n",
        " for room in all_classes:\n",
        "    class_labels.append((item, str('/content/drive/MyDrive/pest' + '/' +item) + '/' + room))\n",
        "#print(class_labels[:5])"
      ],
      "metadata": {
        "id": "4uI_wCYvMUnt"
      },
      "execution_count": null,
      "outputs": []
    },
    {
      "cell_type": "code",
      "source": [
        "# Build a dataframe\n",
        "df = pd.DataFrame(data=class_labels, columns=['Labels', 'image'])\n",
        "print(df.head())\n",
        "print(df.tail())"
      ],
      "metadata": {
        "colab": {
          "base_uri": "https://localhost:8080/"
        },
        "id": "TpW8Hyg9Mdwc",
        "outputId": "af9b5cff-43dd-4df6-b763-a093afd23778"
      },
      "execution_count": null,
      "outputs": [
        {
          "output_type": "stream",
          "name": "stdout",
          "text": [
            "   Labels                                              image\n",
            "0  aphids  /content/drive/MyDrive/pest/aphids/jpg_58 - Co...\n",
            "1  aphids  /content/drive/MyDrive/pest/aphids/jpg_78 - Co...\n",
            "2  aphids  /content/drive/MyDrive/pest/aphids/jpg_45 - Co...\n",
            "3  aphids      /content/drive/MyDrive/pest/aphids/jpg_32.jpg\n",
            "4  aphids  /content/drive/MyDrive/pest/aphids/jpg_65 - Co...\n",
            "           Labels                                              image\n",
            "2705  grasshopper  /content/drive/MyDrive/pest/grasshopper/jpg_74...\n",
            "2706  grasshopper  /content/drive/MyDrive/pest/grasshopper/jpg_9 ...\n",
            "2707  grasshopper  /content/drive/MyDrive/pest/grasshopper/jpg_71...\n",
            "2708  grasshopper  /content/drive/MyDrive/pest/grasshopper/jpg_67...\n",
            "2709  grasshopper  /content/drive/MyDrive/pest/grasshopper/jpg_73...\n"
          ]
        }
      ]
    },
    {
      "cell_type": "code",
      "source": [
        "# Let's check how many samples for each category are present\n",
        "print(\"Total number of images in the dataset: \", len(df))\n",
        "\n",
        "label_count = df['Labels'].value_counts()\n",
        "print(label_count)"
      ],
      "metadata": {
        "colab": {
          "base_uri": "https://localhost:8080/"
        },
        "id": "PH72hK7UMdy8",
        "outputId": "75e78be4-3146-4d04-d6b9-11b0270739aa"
      },
      "execution_count": null,
      "outputs": [
        {
          "output_type": "stream",
          "name": "stdout",
          "text": [
            "Total number of images in the dataset:  2710\n",
            "mites          310\n",
            "aphids         300\n",
            "mosquito       300\n",
            "sawfly         300\n",
            "beetle         300\n",
            "stem_borer     300\n",
            "armyworm       300\n",
            "bollworm       300\n",
            "grasshopper    300\n",
            "Name: Labels, dtype: int64\n"
          ]
        }
      ]
    },
    {
      "cell_type": "code",
      "source": [
        "import cv2\n",
        "path = '/content/drive/MyDrive/pest/'\n",
        "dataset_path = os.listdir('/content/drive/MyDrive/pest')\n",
        "\n",
        "im_size = 240\n",
        "images = []\n",
        "labels = []\n",
        "\n",
        "for i in dataset_path:\n",
        "    data_path = path + str(i)\n",
        "    filenames = [i for i in os.listdir(data_path) ]\n",
        "\n",
        "    for f in filenames:\n",
        "        img = cv2.imread(data_path + '/' + f)\n",
        "        img = cv2.resize(img, (im_size, im_size))\n",
        "        images.append(img)\n",
        "        labels.append(i)"
      ],
      "metadata": {
        "id": "ZmIyOgY0Md1m"
      },
      "execution_count": null,
      "outputs": []
    },
    {
      "cell_type": "code",
      "source": [
        "#This model takes input images of shape (240, 240, 3), and the input data should range [0, 255].\n",
        "\n",
        "images = np.array(images)\n",
        "\n",
        "images = images.astype('float32') / 255.0\n",
        "images.shape"
      ],
      "metadata": {
        "colab": {
          "base_uri": "https://localhost:8080/"
        },
        "id": "0TOsMkqBMd4P",
        "outputId": "49c57607-5f14-40aa-c957-9ffe91f3d4ba"
      },
      "execution_count": null,
      "outputs": [
        {
          "output_type": "execute_result",
          "data": {
            "text/plain": [
              "(2710, 240, 240, 3)"
            ]
          },
          "metadata": {},
          "execution_count": 8
        }
      ]
    },
    {
      "cell_type": "code",
      "source": [
        "from sklearn.preprocessing import LabelEncoder , OneHotEncoder\n",
        "y=df['Labels'].values\n",
        "print(y)\n",
        "\n",
        "y_labelencoder = LabelEncoder ()\n",
        "y = y_labelencoder.fit_transform (y)\n",
        "print (y)"
      ],
      "metadata": {
        "colab": {
          "base_uri": "https://localhost:8080/"
        },
        "id": "qj-XRexLMd61",
        "outputId": "6cdbb1f7-0032-4cf7-f014-d4548cbfa418"
      },
      "execution_count": null,
      "outputs": [
        {
          "output_type": "stream",
          "name": "stdout",
          "text": [
            "['aphids' 'aphids' 'aphids' ... 'grasshopper' 'grasshopper' 'grasshopper']\n",
            "[0 0 0 ... 4 4 4]\n"
          ]
        }
      ]
    },
    {
      "cell_type": "code",
      "source": [
        "y=y.reshape(-1,1)\n",
        "\n",
        "from sklearn.compose import ColumnTransformer\n",
        "ct = ColumnTransformer([('my_ohe', OneHotEncoder(), [0])], remainder='passthrough')\n",
        "Y = ct.fit_transform(y).toarray()\n",
        "print(Y[:5])\n",
        "print(Y[35:])"
      ],
      "metadata": {
        "colab": {
          "base_uri": "https://localhost:8080/"
        },
        "id": "ib8F-ZgZMd9N",
        "outputId": "a40665ca-a1a3-4b90-d1de-f3459b06cd64"
      },
      "execution_count": null,
      "outputs": [
        {
          "output_type": "stream",
          "name": "stdout",
          "text": [
            "[[1. 0. 0. 0. 0. 0. 0. 0. 0.]\n",
            " [1. 0. 0. 0. 0. 0. 0. 0. 0.]\n",
            " [1. 0. 0. 0. 0. 0. 0. 0. 0.]\n",
            " [1. 0. 0. 0. 0. 0. 0. 0. 0.]\n",
            " [1. 0. 0. 0. 0. 0. 0. 0. 0.]]\n",
            "[[1. 0. 0. ... 0. 0. 0.]\n",
            " [1. 0. 0. ... 0. 0. 0.]\n",
            " [1. 0. 0. ... 0. 0. 0.]\n",
            " ...\n",
            " [0. 0. 0. ... 0. 0. 0.]\n",
            " [0. 0. 0. ... 0. 0. 0.]\n",
            " [0. 0. 0. ... 0. 0. 0.]]\n"
          ]
        }
      ]
    },
    {
      "cell_type": "code",
      "source": [
        "from sklearn.utils import shuffle\n",
        "from sklearn.model_selection import train_test_split\n",
        "\n",
        "\n",
        "images, Y = shuffle(images, Y, random_state=1)\n",
        "\n",
        "\n",
        "train_x, test_x, train_y, test_y = train_test_split(images, Y, test_size=0.05, random_state=415)\n",
        "\n",
        "#inpect the shape of the training and testing.\n",
        "print(train_x.shape)\n",
        "print(train_y.shape)\n",
        "print(test_x.shape)\n",
        "print(test_y.shape)"
      ],
      "metadata": {
        "colab": {
          "base_uri": "https://localhost:8080/"
        },
        "id": "maLbybN-Md_1",
        "outputId": "6728c604-4a43-4673-b873-d7ac4faf302a"
      },
      "execution_count": null,
      "outputs": [
        {
          "output_type": "stream",
          "name": "stdout",
          "text": [
            "(2574, 240, 240, 3)\n",
            "(2574, 9)\n",
            "(136, 240, 240, 3)\n",
            "(136, 9)\n"
          ]
        }
      ]
    },
    {
      "cell_type": "markdown",
      "source": [
        "#Rotation augmentation with adam optimizer 1"
      ],
      "metadata": {
        "id": "fz-zdItEOOgE"
      }
    },
    {
      "cell_type": "code",
      "source": [
        "from tensorflow.keras import layers\n",
        "from tensorflow.keras.applications import EfficientNetB1\n",
        "from tensorflow.keras.preprocessing.image import ImageDataGenerator\n",
        "\n",
        "train_datagen = ImageDataGenerator(rotation_range=45)\n",
        "train_datagen.fit(train_x)\n",
        "\n",
        "train_generator = train_datagen.flow(\n",
        "    train_x,\n",
        "    train_y,\n",
        "    batch_size=32,\n",
        "    shuffle=True\n",
        ")\n",
        "\n",
        "NUM_CLASSES = 9\n",
        "IMG_SIZE = 240\n",
        "\n",
        "inputs = layers.Input(shape=(IMG_SIZE, IMG_SIZE, 3))\n",
        "\n",
        "# Using model without transfer learning\n",
        "outputs = EfficientNetB1(include_top=True, weights=None, classes=NUM_CLASSES)(inputs)\n",
        "model = tf.keras.Model(inputs, outputs)\n",
        "model.compile(optimizer=\"adam\", loss=\"categorical_crossentropy\", metrics=[\"accuracy\"])\n",
        "model.summary()\n",
        "\n",
        "hist = model.fit(\n",
        "    train_generator,\n",
        "    steps_per_epoch=len(train_x) // 32,\n",
        "    epochs=40\n",
        ")\n"
      ],
      "metadata": {
        "colab": {
          "base_uri": "https://localhost:8080/"
        },
        "id": "tNgyy4HvNL9d",
        "outputId": "a792239a-c233-45ea-b332-f481f9e04e1a"
      },
      "execution_count": null,
      "outputs": [
        {
          "output_type": "stream",
          "name": "stdout",
          "text": [
            "Model: \"model\"\n",
            "_________________________________________________________________\n",
            " Layer (type)                Output Shape              Param #   \n",
            "=================================================================\n",
            " input_1 (InputLayer)        [(None, 240, 240, 3)]     0         \n",
            "                                                                 \n",
            " efficientnetb1 (Functional)  (None, 9)                6586768   \n",
            "                                                                 \n",
            "=================================================================\n",
            "Total params: 6,586,768\n",
            "Trainable params: 6,524,713\n",
            "Non-trainable params: 62,055\n",
            "_________________________________________________________________\n",
            "Epoch 1/40\n",
            "80/80 [==============================] - 121s 551ms/step - loss: 3.3789 - accuracy: 0.1286\n",
            "Epoch 2/40\n",
            "80/80 [==============================] - 45s 556ms/step - loss: 2.6264 - accuracy: 0.1656\n",
            "Epoch 3/40\n",
            "80/80 [==============================] - 45s 560ms/step - loss: 2.2482 - accuracy: 0.2148\n",
            "Epoch 4/40\n",
            "80/80 [==============================] - 46s 568ms/step - loss: 2.1486 - accuracy: 0.2387\n",
            "Epoch 5/40\n",
            "80/80 [==============================] - 45s 557ms/step - loss: 2.0449 - accuracy: 0.2699\n",
            "Epoch 6/40\n",
            "80/80 [==============================] - 44s 552ms/step - loss: 1.9802 - accuracy: 0.2832\n",
            "Epoch 7/40\n",
            "80/80 [==============================] - 44s 552ms/step - loss: 1.9306 - accuracy: 0.3194\n",
            "Epoch 8/40\n",
            "80/80 [==============================] - 44s 548ms/step - loss: 1.7999 - accuracy: 0.3643\n",
            "Epoch 9/40\n",
            "80/80 [==============================] - 44s 551ms/step - loss: 1.7170 - accuracy: 0.4040\n",
            "Epoch 10/40\n",
            "80/80 [==============================] - 45s 560ms/step - loss: 1.6165 - accuracy: 0.4323\n",
            "Epoch 11/40\n",
            "80/80 [==============================] - 45s 561ms/step - loss: 1.5773 - accuracy: 0.4386\n",
            "Epoch 12/40\n",
            "80/80 [==============================] - 45s 560ms/step - loss: 1.4576 - accuracy: 0.4961\n",
            "Epoch 13/40\n",
            "80/80 [==============================] - 45s 566ms/step - loss: 1.3470 - accuracy: 0.5260\n",
            "Epoch 14/40\n",
            "80/80 [==============================] - 45s 561ms/step - loss: 1.1844 - accuracy: 0.6015\n",
            "Epoch 15/40\n",
            "80/80 [==============================] - 46s 562ms/step - loss: 1.0777 - accuracy: 0.6373\n",
            "Epoch 16/40\n",
            "80/80 [==============================] - 44s 548ms/step - loss: 0.9622 - accuracy: 0.6743\n",
            "Epoch 17/40\n",
            "80/80 [==============================] - 45s 554ms/step - loss: 0.9039 - accuracy: 0.7113\n",
            "Epoch 18/40\n",
            "80/80 [==============================] - 44s 551ms/step - loss: 0.7346 - accuracy: 0.7541\n",
            "Epoch 19/40\n",
            "80/80 [==============================] - 45s 555ms/step - loss: 0.6454 - accuracy: 0.7864\n",
            "Epoch 20/40\n",
            "80/80 [==============================] - 45s 559ms/step - loss: 0.5802 - accuracy: 0.8155\n",
            "Epoch 21/40\n",
            "80/80 [==============================] - 45s 551ms/step - loss: 0.5049 - accuracy: 0.8222\n",
            "Epoch 22/40\n",
            "80/80 [==============================] - 44s 552ms/step - loss: 0.4855 - accuracy: 0.8407\n",
            "Epoch 23/40\n",
            "80/80 [==============================] - 45s 556ms/step - loss: 0.4254 - accuracy: 0.8588\n",
            "Epoch 24/40\n",
            "80/80 [==============================] - 44s 552ms/step - loss: 0.4093 - accuracy: 0.8737\n",
            "Epoch 25/40\n",
            "80/80 [==============================] - 45s 556ms/step - loss: 0.3810 - accuracy: 0.8749\n",
            "Epoch 26/40\n",
            "80/80 [==============================] - 44s 549ms/step - loss: 0.3342 - accuracy: 0.8961\n",
            "Epoch 27/40\n",
            "80/80 [==============================] - 46s 574ms/step - loss: 0.3215 - accuracy: 0.9060\n",
            "Epoch 28/40\n",
            "80/80 [==============================] - 45s 556ms/step - loss: 0.2676 - accuracy: 0.9174\n",
            "Epoch 29/40\n",
            "80/80 [==============================] - 44s 552ms/step - loss: 0.2674 - accuracy: 0.9119\n",
            "Epoch 30/40\n",
            "80/80 [==============================] - 46s 569ms/step - loss: 0.2820 - accuracy: 0.9087\n",
            "Epoch 31/40\n",
            "80/80 [==============================] - 46s 567ms/step - loss: 0.2463 - accuracy: 0.9264\n",
            "Epoch 32/40\n",
            "80/80 [==============================] - 45s 556ms/step - loss: 0.2277 - accuracy: 0.9296\n",
            "Epoch 33/40\n",
            "80/80 [==============================] - 44s 551ms/step - loss: 0.2632 - accuracy: 0.9225\n",
            "Epoch 34/40\n",
            "80/80 [==============================] - 45s 560ms/step - loss: 0.1879 - accuracy: 0.9426\n",
            "Epoch 35/40\n",
            "80/80 [==============================] - 54s 673ms/step - loss: 0.1954 - accuracy: 0.9343\n",
            "Epoch 36/40\n",
            "80/80 [==============================] - 50s 622ms/step - loss: 0.1768 - accuracy: 0.9437\n",
            "Epoch 37/40\n",
            "80/80 [==============================] - 46s 567ms/step - loss: 0.1499 - accuracy: 0.9493\n",
            "Epoch 38/40\n",
            "80/80 [==============================] - 46s 572ms/step - loss: 0.1344 - accuracy: 0.9552\n",
            "Epoch 39/40\n",
            "80/80 [==============================] - 45s 557ms/step - loss: 0.1389 - accuracy: 0.9563\n",
            "Epoch 40/40\n",
            "80/80 [==============================] - 45s 556ms/step - loss: 0.1591 - accuracy: 0.9461\n"
          ]
        }
      ]
    },
    {
      "cell_type": "code",
      "source": [
        "import matplotlib.pyplot as plt\n",
        "\n",
        "\n",
        "def plot_hist(hist):\n",
        "    plt.plot(hist.history[\"accuracy\"])\n",
        "    #plt.plot(hist.history[\"val_accuracy\"])\n",
        "    plt.title(\"model accuracy\")\n",
        "    plt.ylabel(\"accuracy\")\n",
        "    plt.xlabel(\"epoch\")\n",
        "    plt.legend([\"train\", \"validation\"], loc=\"upper left\")\n",
        "    plt.show()\n",
        "\n",
        "\n",
        "plot_hist(hist)"
      ],
      "metadata": {
        "colab": {
          "base_uri": "https://localhost:8080/",
          "height": 472
        },
        "id": "XtORn5ypOJOF",
        "outputId": "57ab7404-411a-43f7-9230-cb3f199261cd"
      },
      "execution_count": null,
      "outputs": [
        {
          "output_type": "display_data",
          "data": {
            "text/plain": [
              "<Figure size 640x480 with 1 Axes>"
            ],
            "image/png": "[encoded data removed]"
          },
          "metadata": {}
        }
      ]
    },
    {
      "cell_type": "code",
      "source": [
        "preds = model.evaluate(test_x, test_y)\n",
        "print (\"Loss = \" + str(preds[0]))\n",
        "print (\"Test Accuracy = \" + str(preds[1]))"
      ],
      "metadata": {
        "colab": {
          "base_uri": "https://localhost:8080/"
        },
        "id": "LHqV3zD8NMAc",
        "outputId": "f08f9902-b1a6-4aa3-d651-3d14c7a6ff93"
      },
      "execution_count": null,
      "outputs": [
        {
          "output_type": "stream",
          "name": "stdout",
          "text": [
            "5/5 [==============================] - 5s 279ms/step - loss: 0.0743 - accuracy: 0.9853\n",
            "Loss = 0.07425319403409958\n",
            "Test Accuracy = 0.9852941036224365\n"
          ]
        }
      ]
    },
    {
      "cell_type": "code",
      "source": [
        "from sklearn.metrics import precision_score, recall_score, f1_score\n",
        "\n",
        "test_loss, test_acc = model.evaluate(test_x, test_y)\n",
        "pred_labels = np.argmax(model.predict(test_x), axis=1)\n",
        "\n",
        "true_labels = np.argmax(test_y, axis=1)\n",
        "\n",
        "class_accuracies = []\n",
        "f1_scores = []\n",
        "avg_precisions = []\n",
        "avg_recalls = []\n",
        "\n",
        "for class_label in range(NUM_CLASSES):\n",
        "    class_indices = np.where(true_labels == class_label)[0]\n",
        "    class_pred_labels = pred_labels[class_indices]\n",
        "    class_true_labels = true_labels[class_indices]\n",
        "\n",
        "    # Calculate class accuracy\n",
        "    class_accuracy = np.mean(class_pred_labels == class_true_labels)\n",
        "    class_accuracies.append(class_accuracy)\n",
        "\n",
        "    # Calculate F1 score\n",
        "    class_f1_score = f1_score(class_true_labels, class_pred_labels, pos_label=class_label)\n",
        "    f1_scores.append(class_f1_score)\n",
        "\n",
        "    # Calculate precision\n",
        "    class_precision = precision_score(class_true_labels, class_pred_labels, pos_label=class_label)\n",
        "    avg_precisions.append(class_precision)\n",
        "\n",
        "    # Calculate recall\n",
        "    class_recall = recall_score(class_true_labels, class_pred_labels, pos_label=class_label)\n",
        "    avg_recalls.append(class_recall)\n",
        "\n",
        "mean_class_accuracy = np.mean(class_accuracies)\n",
        "f1_score = np.mean(f1_scores)\n",
        "mean_precision = np.mean(avg_precisions)\n",
        "mean_recall = np.mean(avg_recalls)\n",
        "\n",
        "print(\"Mean Class Accuracy:\", mean_class_accuracy)\n",
        "print(\"F1 Score:\", f1_score)\n",
        "print(\"Mean Average Precision:\", mean_precision)\n",
        "print(\"Mean Average Recall:\", mean_recall)"
      ],
      "metadata": {
        "id": "Pe1_rTkM6MsE",
        "outputId": "fe52859e-7b80-4e83-f301-4bb18cdcde26",
        "colab": {
          "base_uri": "https://localhost:8080/"
        }
      },
      "execution_count": null,
      "outputs": [
        {
          "output_type": "stream",
          "name": "stdout",
          "text": [
            "5/5 [==============================] - 1s 86ms/step - loss: 0.0743 - accuracy: 0.9853\n",
            "5/5 [==============================] - 3s 101ms/step\n",
            "Mean Class Accuracy: 0.988996242619431\n",
            "F1 Score: 0.9943562610229277\n",
            "Mean Average Precision: 1.0\n",
            "Mean Average Recall: 0.988996242619431\n"
          ]
        }
      ]
    },
    {
      "cell_type": "markdown",
      "source": [
        "# Rotation augmentation with SGD optimizer 2"
      ],
      "metadata": {
        "id": "TQJ46LeSWhwU"
      }
    },
    {
      "cell_type": "code",
      "source": [
        "from tensorflow.keras import layers\n",
        "from tensorflow.keras.applications import EfficientNetB1\n",
        "from tensorflow.keras.preprocessing.image import ImageDataGenerator\n",
        "\n",
        "train_datagen = ImageDataGenerator(rotation_range=45)\n",
        "train_datagen.fit(train_x)\n",
        "\n",
        "train_generator = train_datagen.flow(\n",
        "    train_x,\n",
        "    train_y,\n",
        "    batch_size=32,\n",
        "    shuffle=True\n",
        ")\n",
        "\n",
        "NUM_CLASSES = 9\n",
        "IMG_SIZE = 240\n",
        "\n",
        "inputs = layers.Input(shape=(IMG_SIZE, IMG_SIZE, 3))\n",
        "\n",
        "# Using model without transfer learning\n",
        "outputs = EfficientNetB1(include_top=True, weights=None, classes=NUM_CLASSES)(inputs)\n",
        "model_2 = tf.keras.Model(inputs, outputs)\n",
        "model_2.compile(optimizer=\"sgd\", loss=\"categorical_crossentropy\", metrics=[\"accuracy\"])\n",
        "model_2.summary()\n",
        "\n",
        "hist = model_2.fit(\n",
        "    train_generator,\n",
        "    steps_per_epoch=len(train_x) // 32,\n",
        "    epochs=40\n",
        ")\n"
      ],
      "metadata": {
        "colab": {
          "base_uri": "https://localhost:8080/",
          "height": 235
        },
        "id": "Icet7En3Wb71",
        "outputId": "8988dc2e-7be7-4d10-9b3d-0980a2fa6b70"
      },
      "execution_count": null,
      "outputs": [
        {
          "output_type": "error",
          "ename": "AttributeError",
          "evalue": "ignored",
          "traceback": [
            "\u001b[0;31m---------------------------------------------------------------------------\u001b[0m",
            "\u001b[0;31mAttributeError\u001b[0m                            Traceback (most recent call last)",
            "\u001b[0;32m<ipython-input-33-ddeec5796096>\u001b[0m in \u001b[0;36m<cell line: 24>\u001b[0;34m()\u001b[0m\n\u001b[1;32m     22\u001b[0m )\n\u001b[1;32m     23\u001b[0m \u001b[0;34m\u001b[0m\u001b[0m\n\u001b[0;32m---> 24\u001b[0;31m \u001b[0mtrain_generator\u001b[0m \u001b[0;34m=\u001b[0m \u001b[0mtrain_generator\u001b[0m\u001b[0;34m.\u001b[0m\u001b[0mmap\u001b[0m\u001b[0;34m(\u001b[0m\u001b[0;32mlambda\u001b[0m \u001b[0mx\u001b[0m\u001b[0;34m,\u001b[0m \u001b[0my\u001b[0m\u001b[0;34m:\u001b[0m \u001b[0;34m(\u001b[0m\u001b[0mcontrast_augmentation\u001b[0m\u001b[0;34m(\u001b[0m\u001b[0mx\u001b[0m\u001b[0;34m)\u001b[0m\u001b[0;34m,\u001b[0m \u001b[0my\u001b[0m\u001b[0;34m)\u001b[0m\u001b[0;34m)\u001b[0m\u001b[0;34m\u001b[0m\u001b[0;34m\u001b[0m\u001b[0m\n\u001b[0m\u001b[1;32m     25\u001b[0m \u001b[0;34m\u001b[0m\u001b[0m\n\u001b[1;32m     26\u001b[0m \u001b[0mNUM_CLASSES\u001b[0m \u001b[0;34m=\u001b[0m \u001b[0;36m9\u001b[0m\u001b[0;34m\u001b[0m\u001b[0;34m\u001b[0m\u001b[0m\n",
            "\u001b[0;31mAttributeError\u001b[0m: 'NumpyArrayIterator' object has no attribute 'map'"
          ]
        }
      ]
    },
    {
      "cell_type": "code",
      "source": [
        "import matplotlib.pyplot as plt\n",
        "\n",
        "\n",
        "def plot_hist(hist):\n",
        "    plt.plot(hist.history[\"accuracy\"])\n",
        "    #plt.plot(hist.history[\"val_accuracy\"])\n",
        "    plt.title(\"model accuracy\")\n",
        "    plt.ylabel(\"accuracy\")\n",
        "    plt.xlabel(\"epoch\")\n",
        "    plt.legend([\"train\", \"validation\"], loc=\"upper left\")\n",
        "    plt.show()\n",
        "\n",
        "\n",
        "plot_hist(hist)"
      ],
      "metadata": {
        "id": "smKjUIdWEg2s",
        "outputId": "12becfd6-aa22-4749-e92a-204b5e4fcc30",
        "colab": {
          "base_uri": "https://localhost:8080/",
          "height": 472
        }
      },
      "execution_count": null,
      "outputs": [
        {
          "output_type": "display_data",
          "data": {
            "text/plain": [
              "<Figure size 640x480 with 1 Axes>"
            ],
            "image/png": "[encoded data removed]"
          },
          "metadata": {}
        }
      ]
    },
    {
      "cell_type": "code",
      "source": [
        "preds = model_2.evaluate(test_x, test_y)\n",
        "print (\"Loss = \" + str(preds[0]))\n",
        "print (\"Test Accuracy = \" + str(preds[1]))"
      ],
      "metadata": {
        "id": "0nUVFJvPEhDF",
        "outputId": "79379825-469e-4d5b-ee81-c7132df67302",
        "colab": {
          "base_uri": "https://localhost:8080/"
        }
      },
      "execution_count": null,
      "outputs": [
        {
          "output_type": "stream",
          "name": "stdout",
          "text": [
            "5/5 [==============================] - 5s 261ms/step - loss: 2.4676 - accuracy: 0.3529\n",
            "Loss = 2.4676051139831543\n",
            "Test Accuracy = 0.3529411852359772\n"
          ]
        }
      ]
    },
    {
      "cell_type": "markdown",
      "source": [
        "####Finding the Mean Class Accuracy,F1 Scores,Average Precision,Average Recall (model 2)"
      ],
      "metadata": {
        "id": "7EQHa2_CEqhE"
      }
    },
    {
      "cell_type": "code",
      "source": [
        "from sklearn.metrics import precision_score, recall_score, f1_score\n",
        "\n",
        "test_loss, test_acc = model_2.evaluate(test_x, test_y)\n",
        "pred_labels = np.argmax(model_2.predict(test_x), axis=1)\n",
        "\n",
        "true_labels = np.argmax(test_y, axis=1)\n",
        "\n",
        "class_accuracies = []\n",
        "f1_scores = []\n",
        "avg_precisions = []\n",
        "avg_recalls = []\n",
        "\n",
        "for class_label in range(NUM_CLASSES):\n",
        "    class_indices = np.where(true_labels == class_label)[0]\n",
        "    class_pred_labels = pred_labels[class_indices]\n",
        "    class_true_labels = true_labels[class_indices]\n",
        "\n",
        "    # Calculate class accuracy\n",
        "    class_accuracy = np.mean(class_pred_labels == class_true_labels)\n",
        "    class_accuracies.append(class_accuracy)\n",
        "\n",
        "    # Calculate F1 score\n",
        "    class_f1_score = f1_score(class_true_labels, class_pred_labels, labels=[class_label], average=None)\n",
        "    f1_scores.append(class_f1_score)\n",
        "\n",
        "    # Calculate precision\n",
        "    class_precision = precision_score(class_true_labels, class_pred_labels, labels=[class_label], average=None)\n",
        "    avg_precisions.append(class_precision)\n",
        "\n",
        "    # Calculate recall\n",
        "    class_recall = recall_score(class_true_labels, class_pred_labels, labels=[class_label], average=None)\n",
        "    avg_recalls.append(class_recall)\n",
        "\n",
        "mean_class_accuracy = np.mean(class_accuracies)\n",
        "mean_f1_score = np.mean(f1_scores)\n",
        "mean_precision = np.mean(avg_precisions)\n",
        "mean_recall = np.mean(avg_recalls)\n",
        "\n",
        "print(\"Mean Class Accuracy:\", mean_class_accuracy)\n",
        "print(\"Mean F1 Score:\", mean_f1_score)\n",
        "print(\"Mean Average Precision:\", mean_precision)\n",
        "print(\"Mean Average Recall:\", mean_recall)\n"
      ],
      "metadata": {
        "id": "K6NzEMWTEpBj",
        "outputId": "16fd9fc2-3205-447a-9178-4462c3c6a709",
        "colab": {
          "base_uri": "https://localhost:8080/"
        }
      },
      "execution_count": null,
      "outputs": [
        {
          "output_type": "stream",
          "name": "stdout",
          "text": [
            "5/5 [==============================] - 0s 84ms/step - loss: 2.4676 - accuracy: 0.3529\n",
            "5/5 [==============================] - 2s 101ms/step\n",
            "Mean Class Accuracy: 0.38593719753140043\n",
            "Mean F1 Score: 0.5014220256416496\n",
            "Mean Average Precision: 0.8888888888888888\n",
            "Mean Average Recall: 0.38593719753140043\n"
          ]
        },
        {
          "output_type": "stream",
          "name": "stderr",
          "text": [
            "/usr/local/lib/python3.10/dist-packages/sklearn/metrics/_classification.py:1344: UndefinedMetricWarning: Precision is ill-defined and being set to 0.0 due to no predicted samples. Use `zero_division` parameter to control this behavior.\n",
            "  _warn_prf(average, modifier, msg_start, len(result))\n"
          ]
        }
      ]
    },
    {
      "cell_type": "markdown",
      "source": [
        "#Rotation augmentation with RMSprop optimizer 3"
      ],
      "metadata": {
        "id": "5Hr7Ulh-t_ME"
      }
    },
    {
      "cell_type": "code",
      "source": [
        "from tensorflow.keras import layers\n",
        "from tensorflow.keras.applications import EfficientNetB1\n",
        "from tensorflow.keras.preprocessing.image import ImageDataGenerator\n",
        "\n",
        "train_datagen = ImageDataGenerator(rotation_range=45)\n",
        "train_datagen.fit(train_x)\n",
        "\n",
        "train_generator = train_datagen.flow(\n",
        "    train_x,\n",
        "    train_y,\n",
        "    batch_size=32,\n",
        "    shuffle=True\n",
        ")\n",
        "\n",
        "NUM_CLASSES = 9\n",
        "IMG_SIZE = 240\n",
        "\n",
        "inputs = layers.Input(shape=(IMG_SIZE, IMG_SIZE, 3))\n",
        "\n",
        "# Using model without transfer learning\n",
        "outputs = EfficientNetB1(include_top=True, weights=None, classes=NUM_CLASSES)(inputs)\n",
        "model_3 = tf.keras.Model(inputs, outputs)\n",
        "\n",
        "# Create RMSprop optimizer\n",
        "optimizer = tf.keras.optimizers.RMSprop(learning_rate=0.001, rho=0.9)\n",
        "\n",
        "model_3.compile(optimizer=optimizer, loss=\"categorical_crossentropy\", metrics=[\"accuracy\"])\n",
        "model_3.summary()\n",
        "\n",
        "hist = model_3.fit(\n",
        "    train_generator,\n",
        "    steps_per_epoch=len(train_x) // 32,\n",
        "    epochs=40\n",
        ")\n"
      ],
      "metadata": {
        "id": "WrpK6XdltX6s",
        "outputId": "19c6c2a8-6048-4802-8d8b-17ecfe7e6200",
        "colab": {
          "base_uri": "https://localhost:8080/"
        }
      },
      "execution_count": null,
      "outputs": [
        {
          "output_type": "stream",
          "name": "stdout",
          "text": [
            "Model: \"model\"\n",
            "_________________________________________________________________\n",
            " Layer (type)                Output Shape              Param #   \n",
            "=================================================================\n",
            " input_1 (InputLayer)        [(None, 240, 240, 3)]     0         \n",
            "                                                                 \n",
            " efficientnetb1 (Functional)  (None, 9)                6586768   \n",
            "                                                                 \n",
            "=================================================================\n",
            "Total params: 6,586,768\n",
            "Trainable params: 6,524,713\n",
            "Non-trainable params: 62,055\n",
            "_________________________________________________________________\n",
            "Epoch 1/40\n",
            "80/80 [==============================] - 120s 591ms/step - loss: 3.5600 - accuracy: 0.1196\n",
            "Epoch 2/40\n",
            "80/80 [==============================] - 45s 560ms/step - loss: 2.4727 - accuracy: 0.1625\n",
            "Epoch 3/40\n",
            "80/80 [==============================] - 46s 567ms/step - loss: 2.2518 - accuracy: 0.2030\n",
            "Epoch 4/40\n",
            "80/80 [==============================] - 46s 575ms/step - loss: 2.1209 - accuracy: 0.2439\n",
            "Epoch 5/40\n",
            "80/80 [==============================] - 48s 599ms/step - loss: 1.9983 - accuracy: 0.2750\n",
            "Epoch 6/40\n",
            "80/80 [==============================] - 46s 567ms/step - loss: 1.8783 - accuracy: 0.3269\n",
            "Epoch 7/40\n",
            "80/80 [==============================] - 46s 576ms/step - loss: 1.7774 - accuracy: 0.3635\n",
            "Epoch 8/40\n",
            "80/80 [==============================] - 46s 572ms/step - loss: 1.6330 - accuracy: 0.4186\n",
            "Epoch 9/40\n",
            "80/80 [==============================] - 47s 580ms/step - loss: 1.5197 - accuracy: 0.4567\n",
            "Epoch 10/40\n",
            "80/80 [==============================] - 47s 580ms/step - loss: 1.3813 - accuracy: 0.5146\n",
            "Epoch 11/40\n",
            "80/80 [==============================] - 47s 579ms/step - loss: 1.2718 - accuracy: 0.5543\n",
            "Epoch 12/40\n",
            "80/80 [==============================] - 47s 579ms/step - loss: 1.0679 - accuracy: 0.6279\n",
            "Epoch 13/40\n",
            "80/80 [==============================] - 47s 582ms/step - loss: 0.9449 - accuracy: 0.6672\n",
            "Epoch 14/40\n",
            "80/80 [==============================] - 46s 570ms/step - loss: 0.8428 - accuracy: 0.7109\n",
            "Epoch 15/40\n",
            "80/80 [==============================] - 46s 575ms/step - loss: 0.7452 - accuracy: 0.7522\n",
            "Epoch 16/40\n",
            "80/80 [==============================] - 48s 599ms/step - loss: 0.6121 - accuracy: 0.7927\n",
            "Epoch 17/40\n",
            "80/80 [==============================] - 46s 577ms/step - loss: 0.5366 - accuracy: 0.8219\n",
            "Epoch 18/40\n",
            "80/80 [==============================] - 47s 581ms/step - loss: 0.4853 - accuracy: 0.8442\n",
            "Epoch 19/40\n",
            "80/80 [==============================] - 50s 629ms/step - loss: 0.4241 - accuracy: 0.8611\n",
            "Epoch 20/40\n",
            "80/80 [==============================] - 47s 588ms/step - loss: 0.4468 - accuracy: 0.8584\n",
            "Epoch 21/40\n",
            "80/80 [==============================] - 46s 570ms/step - loss: 0.3545 - accuracy: 0.8859\n",
            "Epoch 22/40\n",
            "80/80 [==============================] - 47s 590ms/step - loss: 0.3171 - accuracy: 0.9009\n",
            "Epoch 23/40\n",
            "80/80 [==============================] - 49s 604ms/step - loss: 0.2946 - accuracy: 0.9119\n",
            "Epoch 24/40\n",
            "80/80 [==============================] - 48s 595ms/step - loss: 0.2986 - accuracy: 0.9040\n",
            "Epoch 25/40\n",
            "80/80 [==============================] - 46s 579ms/step - loss: 0.2527 - accuracy: 0.9194\n",
            "Epoch 26/40\n",
            "80/80 [==============================] - 46s 574ms/step - loss: 0.2404 - accuracy: 0.9229\n",
            "Epoch 27/40\n",
            "80/80 [==============================] - 47s 580ms/step - loss: 0.2294 - accuracy: 0.9233\n",
            "Epoch 28/40\n",
            "80/80 [==============================] - 47s 590ms/step - loss: 0.2038 - accuracy: 0.9355\n",
            "Epoch 29/40\n",
            "80/80 [==============================] - 47s 591ms/step - loss: 0.2066 - accuracy: 0.9355\n",
            "Epoch 30/40\n",
            "80/80 [==============================] - 46s 568ms/step - loss: 0.2102 - accuracy: 0.9331\n",
            "Epoch 31/40\n",
            "80/80 [==============================] - 48s 598ms/step - loss: 0.1796 - accuracy: 0.9414\n",
            "Epoch 32/40\n",
            "80/80 [==============================] - 46s 569ms/step - loss: 0.1769 - accuracy: 0.9422\n",
            "Epoch 33/40\n",
            "80/80 [==============================] - 48s 591ms/step - loss: 0.1460 - accuracy: 0.9552\n",
            "Epoch 34/40\n",
            "80/80 [==============================] - 47s 581ms/step - loss: 0.1500 - accuracy: 0.9548\n",
            "Epoch 35/40\n",
            "80/80 [==============================] - 48s 589ms/step - loss: 0.1642 - accuracy: 0.9489\n",
            "Epoch 36/40\n",
            "80/80 [==============================] - 45s 566ms/step - loss: 0.1386 - accuracy: 0.9540\n",
            "Epoch 37/40\n",
            "80/80 [==============================] - 46s 568ms/step - loss: 0.1534 - accuracy: 0.9563\n",
            "Epoch 38/40\n",
            "80/80 [==============================] - 47s 582ms/step - loss: 0.1162 - accuracy: 0.9607\n",
            "Epoch 39/40\n",
            "80/80 [==============================] - 46s 572ms/step - loss: 0.1204 - accuracy: 0.9618\n",
            "Epoch 40/40\n",
            "80/80 [==============================] - 48s 599ms/step - loss: 0.0991 - accuracy: 0.9681\n"
          ]
        }
      ]
    },
    {
      "cell_type": "code",
      "source": [
        "import matplotlib.pyplot as plt\n",
        "\n",
        "\n",
        "def plot_hist(hist):\n",
        "    plt.plot(hist.history[\"accuracy\"])\n",
        "    #plt.plot(hist.history[\"val_accuracy\"])\n",
        "    plt.title(\"model accuracy\")\n",
        "    plt.ylabel(\"accuracy\")\n",
        "    plt.xlabel(\"epoch\")\n",
        "    plt.legend([\"train\", \"validation\"], loc=\"upper left\")\n",
        "    plt.show()\n",
        "\n",
        "\n",
        "plot_hist(hist)"
      ],
      "metadata": {
        "id": "2U3P79Wq37gE",
        "outputId": "47c10c95-4361-4154-a8be-054ee70be0b8",
        "colab": {
          "base_uri": "https://localhost:8080/",
          "height": 472
        }
      },
      "execution_count": null,
      "outputs": [
        {
          "output_type": "display_data",
          "data": {
            "text/plain": [
              "<Figure size 640x480 with 1 Axes>"
            ],
            "image/png": "[encoded data removed]"
          },
          "metadata": {}
        }
      ]
    },
    {
      "cell_type": "code",
      "source": [
        "preds = model_3.evaluate(test_x, test_y)\n",
        "print (\"Loss = \" + str(preds[0]))\n",
        "print (\"Test Accuracy = \" + str(preds[1]))"
      ],
      "metadata": {
        "id": "sqOkAUbz4DWM",
        "outputId": "c5b0bf75-8302-4f17-c340-96fc9873c962",
        "colab": {
          "base_uri": "https://localhost:8080/"
        }
      },
      "execution_count": null,
      "outputs": [
        {
          "output_type": "stream",
          "name": "stdout",
          "text": [
            "5/5 [==============================] - 0s 84ms/step - loss: 0.0358 - accuracy: 0.9779\n",
            "Loss = 0.035772670060396194\n",
            "Test Accuracy = 0.9779411554336548\n"
          ]
        }
      ]
    },
    {
      "cell_type": "markdown",
      "source": [
        "####Finding the Mean Class Accuracy,F1 Scores,Average Precision,Average Recall (model 3)"
      ],
      "metadata": {
        "id": "Ulw2c2R579hU"
      }
    },
    {
      "cell_type": "code",
      "source": [
        "from sklearn.metrics import precision_score, recall_score, f1_score\n",
        "\n",
        "test_loss, test_acc = model_3.evaluate(test_x, test_y)\n",
        "pred_labels = np.argmax(model_3.predict(test_x), axis=1)\n",
        "\n",
        "true_labels = np.argmax(test_y, axis=1)\n",
        "\n",
        "class_accuracies = []\n",
        "f1_scores = []\n",
        "avg_precisions = []\n",
        "avg_recalls = []\n",
        "\n",
        "for class_label in range(NUM_CLASSES):\n",
        "    class_indices = np.where(true_labels == class_label)[0]\n",
        "    class_pred_labels = pred_labels[class_indices]\n",
        "    class_true_labels = true_labels[class_indices]\n",
        "\n",
        "    # Calculate class accuracy\n",
        "    class_accuracy = np.mean(class_pred_labels == class_true_labels)\n",
        "    class_accuracies.append(class_accuracy)\n",
        "\n",
        "    # Calculate F1 score\n",
        "    class_f1_score = f1_score(class_true_labels, class_pred_labels, pos_label=class_label)\n",
        "    f1_scores.append(class_f1_score)\n",
        "\n",
        "    # Calculate precision\n",
        "    class_precision = precision_score(class_true_labels, class_pred_labels, pos_label=class_label)\n",
        "    avg_precisions.append(class_precision)\n",
        "\n",
        "    # Calculate recall\n",
        "    class_recall = recall_score(class_true_labels, class_pred_labels, pos_label=class_label)\n",
        "    avg_recalls.append(class_recall)\n",
        "\n",
        "mean_class_accuracy = np.mean(class_accuracies)\n",
        "mean_f1_score = np.mean(f1_scores)\n",
        "mean_precision = np.mean(avg_precisions)\n",
        "mean_recall = np.mean(avg_recalls)\n",
        "\n",
        "print(\"Mean Class Accuracy:\", mean_class_accuracy)\n",
        "print(\"Mean F1 Score:\", mean_f1_score)\n",
        "print(\"Mean Average Precision:\", mean_precision)\n",
        "print(\"Mean Average Recall:\", mean_recall)\n",
        "\n"
      ],
      "metadata": {
        "id": "of1DhqAT4DZD",
        "outputId": "701f2eeb-b50f-4dbf-a317-d28331b63f24",
        "colab": {
          "base_uri": "https://localhost:8080/"
        }
      },
      "execution_count": null,
      "outputs": [
        {
          "output_type": "stream",
          "name": "stdout",
          "text": [
            "5/5 [==============================] - 0s 86ms/step - loss: 0.0358 - accuracy: 0.9779\n",
            "5/5 [==============================] - 0s 84ms/step\n",
            "Mean Class Accuracy: 0.9792960662525879\n",
            "Mean F1 Score: 0.9893004115226337\n",
            "Mean Average Precision: 1.0\n",
            "Mean Average Recall: 0.9792960662525879\n"
          ]
        }
      ]
    },
    {
      "cell_type": "markdown",
      "source": [
        "#Flipping augmentation with adam optimizer (model 4)"
      ],
      "metadata": {
        "id": "WfXg-oIKLsaE"
      }
    },
    {
      "cell_type": "code",
      "source": [
        "from tensorflow.keras.applications import EfficientNetB1\n",
        "from tensorflow.keras.preprocessing.image import ImageDataGenerator\n",
        "from tensorflow.keras import layers\n",
        "import tensorflow as tf\n",
        "\n",
        "NUM_CLASSES = 9\n",
        "IMG_SIZE = 240\n",
        "\n",
        "train_datagen = ImageDataGenerator(\n",
        "    horizontal_flip=True,\n",
        "    vertical_flip=True\n",
        ")\n",
        "train_datagen.fit(train_x)\n",
        "\n",
        "train_generator = train_datagen.flow(\n",
        "    train_x,\n",
        "    train_y,\n",
        "    batch_size=32,\n",
        "    shuffle=True\n",
        ")\n",
        "\n",
        "inputs = layers.Input(shape=(IMG_SIZE, IMG_SIZE, 3))\n",
        "\n",
        "# Using model without transfer learning\n",
        "outputs = EfficientNetB1(include_top=True, weights=None, classes=NUM_CLASSES)(inputs)\n",
        "\n",
        "model_4 = tf.keras.Model(inputs, outputs)\n",
        "model_4.compile(optimizer=\"adam\", loss='categorical_crossentropy', metrics=['accuracy'])\n",
        "model_4.summary()\n",
        "\n",
        "hist = model_4.fit(\n",
        "    train_generator,\n",
        "    steps_per_epoch=len(train_x) // 32,\n",
        "    epochs=40\n",
        ")\n"
      ],
      "metadata": {
        "id": "PJ-ohB4e4DeT",
        "outputId": "dbac7871-1435-447c-edf2-6439e75be75f",
        "colab": {
          "base_uri": "https://localhost:8080/"
        }
      },
      "execution_count": null,
      "outputs": [
        {
          "output_type": "stream",
          "name": "stdout",
          "text": [
            "Model: \"model\"\n",
            "_________________________________________________________________\n",
            " Layer (type)                Output Shape              Param #   \n",
            "=================================================================\n",
            " input_1 (InputLayer)        [(None, 240, 240, 3)]     0         \n",
            "                                                                 \n",
            " efficientnetb1 (Functional)  (None, 9)                6586768   \n",
            "                                                                 \n",
            "=================================================================\n",
            "Total params: 6,586,768\n",
            "Trainable params: 6,524,713\n",
            "Non-trainable params: 62,055\n",
            "_________________________________________________________________\n",
            "Epoch 1/40\n",
            "80/80 [==============================] - 115s 401ms/step - loss: 3.5296 - accuracy: 0.1294\n",
            "Epoch 2/40\n",
            "80/80 [==============================] - 33s 406ms/step - loss: 2.6796 - accuracy: 0.1566\n",
            "Epoch 3/40\n",
            "80/80 [==============================] - 33s 410ms/step - loss: 2.3684 - accuracy: 0.1876\n",
            "Epoch 4/40\n",
            "80/80 [==============================] - 34s 418ms/step - loss: 2.2577 - accuracy: 0.2152\n",
            "Epoch 5/40\n",
            "80/80 [==============================] - 33s 416ms/step - loss: 2.1462 - accuracy: 0.2545\n",
            "Epoch 6/40\n",
            "80/80 [==============================] - 33s 415ms/step - loss: 1.9772 - accuracy: 0.3159\n",
            "Epoch 7/40\n",
            "80/80 [==============================] - 33s 419ms/step - loss: 1.8901 - accuracy: 0.3320\n",
            "Epoch 8/40\n",
            "80/80 [==============================] - 33s 416ms/step - loss: 1.7804 - accuracy: 0.3757\n",
            "Epoch 9/40\n",
            "80/80 [==============================] - 33s 417ms/step - loss: 1.6362 - accuracy: 0.4367\n",
            "Epoch 10/40\n",
            "80/80 [==============================] - 33s 418ms/step - loss: 1.5417 - accuracy: 0.4670\n",
            "Epoch 11/40\n",
            "80/80 [==============================] - 34s 419ms/step - loss: 1.3346 - accuracy: 0.5460\n",
            "Epoch 12/40\n",
            "80/80 [==============================] - 34s 418ms/step - loss: 1.2128 - accuracy: 0.5944\n",
            "Epoch 13/40\n",
            "80/80 [==============================] - 33s 418ms/step - loss: 1.0443 - accuracy: 0.6566\n",
            "Epoch 14/40\n",
            "80/80 [==============================] - 33s 418ms/step - loss: 0.9279 - accuracy: 0.6932\n",
            "Epoch 15/40\n",
            "80/80 [==============================] - 33s 417ms/step - loss: 0.7669 - accuracy: 0.7486\n",
            "Epoch 16/40\n",
            "80/80 [==============================] - 34s 420ms/step - loss: 0.7230 - accuracy: 0.7687\n",
            "Epoch 17/40\n",
            "80/80 [==============================] - 34s 419ms/step - loss: 0.6737 - accuracy: 0.7891\n",
            "Epoch 18/40\n",
            "80/80 [==============================] - 34s 420ms/step - loss: 0.5647 - accuracy: 0.8186\n",
            "Epoch 19/40\n",
            "80/80 [==============================] - 33s 418ms/step - loss: 0.4538 - accuracy: 0.8659\n",
            "Epoch 20/40\n",
            "80/80 [==============================] - 34s 419ms/step - loss: 0.4290 - accuracy: 0.8678\n",
            "Epoch 21/40\n",
            "80/80 [==============================] - 34s 419ms/step - loss: 0.3924 - accuracy: 0.8788\n",
            "Epoch 22/40\n",
            "80/80 [==============================] - 34s 420ms/step - loss: 0.3512 - accuracy: 0.8926\n",
            "Epoch 23/40\n",
            "80/80 [==============================] - 34s 419ms/step - loss: 0.3737 - accuracy: 0.8816\n",
            "Epoch 24/40\n",
            "80/80 [==============================] - 34s 419ms/step - loss: 0.3606 - accuracy: 0.8883\n",
            "Epoch 25/40\n",
            "80/80 [==============================] - 34s 419ms/step - loss: 0.3220 - accuracy: 0.8973\n",
            "Epoch 26/40\n",
            "80/80 [==============================] - 34s 420ms/step - loss: 0.2804 - accuracy: 0.9162\n",
            "Epoch 27/40\n",
            "80/80 [==============================] - 34s 419ms/step - loss: 0.2801 - accuracy: 0.9107\n",
            "Epoch 28/40\n",
            "80/80 [==============================] - 34s 419ms/step - loss: 0.2075 - accuracy: 0.9402\n",
            "Epoch 29/40\n",
            "80/80 [==============================] - 34s 420ms/step - loss: 0.2005 - accuracy: 0.9386\n",
            "Epoch 30/40\n",
            "80/80 [==============================] - 33s 417ms/step - loss: 0.2400 - accuracy: 0.9245\n",
            "Epoch 31/40\n",
            "80/80 [==============================] - 34s 419ms/step - loss: 0.2345 - accuracy: 0.9260\n",
            "Epoch 32/40\n",
            "80/80 [==============================] - 34s 420ms/step - loss: 0.2027 - accuracy: 0.9347\n",
            "Epoch 33/40\n",
            "80/80 [==============================] - 34s 419ms/step - loss: 0.1898 - accuracy: 0.9445\n",
            "Epoch 34/40\n",
            "80/80 [==============================] - 34s 420ms/step - loss: 0.1830 - accuracy: 0.9390\n",
            "Epoch 35/40\n",
            "80/80 [==============================] - 34s 419ms/step - loss: 0.2167 - accuracy: 0.9312\n",
            "Epoch 36/40\n",
            "80/80 [==============================] - 34s 419ms/step - loss: 0.1974 - accuracy: 0.9386\n",
            "Epoch 37/40\n",
            "80/80 [==============================] - 33s 418ms/step - loss: 0.1624 - accuracy: 0.9493\n",
            "Epoch 38/40\n",
            "80/80 [==============================] - 34s 420ms/step - loss: 0.1628 - accuracy: 0.9477\n",
            "Epoch 39/40\n",
            "80/80 [==============================] - 34s 419ms/step - loss: 0.1380 - accuracy: 0.9520\n",
            "Epoch 40/40\n",
            "80/80 [==============================] - 34s 418ms/step - loss: 0.1789 - accuracy: 0.9426\n"
          ]
        }
      ]
    },
    {
      "cell_type": "code",
      "source": [
        "import matplotlib.pyplot as plt\n",
        "\n",
        "def plot_hist(hist):\n",
        "    plt.plot(hist.history[\"accuracy\"])\n",
        "    #plt.plot(hist.history[\"val_accuracy\"])\n",
        "    plt.title(\"model accuracy\")\n",
        "    plt.ylabel(\"accuracy\")\n",
        "    plt.xlabel(\"epoch\")\n",
        "    plt.legend([\"train\", \"validation\"], loc=\"upper left\")\n",
        "    plt.show()\n",
        "\n",
        "plot_hist(hist)"
      ],
      "metadata": {
        "id": "K9iF1f2sO5EU",
        "outputId": "b4938cd0-c387-42f7-ee51-53371b0a5d33",
        "colab": {
          "base_uri": "https://localhost:8080/",
          "height": 472
        }
      },
      "execution_count": null,
      "outputs": [
        {
          "output_type": "display_data",
          "data": {
            "text/plain": [
              "<Figure size 640x480 with 1 Axes>"
            ],
            "image/png": "[encoded data removed]"
          },
          "metadata": {}
        }
      ]
    },
    {
      "cell_type": "code",
      "source": [
        "preds = model_4.evaluate(test_x, test_y)\n",
        "print (\"Loss = \" + str(preds[0]))\n",
        "print (\"Test Accuracy = \" + str(preds[1]))"
      ],
      "metadata": {
        "id": "k5efSc_EO_RK",
        "outputId": "160eea30-621d-4360-921c-e730b657816d",
        "colab": {
          "base_uri": "https://localhost:8080/",
          "height": 200
        }
      },
      "execution_count": null,
      "outputs": [
        {
          "output_type": "error",
          "ename": "NameError",
          "evalue": "ignored",
          "traceback": [
            "\u001b[0;31m---------------------------------------------------------------------------\u001b[0m",
            "\u001b[0;31mNameError\u001b[0m                                 Traceback (most recent call last)",
            "\u001b[0;32m<ipython-input-12-04639ea5bcba>\u001b[0m in \u001b[0;36m<cell line: 1>\u001b[0;34m()\u001b[0m\n\u001b[0;32m----> 1\u001b[0;31m \u001b[0mpreds\u001b[0m \u001b[0;34m=\u001b[0m \u001b[0mmodel_4\u001b[0m\u001b[0;34m.\u001b[0m\u001b[0mevaluate\u001b[0m\u001b[0;34m(\u001b[0m\u001b[0mtest_x\u001b[0m\u001b[0;34m,\u001b[0m \u001b[0mtest_y\u001b[0m\u001b[0;34m)\u001b[0m\u001b[0;34m\u001b[0m\u001b[0;34m\u001b[0m\u001b[0m\n\u001b[0m\u001b[1;32m      2\u001b[0m \u001b[0mprint\u001b[0m \u001b[0;34m(\u001b[0m\u001b[0;34m\"Loss = \"\u001b[0m \u001b[0;34m+\u001b[0m \u001b[0mstr\u001b[0m\u001b[0;34m(\u001b[0m\u001b[0mpreds\u001b[0m\u001b[0;34m[\u001b[0m\u001b[0;36m0\u001b[0m\u001b[0;34m]\u001b[0m\u001b[0;34m)\u001b[0m\u001b[0;34m)\u001b[0m\u001b[0;34m\u001b[0m\u001b[0;34m\u001b[0m\u001b[0m\n\u001b[1;32m      3\u001b[0m \u001b[0mprint\u001b[0m \u001b[0;34m(\u001b[0m\u001b[0;34m\"Test Accuracy = \"\u001b[0m \u001b[0;34m+\u001b[0m \u001b[0mstr\u001b[0m\u001b[0;34m(\u001b[0m\u001b[0mpreds\u001b[0m\u001b[0;34m[\u001b[0m\u001b[0;36m1\u001b[0m\u001b[0;34m]\u001b[0m\u001b[0;34m)\u001b[0m\u001b[0;34m)\u001b[0m\u001b[0;34m\u001b[0m\u001b[0;34m\u001b[0m\u001b[0m\n",
            "\u001b[0;31mNameError\u001b[0m: name 'model_4' is not defined"
          ]
        }
      ]
    },
    {
      "cell_type": "markdown",
      "source": [
        "Finding the Mean Class Accuracy,F1 Scores,Average Precision,Average Recall (model 4)"
      ],
      "metadata": {
        "id": "WljukOJLPRgK"
      }
    },
    {
      "cell_type": "code",
      "source": [
        "from sklearn.metrics import precision_score, recall_score, f1_score\n",
        "\n",
        "test_loss, test_acc = model_4.evaluate(test_x, test_y)\n",
        "pred_labels = np.argmax(model_4.predict(test_x), axis=1)\n",
        "\n",
        "true_labels = np.argmax(test_y, axis=1)\n",
        "\n",
        "class_accuracies = []\n",
        "f1_scores = []\n",
        "avg_precisions = []\n",
        "avg_recalls = []\n",
        "\n",
        "for class_label in range(NUM_CLASSES):\n",
        "    class_indices = np.where(true_labels == class_label)[0]\n",
        "    class_pred_labels = pred_labels[class_indices]\n",
        "    class_true_labels = true_labels[class_indices]\n",
        "\n",
        "    # Calculate class accuracy\n",
        "    class_accuracy = np.mean(class_pred_labels == class_true_labels)\n",
        "    class_accuracies.append(class_accuracy)\n",
        "\n",
        "    # Calculate F1 score\n",
        "    class_f1_score = f1_score(class_true_labels, class_pred_labels, pos_label=class_label)\n",
        "    f1_scores.append(class_f1_score)\n",
        "\n",
        "    # Calculate precision\n",
        "    class_precision = precision_score(class_true_labels, class_pred_labels, pos_label=class_label)\n",
        "    avg_precisions.append(class_precision)\n",
        "\n",
        "    # Calculate recall\n",
        "    class_recall = recall_score(class_true_labels, class_pred_labels, pos_label=class_label)\n",
        "    avg_recalls.append(class_recall)\n",
        "\n",
        "mean_class_accuracy = np.mean(class_accuracies)\n",
        "mean_f1_score = np.mean(f1_scores)\n",
        "mean_precision = np.mean(avg_precisions)\n",
        "mean_recall = np.mean(avg_recalls)\n",
        "\n",
        "print(\"Mean Class Accuracy:\", mean_class_accuracy)\n",
        "print(\"Mean F1 Score:\", mean_f1_score)\n",
        "print(\"Mean Average Precision:\", mean_precision)\n",
        "print(\"Mean Average Recall:\", mean_recall)\n"
      ],
      "metadata": {
        "id": "5sQRLXoJPT_I",
        "outputId": "eae1fddb-6d4e-4683-c630-3ec0cdba734b",
        "colab": {
          "base_uri": "https://localhost:8080/"
        }
      },
      "execution_count": null,
      "outputs": [
        {
          "output_type": "stream",
          "name": "stdout",
          "text": [
            "5/5 [==============================] - 1s 84ms/step - loss: 0.0105 - accuracy: 1.0000\n",
            "5/5 [==============================] - 2s 98ms/step\n",
            "Mean Class Accuracy: 1.0\n",
            "Mean F1 Score: 1.0\n",
            "Mean Average Precision: 1.0\n",
            "Mean Average Recall: 1.0\n"
          ]
        }
      ]
    },
    {
      "cell_type": "markdown",
      "source": [
        "#Flipping augmentation with SGD optimizer (model 5)"
      ],
      "metadata": {
        "id": "-BKqT6nlRQVb"
      }
    },
    {
      "cell_type": "code",
      "source": [
        "from tensorflow.keras.applications import EfficientNetB1\n",
        "from tensorflow.keras.preprocessing.image import ImageDataGenerator\n",
        "from tensorflow.keras import layers\n",
        "import tensorflow as tf\n",
        "\n",
        "NUM_CLASSES = 9\n",
        "IMG_SIZE = 240\n",
        "\n",
        "train_datagen = ImageDataGenerator(\n",
        "    horizontal_flip=True,\n",
        "    vertical_flip=True\n",
        ")\n",
        "train_datagen.fit(train_x)\n",
        "\n",
        "train_generator = train_datagen.flow(\n",
        "    train_x,\n",
        "    train_y,\n",
        "    batch_size=32,\n",
        "    shuffle=True\n",
        ")\n",
        "\n",
        "inputs = layers.Input(shape=(IMG_SIZE, IMG_SIZE, 3))\n",
        "\n",
        "# Using model without transfer learning\n",
        "outputs = EfficientNetB1(include_top=True, weights=None, classes=NUM_CLASSES)(inputs)\n",
        "\n",
        "model_5 = tf.keras.Model(inputs, outputs)\n",
        "model_5.compile(optimizer=\"sgd\", loss='categorical_crossentropy', metrics=['accuracy'])\n",
        "model_5.summary()\n",
        "\n",
        "hist = model_5.fit(\n",
        "    train_generator,\n",
        "    steps_per_epoch=len(train_x) // 32,\n",
        "    epochs=40\n",
        ")\n"
      ],
      "metadata": {
        "id": "_yJqr6kARR8r",
        "outputId": "1c37d3eb-f65b-4955-e569-71b4e8667c6a",
        "colab": {
          "base_uri": "https://localhost:8080/"
        }
      },
      "execution_count": null,
      "outputs": [
        {
          "output_type": "stream",
          "name": "stdout",
          "text": [
            "Model: \"model_1\"\n",
            "_________________________________________________________________\n",
            " Layer (type)                Output Shape              Param #   \n",
            "=================================================================\n",
            " input_3 (InputLayer)        [(None, 240, 240, 3)]     0         \n",
            "                                                                 \n",
            " efficientnetb1 (Functional)  (None, 9)                6586768   \n",
            "                                                                 \n",
            "=================================================================\n",
            "Total params: 6,586,768\n",
            "Trainable params: 6,524,713\n",
            "Non-trainable params: 62,055\n",
            "_________________________________________________________________\n",
            "Epoch 1/40\n",
            "80/80 [==============================] - 62s 421ms/step - loss: 3.0334 - accuracy: 0.1192\n",
            "Epoch 2/40\n",
            "80/80 [==============================] - 34s 423ms/step - loss: 2.7986 - accuracy: 0.1208\n",
            "Epoch 3/40\n",
            "80/80 [==============================] - 34s 419ms/step - loss: 2.8546 - accuracy: 0.1377\n",
            "Epoch 4/40\n",
            "80/80 [==============================] - 34s 421ms/step - loss: 2.6319 - accuracy: 0.1259\n",
            "Epoch 5/40\n",
            "80/80 [==============================] - 34s 421ms/step - loss: 2.6213 - accuracy: 0.1322\n",
            "Epoch 6/40\n",
            "80/80 [==============================] - 34s 420ms/step - loss: 2.5993 - accuracy: 0.1310\n",
            "Epoch 7/40\n",
            "80/80 [==============================] - 34s 421ms/step - loss: 2.5372 - accuracy: 0.1424\n",
            "Epoch 8/40\n",
            "80/80 [==============================] - 34s 421ms/step - loss: 2.5368 - accuracy: 0.1456\n",
            "Epoch 9/40\n",
            "80/80 [==============================] - 34s 421ms/step - loss: 2.5843 - accuracy: 0.1400\n",
            "Epoch 10/40\n",
            "80/80 [==============================] - 34s 421ms/step - loss: 2.4710 - accuracy: 0.1585\n",
            "Epoch 11/40\n",
            "80/80 [==============================] - 34s 419ms/step - loss: 2.4583 - accuracy: 0.1703\n",
            "Epoch 12/40\n",
            "80/80 [==============================] - 34s 421ms/step - loss: 2.4608 - accuracy: 0.1703\n",
            "Epoch 13/40\n",
            "80/80 [==============================] - 34s 420ms/step - loss: 2.3671 - accuracy: 0.1613\n",
            "Epoch 14/40\n",
            "80/80 [==============================] - 34s 420ms/step - loss: 2.4199 - accuracy: 0.1672\n",
            "Epoch 15/40\n",
            "80/80 [==============================] - 34s 422ms/step - loss: 2.4410 - accuracy: 0.1593\n",
            "Epoch 16/40\n",
            "80/80 [==============================] - 34s 419ms/step - loss: 2.4350 - accuracy: 0.1574\n",
            "Epoch 17/40\n",
            "80/80 [==============================] - 34s 420ms/step - loss: 2.3997 - accuracy: 0.1774\n",
            "Epoch 18/40\n",
            "80/80 [==============================] - 34s 421ms/step - loss: 2.3606 - accuracy: 0.1711\n",
            "Epoch 19/40\n",
            "80/80 [==============================] - 34s 420ms/step - loss: 2.3759 - accuracy: 0.1762\n",
            "Epoch 20/40\n",
            "80/80 [==============================] - 34s 420ms/step - loss: 2.2989 - accuracy: 0.1739\n",
            "Epoch 21/40\n",
            "80/80 [==============================] - 34s 422ms/step - loss: 2.3999 - accuracy: 0.1802\n",
            "Epoch 22/40\n",
            "80/80 [==============================] - 34s 420ms/step - loss: 2.3083 - accuracy: 0.2034\n",
            "Epoch 23/40\n",
            "80/80 [==============================] - 34s 420ms/step - loss: 2.2928 - accuracy: 0.1975\n",
            "Epoch 24/40\n",
            "80/80 [==============================] - 34s 421ms/step - loss: 2.2313 - accuracy: 0.2057\n",
            "Epoch 25/40\n",
            "80/80 [==============================] - 34s 419ms/step - loss: 2.2493 - accuracy: 0.2242\n",
            "Epoch 26/40\n",
            "80/80 [==============================] - 34s 421ms/step - loss: 2.2274 - accuracy: 0.2325\n",
            "Epoch 27/40\n",
            "80/80 [==============================] - 34s 419ms/step - loss: 2.1951 - accuracy: 0.2329\n",
            "Epoch 28/40\n",
            "80/80 [==============================] - 34s 421ms/step - loss: 2.1597 - accuracy: 0.2514\n",
            "Epoch 29/40\n",
            "80/80 [==============================] - 34s 423ms/step - loss: 2.1515 - accuracy: 0.2557\n",
            "Epoch 30/40\n",
            "80/80 [==============================] - 34s 422ms/step - loss: 2.1449 - accuracy: 0.2596\n",
            "Epoch 31/40\n",
            "80/80 [==============================] - 34s 421ms/step - loss: 2.1341 - accuracy: 0.2726\n",
            "Epoch 32/40\n",
            "80/80 [==============================] - 34s 420ms/step - loss: 2.1092 - accuracy: 0.2742\n",
            "Epoch 33/40\n",
            "80/80 [==============================] - 34s 420ms/step - loss: 2.0856 - accuracy: 0.2825\n",
            "Epoch 34/40\n",
            "80/80 [==============================] - 34s 423ms/step - loss: 2.0110 - accuracy: 0.2982\n",
            "Epoch 35/40\n",
            "80/80 [==============================] - 34s 421ms/step - loss: 1.9652 - accuracy: 0.3065\n",
            "Epoch 36/40\n",
            "80/80 [==============================] - 34s 420ms/step - loss: 1.9762 - accuracy: 0.3194\n",
            "Epoch 37/40\n",
            "80/80 [==============================] - 34s 423ms/step - loss: 1.9838 - accuracy: 0.3265\n",
            "Epoch 38/40\n",
            "80/80 [==============================] - 34s 421ms/step - loss: 1.9402 - accuracy: 0.3387\n",
            "Epoch 39/40\n",
            "80/80 [==============================] - 34s 420ms/step - loss: 1.8893 - accuracy: 0.3489\n",
            "Epoch 40/40\n",
            "80/80 [==============================] - 34s 421ms/step - loss: 1.9253 - accuracy: 0.3403\n"
          ]
        }
      ]
    },
    {
      "cell_type": "code",
      "source": [
        "import matplotlib.pyplot as plt\n",
        "\n",
        "def plot_hist(hist):\n",
        "    plt.plot(hist.history[\"accuracy\"])\n",
        "    #plt.plot(hist.history[\"val_accuracy\"])\n",
        "    plt.title(\"model accuracy\")\n",
        "    plt.ylabel(\"accuracy\")\n",
        "    plt.xlabel(\"epoch\")\n",
        "    plt.legend([\"train\", \"validation\"], loc=\"upper left\")\n",
        "    plt.show()\n",
        "\n",
        "plot_hist(hist)"
      ],
      "metadata": {
        "colab": {
          "base_uri": "https://localhost:8080/",
          "height": 472
        },
        "id": "9FdDr_7zWcgz",
        "outputId": "2f6dedbb-e6cf-49f9-c42a-3885153f8697"
      },
      "execution_count": null,
      "outputs": [
        {
          "output_type": "display_data",
          "data": {
            "text/plain": [
              "<Figure size 640x480 with 1 Axes>"
            ],
            "image/png": "[encoded data removed]"
          },
          "metadata": {}
        }
      ]
    },
    {
      "cell_type": "code",
      "source": [
        "preds = model_5.evaluate(test_x, test_y)\n",
        "print (\"Loss = \" + str(preds[0]))\n",
        "print (\"Test Accuracy = \" + str(preds[1]))"
      ],
      "metadata": {
        "colab": {
          "base_uri": "https://localhost:8080/"
        },
        "id": "oqRQ0x8RWibS",
        "outputId": "c4adf92e-d52a-46c5-def5-3fcd24e7e532"
      },
      "execution_count": null,
      "outputs": [
        {
          "output_type": "stream",
          "name": "stdout",
          "text": [
            "5/5 [==============================] - 2s 85ms/step - loss: 2.5651 - accuracy: 0.2721\n",
            "Loss = 2.5650577545166016\n",
            "Test Accuracy = 0.2720588147640228\n"
          ]
        }
      ]
    },
    {
      "cell_type": "markdown",
      "source": [
        "Finding the Mean Class Accuracy,F1 Scores,Average Precision,Average Recall (model 5)"
      ],
      "metadata": {
        "id": "VWKkUkBmWnTS"
      }
    },
    {
      "cell_type": "code",
      "source": [
        "from sklearn.metrics import precision_score, recall_score, f1_score\n",
        "\n",
        "test_loss, test_acc = model_5.evaluate(test_x, test_y)\n",
        "pred_labels = np.argmax(model_5.predict(test_x), axis=1)\n",
        "true_labels = np.argmax(test_y, axis=1)\n",
        "\n",
        "class_accuracies = []\n",
        "avg_precisions = []\n",
        "avg_recalls = []\n",
        "f1_scores = []\n",
        "\n",
        "for class_label in range(NUM_CLASSES):\n",
        "    class_indices = np.where(true_labels == class_label)[0]\n",
        "    class_pred_labels = pred_labels[class_indices]\n",
        "    class_true_labels = true_labels[class_indices]\n",
        "\n",
        "    # Calculate class accuracy\n",
        "    class_accuracy = np.mean(class_pred_labels == class_true_labels)\n",
        "    class_accuracies.append(class_accuracy)\n",
        "\n",
        "    # Calculate precision\n",
        "    class_precision = precision_score(class_true_labels, class_pred_labels, average='macro', zero_division=0)\n",
        "    avg_precisions.append(class_precision)\n",
        "\n",
        "    # Calculate recall\n",
        "    class_recall = recall_score(class_true_labels, class_pred_labels, average='macro', zero_division=0)\n",
        "    avg_recalls.append(class_recall)\n",
        "\n",
        "    # Calculate F1 score\n",
        "    class_f1_score = f1_score(class_true_labels, class_pred_labels, average='macro', zero_division=0)\n",
        "    f1_scores.append(class_f1_score)\n",
        "\n",
        "mean_class_accuracy = np.mean(class_accuracies)\n",
        "mean_precision = np.mean(avg_precisions)\n",
        "mean_recall = np.mean(avg_recalls)\n",
        "mean_f1_score = np.mean(f1_scores)\n",
        "\n",
        "print(\"Mean Class Accuracy:\", mean_class_accuracy)\n",
        "print(\"Mean F1 Score:\", mean_f1_score)\n",
        "print(\"Mean Average Precision:\", mean_precision)\n",
        "print(\"Mean Average Recall:\", mean_recall)\n",
        "\n"
      ],
      "metadata": {
        "colab": {
          "base_uri": "https://localhost:8080/"
        },
        "id": "ksNOtoFKWr1a",
        "outputId": "1755b135-0178-4cdc-f6cc-b59b0f6eeafd"
      },
      "execution_count": null,
      "outputs": [
        {
          "output_type": "stream",
          "name": "stdout",
          "text": [
            "5/5 [==============================] - 0s 83ms/step - loss: 2.5651 - accuracy: 0.2721\n",
            "5/5 [==============================] - 0s 84ms/step\n",
            "Mean Class Accuracy: 0.2896619751692215\n",
            "Mean F1 Score: 0.12454774372387033\n",
            "Mean Average Precision: 0.26402116402116405\n",
            "Mean Average Recall: 0.0949331666722971\n"
          ]
        }
      ]
    },
    {
      "cell_type": "markdown",
      "source": [
        "#Flipping augmentation with RMSprop optimizer (model 6)"
      ],
      "metadata": {
        "id": "V8FYVgeqpMOR"
      }
    },
    {
      "cell_type": "code",
      "source": [
        "from tensorflow.keras.applications import EfficientNetB1\n",
        "from tensorflow.keras.preprocessing.image import ImageDataGenerator\n",
        "from tensorflow.keras import layers\n",
        "import tensorflow as tf\n",
        "\n",
        "NUM_CLASSES = 9\n",
        "IMG_SIZE = 240\n",
        "\n",
        "train_datagen = ImageDataGenerator(\n",
        "    horizontal_flip=True,\n",
        "    vertical_flip=True\n",
        ")\n",
        "train_datagen.fit(train_x)\n",
        "\n",
        "train_generator = train_datagen.flow(\n",
        "    train_x,\n",
        "    train_y,\n",
        "    batch_size=32,\n",
        "    shuffle=True\n",
        ")\n",
        "\n",
        "inputs = layers.Input(shape=(IMG_SIZE, IMG_SIZE, 3))\n",
        "\n",
        "# Using model without transfer learning\n",
        "outputs = EfficientNetB1(include_top=True, weights=None, classes=NUM_CLASSES)(inputs)\n",
        "\n",
        "model_6 = tf.keras.Model(inputs, outputs)\n",
        "\n",
        "# Create RMSprop optimizer\n",
        "optimizer = tf.keras.optimizers.RMSprop(learning_rate=0.001, rho=0.9)\n",
        "\n",
        "model_6.compile(optimizer=optimizer, loss='categorical_crossentropy', metrics=['accuracy'])\n",
        "model_6.summary()\n",
        "\n",
        "hist = model_6.fit(\n",
        "    train_generator,\n",
        "    steps_per_epoch=len(train_x) // 32,\n",
        "    epochs=40\n",
        ")\n"
      ],
      "metadata": {
        "colab": {
          "base_uri": "https://localhost:8080/"
        },
        "id": "PuNApHsqpkTC",
        "outputId": "43f56f59-fc7a-4f41-f893-edb068fe9d2e"
      },
      "execution_count": null,
      "outputs": [
        {
          "output_type": "stream",
          "name": "stdout",
          "text": [
            "Model: \"model_2\"\n",
            "_________________________________________________________________\n",
            " Layer (type)                Output Shape              Param #   \n",
            "=================================================================\n",
            " input_5 (InputLayer)        [(None, 240, 240, 3)]     0         \n",
            "                                                                 \n",
            " efficientnetb1 (Functional)  (None, 9)                6586768   \n",
            "                                                                 \n",
            "=================================================================\n",
            "Total params: 6,586,768\n",
            "Trainable params: 6,524,713\n",
            "Non-trainable params: 62,055\n",
            "_________________________________________________________________\n",
            "Epoch 1/40\n",
            "80/80 [==============================] - 84s 416ms/step - loss: 3.5462 - accuracy: 0.1306\n",
            "Epoch 2/40\n",
            "80/80 [==============================] - 34s 422ms/step - loss: 2.4397 - accuracy: 0.1790\n",
            "Epoch 3/40\n",
            "80/80 [==============================] - 34s 418ms/step - loss: 2.2047 - accuracy: 0.2396\n",
            "Epoch 4/40\n",
            "80/80 [==============================] - 34s 420ms/step - loss: 2.0961 - accuracy: 0.2793\n",
            "Epoch 5/40\n",
            "80/80 [==============================] - 34s 419ms/step - loss: 1.9141 - accuracy: 0.3371\n",
            "Epoch 6/40\n",
            "80/80 [==============================] - 34s 422ms/step - loss: 1.7044 - accuracy: 0.4044\n",
            "Epoch 7/40\n",
            "80/80 [==============================] - 34s 420ms/step - loss: 1.5242 - accuracy: 0.4752\n",
            "Epoch 8/40\n",
            "80/80 [==============================] - 34s 420ms/step - loss: 1.2880 - accuracy: 0.5421\n",
            "Epoch 9/40\n",
            "80/80 [==============================] - 34s 421ms/step - loss: 1.1140 - accuracy: 0.6322\n",
            "Epoch 10/40\n",
            "80/80 [==============================] - 34s 421ms/step - loss: 0.9418 - accuracy: 0.6888\n",
            "Epoch 11/40\n",
            "80/80 [==============================] - 34s 420ms/step - loss: 0.8231 - accuracy: 0.7447\n",
            "Epoch 12/40\n",
            "80/80 [==============================] - 34s 420ms/step - loss: 0.7165 - accuracy: 0.7628\n",
            "Epoch 13/40\n",
            "80/80 [==============================] - 34s 420ms/step - loss: 0.6178 - accuracy: 0.8025\n",
            "Epoch 14/40\n",
            "80/80 [==============================] - 34s 420ms/step - loss: 0.5580 - accuracy: 0.8297\n",
            "Epoch 15/40\n",
            "80/80 [==============================] - 34s 421ms/step - loss: 0.4995 - accuracy: 0.8399\n",
            "Epoch 16/40\n",
            "80/80 [==============================] - 34s 420ms/step - loss: 0.4146 - accuracy: 0.8647\n",
            "Epoch 17/40\n",
            "80/80 [==============================] - 34s 420ms/step - loss: 0.4066 - accuracy: 0.8698\n",
            "Epoch 18/40\n",
            "80/80 [==============================] - 34s 420ms/step - loss: 0.3666 - accuracy: 0.8899\n",
            "Epoch 19/40\n",
            "80/80 [==============================] - 34s 420ms/step - loss: 0.3329 - accuracy: 0.8891\n",
            "Epoch 20/40\n",
            "80/80 [==============================] - 34s 420ms/step - loss: 0.2682 - accuracy: 0.9158\n",
            "Epoch 21/40\n",
            "80/80 [==============================] - 34s 420ms/step - loss: 0.2959 - accuracy: 0.9072\n",
            "Epoch 22/40\n",
            "80/80 [==============================] - 34s 421ms/step - loss: 0.2933 - accuracy: 0.9032\n",
            "Epoch 23/40\n",
            "80/80 [==============================] - 34s 420ms/step - loss: 0.2717 - accuracy: 0.9111\n",
            "Epoch 24/40\n",
            "80/80 [==============================] - 34s 420ms/step - loss: 0.2585 - accuracy: 0.9150\n",
            "Epoch 25/40\n",
            "80/80 [==============================] - 34s 420ms/step - loss: 0.2638 - accuracy: 0.9249\n",
            "Epoch 26/40\n",
            "80/80 [==============================] - 34s 420ms/step - loss: 0.2241 - accuracy: 0.9335\n",
            "Epoch 27/40\n",
            "80/80 [==============================] - 34s 423ms/step - loss: 0.1958 - accuracy: 0.9414\n",
            "Epoch 28/40\n",
            "80/80 [==============================] - 34s 420ms/step - loss: 0.2015 - accuracy: 0.9323\n",
            "Epoch 29/40\n",
            "80/80 [==============================] - 34s 419ms/step - loss: 0.1990 - accuracy: 0.9375\n",
            "Epoch 30/40\n",
            "80/80 [==============================] - 34s 421ms/step - loss: 0.1793 - accuracy: 0.9449\n",
            "Epoch 31/40\n",
            "80/80 [==============================] - 34s 421ms/step - loss: 0.1632 - accuracy: 0.9485\n",
            "Epoch 32/40\n",
            "80/80 [==============================] - 34s 420ms/step - loss: 0.1614 - accuracy: 0.9453\n",
            "Epoch 33/40\n",
            "80/80 [==============================] - 34s 422ms/step - loss: 0.1567 - accuracy: 0.9469\n",
            "Epoch 34/40\n",
            "80/80 [==============================] - 34s 420ms/step - loss: 0.1718 - accuracy: 0.9457\n",
            "Epoch 35/40\n",
            "80/80 [==============================] - 34s 420ms/step - loss: 0.1870 - accuracy: 0.9410\n",
            "Epoch 36/40\n",
            "80/80 [==============================] - 34s 421ms/step - loss: 0.1823 - accuracy: 0.9465\n",
            "Epoch 37/40\n",
            "80/80 [==============================] - 34s 419ms/step - loss: 0.1525 - accuracy: 0.9528\n",
            "Epoch 38/40\n",
            "80/80 [==============================] - 34s 420ms/step - loss: 0.1264 - accuracy: 0.9614\n",
            "Epoch 39/40\n",
            "80/80 [==============================] - 34s 420ms/step - loss: 0.1521 - accuracy: 0.9567\n",
            "Epoch 40/40\n",
            "80/80 [==============================] - 34s 421ms/step - loss: 0.1141 - accuracy: 0.9650\n"
          ]
        }
      ]
    },
    {
      "cell_type": "code",
      "source": [
        "import matplotlib.pyplot as plt\n",
        "\n",
        "def plot_hist(hist):\n",
        "    plt.plot(hist.history[\"accuracy\"])\n",
        "    #plt.plot(hist.history[\"val_accuracy\"])\n",
        "    plt.title(\"model accuracy\")\n",
        "    plt.ylabel(\"accuracy\")\n",
        "    plt.xlabel(\"epoch\")\n",
        "    plt.legend([\"train\", \"validation\"], loc=\"upper left\")\n",
        "    plt.show()\n",
        "\n",
        "plot_hist(hist)"
      ],
      "metadata": {
        "colab": {
          "base_uri": "https://localhost:8080/",
          "height": 472
        },
        "id": "933IGMcOp-7S",
        "outputId": "cfa08b31-a0ef-4606-ec99-845b4ca0312f"
      },
      "execution_count": null,
      "outputs": [
        {
          "output_type": "display_data",
          "data": {
            "text/plain": [
              "<Figure size 640x480 with 1 Axes>"
            ],
            "image/png": "[encoded data removed]"
          },
          "metadata": {}
        }
      ]
    },
    {
      "cell_type": "code",
      "source": [
        "preds = model_6.evaluate(test_x, test_y)\n",
        "print (\"Loss = \" + str(preds[0]))\n",
        "print (\"Test Accuracy = \" + str(preds[1]))"
      ],
      "metadata": {
        "colab": {
          "base_uri": "https://localhost:8080/"
        },
        "id": "dtKLmYW_p_Ep",
        "outputId": "cb0f1f9b-b209-474a-e495-b0563381f709"
      },
      "execution_count": null,
      "outputs": [
        {
          "output_type": "stream",
          "name": "stdout",
          "text": [
            "5/5 [==============================] - 1s 92ms/step - loss: 0.0628 - accuracy: 0.9779\n",
            "Loss = 0.06281973421573639\n",
            "Test Accuracy = 0.9779411554336548\n"
          ]
        }
      ]
    },
    {
      "cell_type": "markdown",
      "source": [
        "Finding the Mean Class Accuracy,F1 Scores,Average Precision,Average Recall (model 6)"
      ],
      "metadata": {
        "id": "f_xJr8W7qPVB"
      }
    },
    {
      "cell_type": "code",
      "source": [
        "from sklearn.metrics import precision_score, recall_score, f1_score\n",
        "\n",
        "test_loss, test_acc = model_6.evaluate(test_x, test_y)\n",
        "pred_labels = np.argmax(model_6.predict(test_x), axis=1)\n",
        "\n",
        "true_labels = np.argmax(test_y, axis=1)\n",
        "\n",
        "class_accuracies = []\n",
        "f1_scores = []\n",
        "avg_precisions = []\n",
        "avg_recalls = []\n",
        "\n",
        "for class_label in range(NUM_CLASSES):\n",
        "    class_indices = np.where(true_labels == class_label)[0]\n",
        "    class_pred_labels = pred_labels[class_indices]\n",
        "    class_true_labels = true_labels[class_indices]\n",
        "\n",
        "    # Calculate class accuracy\n",
        "    class_accuracy = np.mean(class_pred_labels == class_true_labels)\n",
        "    class_accuracies.append(class_accuracy)\n",
        "\n",
        "    # Calculate F1 score\n",
        "    class_f1_score = f1_score(class_true_labels, class_pred_labels, pos_label=class_label)\n",
        "    f1_scores.append(class_f1_score)\n",
        "\n",
        "    # Calculate precision\n",
        "    class_precision = precision_score(class_true_labels, class_pred_labels, pos_label=class_label)\n",
        "    avg_precisions.append(class_precision)\n",
        "\n",
        "    # Calculate recall\n",
        "    class_recall = recall_score(class_true_labels, class_pred_labels, pos_label=class_label)\n",
        "    avg_recalls.append(class_recall)\n",
        "\n",
        "mean_class_accuracy = np.mean(class_accuracies)\n",
        "mean_f1_score = np.mean(f1_scores)\n",
        "mean_precision = np.mean(avg_precisions)\n",
        "mean_recall = np.mean(avg_recalls)\n",
        "\n",
        "print(\"Mean Class Accuracy:\", mean_class_accuracy)\n",
        "print(\"Mean F1 Score:\", mean_f1_score)\n",
        "print(\"Mean Average Precision:\", mean_precision)\n",
        "print(\"Mean Average Recall:\", mean_recall)\n",
        "\n"
      ],
      "metadata": {
        "colab": {
          "base_uri": "https://localhost:8080/"
        },
        "id": "zyf3Ln58qPd2",
        "outputId": "ab2f4973-903d-414c-d61a-f10164d3aaee"
      },
      "execution_count": null,
      "outputs": [
        {
          "output_type": "stream",
          "name": "stdout",
          "text": [
            "5/5 [==============================] - 1s 92ms/step - loss: 0.0628 - accuracy: 0.9779\n",
            "5/5 [==============================] - 2s 99ms/step\n",
            "Mean Class Accuracy: 0.9790123456790124\n",
            "Mean F1 Score: 0.9891625615763547\n",
            "Mean Average Precision: 1.0\n",
            "Mean Average Recall: 0.9790123456790124\n"
          ]
        }
      ]
    },
    {
      "cell_type": "markdown",
      "source": [
        "#Brightness Augmentation with Adam optimizer (model 7)"
      ],
      "metadata": {
        "id": "mA4-5vSIygVT"
      }
    },
    {
      "cell_type": "code",
      "source": [
        "from tensorflow.keras.applications import EfficientNetB1\n",
        "from tensorflow.keras.preprocessing.image import ImageDataGenerator\n",
        "from tensorflow.keras import layers\n",
        "import tensorflow as tf\n",
        "\n",
        "NUM_CLASSES = 9\n",
        "IMG_SIZE = 240\n",
        "\n",
        "train_datagen = ImageDataGenerator(\n",
        "\n",
        "    brightness_range=[0.8, 1.2]  # Adjust brightness range for contrast augmentation\n",
        ")\n",
        "train_datagen.fit(train_x)\n",
        "\n",
        "train_generator = train_datagen.flow(\n",
        "    train_x,\n",
        "    train_y,\n",
        "    batch_size=32,\n",
        "    shuffle=True\n",
        ")\n",
        "\n",
        "inputs = layers.Input(shape=(IMG_SIZE, IMG_SIZE, 3))\n",
        "\n",
        "# Using model without transfer learning\n",
        "outputs = EfficientNetB1(include_top=True, weights=None, classes=NUM_CLASSES)(inputs)\n",
        "\n",
        "model_7 = tf.keras.Model(inputs, outputs)\n",
        "model_7.compile(optimizer='adam', loss='categorical_crossentropy', metrics=['accuracy'])\n",
        "model_7.summary()\n",
        "\n",
        "hist = model_7.fit(\n",
        "    train_generator,\n",
        "    steps_per_epoch=len(train_x) // 32,\n",
        "    epochs=40\n",
        ")\n"
      ],
      "metadata": {
        "colab": {
          "base_uri": "https://localhost:8080/"
        },
        "id": "q4PyMWEFWax9",
        "outputId": "3c24d80b-c59a-4f4b-d0ee-a004ef7cfea6"
      },
      "execution_count": null,
      "outputs": [
        {
          "output_type": "stream",
          "name": "stdout",
          "text": [
            "Model: \"model_2\"\n",
            "_________________________________________________________________\n",
            " Layer (type)                Output Shape              Param #   \n",
            "=================================================================\n",
            " input_5 (InputLayer)        [(None, 240, 240, 3)]     0         \n",
            "                                                                 \n",
            " efficientnetb1 (Functional)  (None, 9)                6586768   \n",
            "                                                                 \n",
            "=================================================================\n",
            "Total params: 6,586,768\n",
            "Trainable params: 6,524,713\n",
            "Non-trainable params: 62,055\n",
            "_________________________________________________________________\n",
            "Epoch 1/40\n",
            "80/80 [==============================] - 104s 413ms/step - loss: 3.6374 - accuracy: 0.1058\n",
            "Epoch 2/40\n",
            "80/80 [==============================] - 33s 411ms/step - loss: 2.8609 - accuracy: 0.1129\n",
            "Epoch 3/40\n",
            "80/80 [==============================] - 33s 411ms/step - loss: 2.5778 - accuracy: 0.1176\n",
            "Epoch 4/40\n",
            "80/80 [==============================] - 33s 415ms/step - loss: 2.3965 - accuracy: 0.1263\n",
            "Epoch 5/40\n",
            "80/80 [==============================] - 33s 415ms/step - loss: 2.3347 - accuracy: 0.1062\n",
            "Epoch 6/40\n",
            "80/80 [==============================] - 33s 416ms/step - loss: 2.3151 - accuracy: 0.1003\n",
            "Epoch 7/40\n",
            "80/80 [==============================] - 34s 426ms/step - loss: 2.3001 - accuracy: 0.1164\n",
            "Epoch 8/40\n",
            "80/80 [==============================] - 34s 418ms/step - loss: 2.3042 - accuracy: 0.1172\n",
            "Epoch 9/40\n",
            "80/80 [==============================] - 34s 421ms/step - loss: 2.2803 - accuracy: 0.1164\n",
            "Epoch 10/40\n",
            "80/80 [==============================] - 34s 420ms/step - loss: 2.2742 - accuracy: 0.1196\n",
            "Epoch 11/40\n",
            "80/80 [==============================] - 34s 421ms/step - loss: 2.2537 - accuracy: 0.1090\n",
            "Epoch 12/40\n",
            "80/80 [==============================] - 34s 421ms/step - loss: 2.2454 - accuracy: 0.1168\n",
            "Epoch 13/40\n",
            "80/80 [==============================] - 34s 420ms/step - loss: 2.2231 - accuracy: 0.1247\n",
            "Epoch 14/40\n",
            "80/80 [==============================] - 34s 420ms/step - loss: 2.2278 - accuracy: 0.1212\n",
            "Epoch 15/40\n",
            "80/80 [==============================] - 34s 420ms/step - loss: 2.2116 - accuracy: 0.1259\n",
            "Epoch 16/40\n",
            "80/80 [==============================] - 34s 421ms/step - loss: 2.2180 - accuracy: 0.1192\n",
            "Epoch 17/40\n",
            "80/80 [==============================] - 34s 420ms/step - loss: 2.2167 - accuracy: 0.1306\n",
            "Epoch 18/40\n",
            "80/80 [==============================] - 34s 421ms/step - loss: 2.2056 - accuracy: 0.1310\n",
            "Epoch 19/40\n",
            "80/80 [==============================] - 34s 419ms/step - loss: 2.2040 - accuracy: 0.1479\n",
            "Epoch 20/40\n",
            "80/80 [==============================] - 34s 420ms/step - loss: 2.1985 - accuracy: 0.1369\n",
            "Epoch 21/40\n",
            "80/80 [==============================] - 34s 420ms/step - loss: 2.1882 - accuracy: 0.1404\n",
            "Epoch 22/40\n",
            "80/80 [==============================] - 34s 422ms/step - loss: 2.1793 - accuracy: 0.1353\n",
            "Epoch 23/40\n",
            "80/80 [==============================] - 34s 420ms/step - loss: 2.1839 - accuracy: 0.1448\n",
            "Epoch 24/40\n",
            "80/80 [==============================] - 34s 419ms/step - loss: 2.1516 - accuracy: 0.1668\n",
            "Epoch 25/40\n",
            "80/80 [==============================] - 34s 419ms/step - loss: 2.1335 - accuracy: 0.1672\n",
            "Epoch 26/40\n",
            "80/80 [==============================] - 34s 420ms/step - loss: 2.1476 - accuracy: 0.1652\n",
            "Epoch 27/40\n",
            "80/80 [==============================] - 34s 420ms/step - loss: 2.1030 - accuracy: 0.1774\n",
            "Epoch 28/40\n",
            "80/80 [==============================] - 34s 421ms/step - loss: 2.0901 - accuracy: 0.1876\n",
            "Epoch 29/40\n",
            "80/80 [==============================] - 34s 420ms/step - loss: 2.0615 - accuracy: 0.1979\n",
            "Epoch 30/40\n",
            "80/80 [==============================] - 34s 420ms/step - loss: 2.0459 - accuracy: 0.2042\n",
            "Epoch 31/40\n",
            "80/80 [==============================] - 34s 421ms/step - loss: 2.0245 - accuracy: 0.2207\n",
            "Epoch 32/40\n",
            "80/80 [==============================] - 34s 422ms/step - loss: 1.9797 - accuracy: 0.2313\n",
            "Epoch 33/40\n",
            "80/80 [==============================] - 34s 420ms/step - loss: 1.9258 - accuracy: 0.2620\n",
            "Epoch 34/40\n",
            "80/80 [==============================] - 34s 420ms/step - loss: 1.9038 - accuracy: 0.2667\n",
            "Epoch 35/40\n",
            "80/80 [==============================] - 34s 420ms/step - loss: 1.8769 - accuracy: 0.2809\n",
            "Epoch 36/40\n",
            "80/80 [==============================] - 34s 420ms/step - loss: 1.8606 - accuracy: 0.2946\n",
            "Epoch 37/40\n",
            "80/80 [==============================] - 34s 421ms/step - loss: 1.7977 - accuracy: 0.3065\n",
            "Epoch 38/40\n",
            "80/80 [==============================] - 34s 418ms/step - loss: 1.7651 - accuracy: 0.3222\n",
            "Epoch 39/40\n",
            "80/80 [==============================] - 34s 421ms/step - loss: 1.7102 - accuracy: 0.3438\n",
            "Epoch 40/40\n",
            "80/80 [==============================] - 34s 419ms/step - loss: 1.7099 - accuracy: 0.3478\n"
          ]
        }
      ]
    },
    {
      "cell_type": "code",
      "source": [
        "import matplotlib.pyplot as plt\n",
        "\n",
        "def plot_hist(hist):\n",
        "    plt.plot(hist.history[\"accuracy\"])\n",
        "    #plt.plot(hist.history[\"val_accuracy\"])\n",
        "    plt.title(\"model accuracy\")\n",
        "    plt.ylabel(\"accuracy\")\n",
        "    plt.xlabel(\"epoch\")\n",
        "    plt.legend([\"train\", \"validation\"], loc=\"upper left\")\n",
        "    plt.show()\n",
        "\n",
        "plot_hist(hist)"
      ],
      "metadata": {
        "colab": {
          "base_uri": "https://localhost:8080/",
          "height": 472
        },
        "id": "qEEf2hZufru1",
        "outputId": "d95a01c2-feaa-4c7c-8292-4b0a6133a724"
      },
      "execution_count": null,
      "outputs": [
        {
          "output_type": "display_data",
          "data": {
            "text/plain": [
              "<Figure size 640x480 with 1 Axes>"
            ],
            "image/png": "[encoded data removed]"
          },
          "metadata": {}
        }
      ]
    },
    {
      "cell_type": "code",
      "source": [
        "preds = model_7.evaluate(test_x, test_y)\n",
        "print (\"Loss = \" + str(preds[0]))\n",
        "print (\"Test Accuracy = \" + str(preds[1]))"
      ],
      "metadata": {
        "colab": {
          "base_uri": "https://localhost:8080/"
        },
        "id": "O9FI7kwsWv58",
        "outputId": "c59ba329-be6c-4742-a8ff-d32b88ce24fc"
      },
      "execution_count": null,
      "outputs": [
        {
          "output_type": "stream",
          "name": "stdout",
          "text": [
            "5/5 [==============================] - 6s 93ms/step - loss: 3.5263 - accuracy: 0.2059\n",
            "Loss = 3.5262858867645264\n",
            "Test Accuracy = 0.20588235557079315\n"
          ]
        }
      ]
    },
    {
      "cell_type": "markdown",
      "source": [
        "###Finding the Mean Class Accuracy,F1 Scores,Average Precision,Average Recall (model 7)"
      ],
      "metadata": {
        "id": "8igztDawf7m4"
      }
    },
    {
      "cell_type": "code",
      "source": [
        "from sklearn.metrics import precision_score, recall_score, f1_score\n",
        "\n",
        "test_loss, test_acc = model_7.evaluate(test_x, test_y)\n",
        "pred_labels = np.argmax(model_7.predict(test_x), axis=1)\n",
        "\n",
        "true_labels = np.argmax(test_y, axis=1)\n",
        "\n",
        "class_accuracies = []\n",
        "f1_scores = []\n",
        "avg_precisions = []\n",
        "avg_recalls = []\n",
        "\n",
        "for class_label in range(NUM_CLASSES):\n",
        "    class_indices = np.where(true_labels == class_label)[0]\n",
        "    class_pred_labels = pred_labels[class_indices]\n",
        "    class_true_labels = true_labels[class_indices]\n",
        "\n",
        "    # Calculate class accuracy\n",
        "    class_accuracy = np.mean(class_pred_labels == class_true_labels)\n",
        "    class_accuracies.append(class_accuracy)\n",
        "\n",
        "    # Calculate F1 score\n",
        "    class_f1_score = f1_score(class_true_labels, class_pred_labels, average='weighted', zero_division=0)\n",
        "    f1_scores.append(class_f1_score)\n",
        "\n",
        "    # Calculate precision\n",
        "    class_precision = precision_score(class_true_labels, class_pred_labels, average='weighted', zero_division=0)\n",
        "    avg_precisions.append(class_precision)\n",
        "\n",
        "    # Calculate recall\n",
        "    class_recall = recall_score(class_true_labels, class_pred_labels, average='weighted', zero_division=0)\n",
        "    avg_recalls.append(class_recall)\n",
        "\n",
        "mean_class_accuracy = np.mean(class_accuracies)\n",
        "mean_f1_score = np.mean(f1_scores)\n",
        "mean_precision = np.mean(avg_precisions)\n",
        "mean_recall = np.mean(avg_recalls)\n",
        "\n",
        "print(\"Mean Class Accuracy:\", mean_class_accuracy)\n",
        "print(\"Mean F1 Score:\", mean_f1_score)\n",
        "print(\"Mean Average Precision:\", mean_precision)\n",
        "print(\"Mean Average Recall:\", mean_recall)\n"
      ],
      "metadata": {
        "colab": {
          "base_uri": "https://localhost:8080/"
        },
        "id": "eYoz0tqDWv_L",
        "outputId": "712c06be-ab63-41f6-ca03-bc321395552f"
      },
      "execution_count": null,
      "outputs": [
        {
          "output_type": "stream",
          "name": "stdout",
          "text": [
            "5/5 [==============================] - 6s 86ms/step - loss: 2.1972 - accuracy: 0.1176\n",
            "5/5 [==============================] - 3s 100ms/step\n",
            "Mean Class Accuracy: 0.12250712250712249\n",
            "Mean F1 Score: 0.17500000000000002\n",
            "Mean Average Precision: 0.3333333333333333\n",
            "Mean Average Recall: 0.12250712250712249\n"
          ]
        }
      ]
    },
    {
      "cell_type": "markdown",
      "source": [
        "#Brightness Augmentation with SGD optimizer (model 8)"
      ],
      "metadata": {
        "id": "IDJS84xapWbu"
      }
    },
    {
      "cell_type": "code",
      "source": [
        "from tensorflow.keras.applications import EfficientNetB1\n",
        "from tensorflow.keras.preprocessing.image import ImageDataGenerator\n",
        "from tensorflow.keras import layers\n",
        "import tensorflow as tf\n",
        "\n",
        "NUM_CLASSES = 9\n",
        "IMG_SIZE = 240\n",
        "\n",
        "train_datagen = ImageDataGenerator(\n",
        "\n",
        "    brightness_range=[0.8, 1.2]  # Adjust brightness range for contrast augmentation\n",
        ")\n",
        "train_datagen.fit(train_x)\n",
        "\n",
        "train_generator = train_datagen.flow(\n",
        "    train_x,\n",
        "    train_y,\n",
        "    batch_size=32,\n",
        "    shuffle=True\n",
        ")\n",
        "\n",
        "inputs = layers.Input(shape=(IMG_SIZE, IMG_SIZE, 3))\n",
        "\n",
        "# Using model without transfer learning\n",
        "outputs = EfficientNetB1(include_top=True, weights=None, classes=NUM_CLASSES)(inputs)\n",
        "\n",
        "model_8 = tf.keras.Model(inputs, outputs)\n",
        "model_8.compile(optimizer='sgd', loss='categorical_crossentropy', metrics=['accuracy'])\n",
        "model_8.summary()\n",
        "\n",
        "hist = model_8.fit(\n",
        "    train_generator,\n",
        "    steps_per_epoch=len(train_x) // 32,\n",
        "    epochs=40\n",
        ")"
      ],
      "metadata": {
        "colab": {
          "base_uri": "https://localhost:8080/"
        },
        "id": "CmHi8gT8WwCD",
        "outputId": "d9b06a93-d242-4ca0-9e57-89f25a0092c8"
      },
      "execution_count": null,
      "outputs": [
        {
          "output_type": "stream",
          "name": "stdout",
          "text": [
            "Model: \"model_1\"\n",
            "_________________________________________________________________\n",
            " Layer (type)                Output Shape              Param #   \n",
            "=================================================================\n",
            " input_3 (InputLayer)        [(None, 240, 240, 3)]     0         \n",
            "                                                                 \n",
            " efficientnetb1 (Functional)  (None, 9)                6586768   \n",
            "                                                                 \n",
            "=================================================================\n",
            "Total params: 6,586,768\n",
            "Trainable params: 6,524,713\n",
            "Non-trainable params: 62,055\n",
            "_________________________________________________________________\n",
            "Epoch 1/40\n",
            "80/80 [==============================] - 75s 413ms/step - loss: 3.0639 - accuracy: 0.1129\n",
            "Epoch 2/40\n",
            "80/80 [==============================] - 33s 417ms/step - loss: 2.8552 - accuracy: 0.1113\n",
            "Epoch 3/40\n",
            "80/80 [==============================] - 35s 434ms/step - loss: 2.8611 - accuracy: 0.1137\n",
            "Epoch 4/40\n",
            "80/80 [==============================] - 34s 425ms/step - loss: 2.7881 - accuracy: 0.1090\n",
            "Epoch 5/40\n",
            "80/80 [==============================] - 34s 419ms/step - loss: 2.7046 - accuracy: 0.1137\n",
            "Epoch 6/40\n",
            "80/80 [==============================] - 34s 427ms/step - loss: 2.7094 - accuracy: 0.1078\n",
            "Epoch 7/40\n",
            "80/80 [==============================] - 33s 416ms/step - loss: 2.6954 - accuracy: 0.1145\n",
            "Epoch 8/40\n",
            "80/80 [==============================] - 33s 418ms/step - loss: 2.6733 - accuracy: 0.1306\n",
            "Epoch 9/40\n",
            "80/80 [==============================] - 33s 417ms/step - loss: 2.6275 - accuracy: 0.1141\n",
            "Epoch 10/40\n",
            "80/80 [==============================] - 33s 417ms/step - loss: 2.6721 - accuracy: 0.1086\n",
            "Epoch 11/40\n",
            "80/80 [==============================] - 33s 416ms/step - loss: 2.6537 - accuracy: 0.1109\n",
            "Epoch 12/40\n",
            "80/80 [==============================] - 33s 417ms/step - loss: 2.6009 - accuracy: 0.1109\n",
            "Epoch 13/40\n",
            "80/80 [==============================] - 33s 416ms/step - loss: 2.5774 - accuracy: 0.1082\n",
            "Epoch 14/40\n",
            "80/80 [==============================] - 33s 417ms/step - loss: 2.5701 - accuracy: 0.1184\n",
            "Epoch 15/40\n",
            "80/80 [==============================] - 34s 419ms/step - loss: 2.5855 - accuracy: 0.1141\n",
            "Epoch 16/40\n",
            "80/80 [==============================] - 33s 417ms/step - loss: 2.6128 - accuracy: 0.1164\n",
            "Epoch 17/40\n",
            "80/80 [==============================] - 33s 417ms/step - loss: 2.5648 - accuracy: 0.1196\n",
            "Epoch 18/40\n",
            "80/80 [==============================] - 34s 419ms/step - loss: 2.5371 - accuracy: 0.1109\n",
            "Epoch 19/40\n",
            "80/80 [==============================] - 34s 419ms/step - loss: 2.5623 - accuracy: 0.1086\n",
            "Epoch 20/40\n",
            "80/80 [==============================] - 33s 416ms/step - loss: 2.5613 - accuracy: 0.1039\n",
            "Epoch 21/40\n",
            "80/80 [==============================] - 34s 418ms/step - loss: 2.5319 - accuracy: 0.1129\n",
            "Epoch 22/40\n",
            "80/80 [==============================] - 34s 418ms/step - loss: 2.5691 - accuracy: 0.1141\n",
            "Epoch 23/40\n",
            "80/80 [==============================] - 33s 415ms/step - loss: 2.4657 - accuracy: 0.1161\n",
            "Epoch 24/40\n",
            "80/80 [==============================] - 34s 419ms/step - loss: 2.5484 - accuracy: 0.1074\n",
            "Epoch 25/40\n",
            "80/80 [==============================] - 33s 417ms/step - loss: 2.4396 - accuracy: 0.1204\n",
            "Epoch 26/40\n",
            "80/80 [==============================] - 33s 416ms/step - loss: 2.4776 - accuracy: 0.1078\n",
            "Epoch 27/40\n",
            "80/80 [==============================] - 34s 418ms/step - loss: 2.4678 - accuracy: 0.1212\n",
            "Epoch 28/40\n",
            "80/80 [==============================] - 33s 417ms/step - loss: 2.4920 - accuracy: 0.1062\n",
            "Epoch 29/40\n",
            "80/80 [==============================] - 33s 416ms/step - loss: 2.4788 - accuracy: 0.1117\n",
            "Epoch 30/40\n",
            "80/80 [==============================] - 34s 418ms/step - loss: 2.5155 - accuracy: 0.1039\n",
            "Epoch 31/40\n",
            "80/80 [==============================] - 33s 417ms/step - loss: 2.4459 - accuracy: 0.1121\n",
            "Epoch 32/40\n",
            "80/80 [==============================] - 33s 417ms/step - loss: 2.4575 - accuracy: 0.1086\n",
            "Epoch 33/40\n",
            "80/80 [==============================] - 33s 418ms/step - loss: 2.4321 - accuracy: 0.1125\n",
            "Epoch 34/40\n",
            "80/80 [==============================] - 33s 418ms/step - loss: 2.4665 - accuracy: 0.1121\n",
            "Epoch 35/40\n",
            "80/80 [==============================] - 33s 417ms/step - loss: 2.4413 - accuracy: 0.1172\n",
            "Epoch 36/40\n",
            "80/80 [==============================] - 33s 417ms/step - loss: 2.4578 - accuracy: 0.1212\n",
            "Epoch 37/40\n",
            "80/80 [==============================] - 33s 415ms/step - loss: 2.4020 - accuracy: 0.1121\n",
            "Epoch 38/40\n",
            "80/80 [==============================] - 33s 415ms/step - loss: 2.4233 - accuracy: 0.1216\n",
            "Epoch 39/40\n",
            "80/80 [==============================] - 33s 412ms/step - loss: 2.3924 - accuracy: 0.1180\n",
            "Epoch 40/40\n",
            "80/80 [==============================] - 33s 416ms/step - loss: 2.3890 - accuracy: 0.1094\n"
          ]
        }
      ]
    },
    {
      "cell_type": "code",
      "source": [
        "import matplotlib.pyplot as plt\n",
        "\n",
        "def plot_hist(hist):\n",
        "    plt.plot(hist.history[\"accuracy\"])\n",
        "    #plt.plot(hist.history[\"val_accuracy\"])\n",
        "    plt.title(\"model accuracy\")\n",
        "    plt.ylabel(\"accuracy\")\n",
        "    plt.xlabel(\"epoch\")\n",
        "    plt.legend([\"train\", \"validation\"], loc=\"upper left\")\n",
        "    plt.show()\n",
        "\n",
        "plot_hist(hist)"
      ],
      "metadata": {
        "colab": {
          "base_uri": "https://localhost:8080/",
          "height": 472
        },
        "id": "yRg-2AT2WwHT",
        "outputId": "88f3cf80-62ab-4f72-dc29-8ca338efb50d"
      },
      "execution_count": null,
      "outputs": [
        {
          "output_type": "display_data",
          "data": {
            "text/plain": [
              "<Figure size 640x480 with 1 Axes>"
            ],
            "image/png": "[encoded data removed]"
          },
          "metadata": {}
        }
      ]
    },
    {
      "cell_type": "code",
      "source": [
        "preds = model_8.evaluate(test_x, test_y)\n",
        "print (\"Loss = \" + str(preds[0]))\n",
        "print (\"Test Accuracy = \" + str(preds[1]))"
      ],
      "metadata": {
        "colab": {
          "base_uri": "https://localhost:8080/"
        },
        "id": "ebkOIYNLWwLb",
        "outputId": "c385e8ff-846a-483b-d832-b80a82e4b457"
      },
      "execution_count": null,
      "outputs": [
        {
          "output_type": "stream",
          "name": "stdout",
          "text": [
            "5/5 [==============================] - 4s 278ms/step - loss: 2.2414 - accuracy: 0.1324\n",
            "Loss = 2.2413644790649414\n",
            "Test Accuracy = 0.13235294818878174\n"
          ]
        }
      ]
    },
    {
      "cell_type": "markdown",
      "source": [
        "###Finding the Mean Class Accuracy,F1 Scores,Average Precision,Average Recall (model 8)"
      ],
      "metadata": {
        "id": "Qerlcum1qwhu"
      }
    },
    {
      "cell_type": "code",
      "source": [
        "from sklearn.metrics import precision_score, recall_score, f1_score\n",
        "\n",
        "test_loss, test_acc = model_8.evaluate(test_x, test_y)\n",
        "pred_labels = np.argmax(model_8.predict(test_x), axis=1)\n",
        "\n",
        "true_labels = np.argmax(test_y, axis=1)\n",
        "\n",
        "class_accuracies = []\n",
        "f1_scores = []\n",
        "avg_precisions = []\n",
        "avg_recalls = []\n",
        "\n",
        "for class_label in range(NUM_CLASSES):\n",
        "    class_indices = np.where(true_labels == class_label)[0]\n",
        "    class_pred_labels = pred_labels[class_indices]\n",
        "    class_true_labels = true_labels[class_indices]\n",
        "\n",
        "    # Calculate class accuracy\n",
        "    class_accuracy = np.mean(class_pred_labels == class_true_labels)\n",
        "    class_accuracies.append(class_accuracy)\n",
        "\n",
        "    # Calculate F1 score\n",
        "    class_f1_score = f1_score(class_true_labels, class_pred_labels, average='weighted', zero_division=0)\n",
        "    f1_scores.append(class_f1_score)\n",
        "\n",
        "    # Calculate precision\n",
        "    class_precision = precision_score(class_true_labels, class_pred_labels, average='weighted', zero_division=0)\n",
        "    avg_precisions.append(class_precision)\n",
        "\n",
        "    # Calculate recall\n",
        "    class_recall = recall_score(class_true_labels, class_pred_labels, average='weighted', zero_division=0)\n",
        "    avg_recalls.append(class_recall)\n",
        "\n",
        "mean_class_accuracy = np.mean(class_accuracies)\n",
        "mean_f1_score = np.mean(f1_scores)\n",
        "mean_precision = np.mean(avg_precisions)\n",
        "mean_recall = np.mean(avg_recalls)\n",
        "\n",
        "print(\"Mean Class Accuracy:\", mean_class_accuracy)\n",
        "print(\"Mean F1 Score:\", mean_f1_score)\n",
        "print(\"Mean Average Precision:\", mean_precision)\n",
        "print(\"Mean Average Recall:\", mean_recall)\n"
      ],
      "metadata": {
        "colab": {
          "base_uri": "https://localhost:8080/"
        },
        "id": "18HaZNirq1pB",
        "outputId": "d9c31cce-eac0-44a3-e31a-4554bc2c8af8"
      },
      "execution_count": null,
      "outputs": [
        {
          "output_type": "stream",
          "name": "stdout",
          "text": [
            "5/5 [==============================] - 1s 91ms/step - loss: 2.2414 - accuracy: 0.1324\n",
            "5/5 [==============================] - 0s 86ms/step\n",
            "Mean Class Accuracy: 0.1210605014952841\n",
            "Mean F1 Score: 0.1640262271841219\n",
            "Mean Average Precision: 0.3333333333333333\n",
            "Mean Average Recall: 0.1210605014952841\n"
          ]
        }
      ]
    },
    {
      "cell_type": "markdown",
      "source": [
        "#Brightness Augmentation with RMSprop optimizer (model 9)"
      ],
      "metadata": {
        "id": "u-qDUgqXxWhx"
      }
    },
    {
      "cell_type": "code",
      "source": [
        "from tensorflow.keras.applications import EfficientNetB1\n",
        "from tensorflow.keras.preprocessing.image import ImageDataGenerator\n",
        "from tensorflow.keras import layers\n",
        "import tensorflow as tf\n",
        "\n",
        "NUM_CLASSES = 9\n",
        "IMG_SIZE = 240\n",
        "\n",
        "train_datagen = ImageDataGenerator(\n",
        "\n",
        "    brightness_range=[0.8, 1.2]  # Adjust brightness range for contrast augmentation\n",
        ")\n",
        "train_datagen.fit(train_x)\n",
        "\n",
        "train_generator = train_datagen.flow(\n",
        "    train_x,\n",
        "    train_y,\n",
        "    batch_size=32,\n",
        "    shuffle=True\n",
        ")\n",
        "\n",
        "inputs = layers.Input(shape=(IMG_SIZE, IMG_SIZE, 3))\n",
        "\n",
        "# Using model without transfer learning\n",
        "outputs = EfficientNetB1(include_top=True, weights=None, classes=NUM_CLASSES)(inputs)\n",
        "\n",
        "# Create RMSprop optimizer\n",
        "optimizer = tf.keras.optimizers.RMSprop(learning_rate=0.001, rho=0.9)\n",
        "\n",
        "model_9 = tf.keras.Model(inputs, outputs)\n",
        "model_9.compile(optimizer=optimizer, loss='categorical_crossentropy', metrics=['accuracy'])\n",
        "model_9.summary()\n",
        "\n",
        "hist = model_9.fit(\n",
        "    train_generator,\n",
        "    steps_per_epoch=len(train_x) // 32,\n",
        "    epochs=40\n",
        ")"
      ],
      "metadata": {
        "colab": {
          "base_uri": "https://localhost:8080/"
        },
        "id": "hC0XIhdxxW-G",
        "outputId": "5690027f-9a3e-4a8c-808c-2426e95b90b1"
      },
      "execution_count": null,
      "outputs": [
        {
          "output_type": "stream",
          "name": "stdout",
          "text": [
            "Model: \"model_2\"\n",
            "_________________________________________________________________\n",
            " Layer (type)                Output Shape              Param #   \n",
            "=================================================================\n",
            " input_5 (InputLayer)        [(None, 240, 240, 3)]     0         \n",
            "                                                                 \n",
            " efficientnetb1 (Functional)  (None, 9)                6586768   \n",
            "                                                                 \n",
            "=================================================================\n",
            "Total params: 6,586,768\n",
            "Trainable params: 6,524,713\n",
            "Non-trainable params: 62,055\n",
            "_________________________________________________________________\n",
            "Epoch 1/40\n",
            "80/80 [==============================] - 83s 409ms/step - loss: 3.8044 - accuracy: 0.1192\n",
            "Epoch 2/40\n",
            "80/80 [==============================] - 33s 408ms/step - loss: 2.6360 - accuracy: 0.1098\n",
            "Epoch 3/40\n",
            "80/80 [==============================] - 33s 408ms/step - loss: 2.3913 - accuracy: 0.1121\n",
            "Epoch 4/40\n",
            "80/80 [==============================] - 33s 413ms/step - loss: 2.3215 - accuracy: 0.1149\n",
            "Epoch 5/40\n",
            "80/80 [==============================] - 33s 412ms/step - loss: 2.2620 - accuracy: 0.1184\n",
            "Epoch 6/40\n",
            "80/80 [==============================] - 33s 411ms/step - loss: 2.2507 - accuracy: 0.1172\n",
            "Epoch 7/40\n",
            "80/80 [==============================] - 33s 414ms/step - loss: 2.2321 - accuracy: 0.1188\n",
            "Epoch 8/40\n",
            "80/80 [==============================] - 33s 415ms/step - loss: 2.2214 - accuracy: 0.1353\n",
            "Epoch 9/40\n",
            "80/80 [==============================] - 33s 417ms/step - loss: 2.2050 - accuracy: 0.1440\n",
            "Epoch 10/40\n",
            "80/80 [==============================] - 33s 415ms/step - loss: 2.1829 - accuracy: 0.1424\n",
            "Epoch 11/40\n",
            "80/80 [==============================] - 33s 416ms/step - loss: 2.1749 - accuracy: 0.1597\n",
            "Epoch 12/40\n",
            "80/80 [==============================] - 33s 416ms/step - loss: 2.1480 - accuracy: 0.1640\n",
            "Epoch 13/40\n",
            "80/80 [==============================] - 34s 419ms/step - loss: 2.1147 - accuracy: 0.1806\n",
            "Epoch 14/40\n",
            "80/80 [==============================] - 34s 423ms/step - loss: 2.0526 - accuracy: 0.1994\n",
            "Epoch 15/40\n",
            "80/80 [==============================] - 34s 418ms/step - loss: 2.0421 - accuracy: 0.2234\n",
            "Epoch 16/40\n",
            "80/80 [==============================] - 34s 418ms/step - loss: 2.0001 - accuracy: 0.2337\n",
            "Epoch 17/40\n",
            "80/80 [==============================] - 33s 416ms/step - loss: 1.9569 - accuracy: 0.2498\n",
            "Epoch 18/40\n",
            "80/80 [==============================] - 33s 418ms/step - loss: 1.9248 - accuracy: 0.2526\n",
            "Epoch 19/40\n",
            "80/80 [==============================] - 34s 418ms/step - loss: 1.8354 - accuracy: 0.2856\n",
            "Epoch 20/40\n",
            "80/80 [==============================] - 33s 417ms/step - loss: 1.8135 - accuracy: 0.3002\n",
            "Epoch 21/40\n",
            "80/80 [==============================] - 33s 418ms/step - loss: 1.7979 - accuracy: 0.3124\n",
            "Epoch 22/40\n",
            "80/80 [==============================] - 34s 418ms/step - loss: 1.7416 - accuracy: 0.3360\n",
            "Epoch 23/40\n",
            "80/80 [==============================] - 33s 418ms/step - loss: 1.6812 - accuracy: 0.3611\n",
            "Epoch 24/40\n",
            "80/80 [==============================] - 34s 418ms/step - loss: 1.7092 - accuracy: 0.3375\n",
            "Epoch 25/40\n",
            "80/80 [==============================] - 34s 420ms/step - loss: 1.6768 - accuracy: 0.3611\n",
            "Epoch 26/40\n",
            "80/80 [==============================] - 33s 418ms/step - loss: 1.6464 - accuracy: 0.3702\n",
            "Epoch 27/40\n",
            "80/80 [==============================] - 33s 417ms/step - loss: 1.6303 - accuracy: 0.3737\n",
            "Epoch 28/40\n",
            "80/80 [==============================] - 33s 418ms/step - loss: 1.6121 - accuracy: 0.3832\n",
            "Epoch 29/40\n",
            "80/80 [==============================] - 34s 418ms/step - loss: 1.5579 - accuracy: 0.3993\n",
            "Epoch 30/40\n",
            "80/80 [==============================] - 33s 418ms/step - loss: 1.5580 - accuracy: 0.3922\n",
            "Epoch 31/40\n",
            "80/80 [==============================] - 34s 418ms/step - loss: 1.5546 - accuracy: 0.3977\n",
            "Epoch 32/40\n",
            "80/80 [==============================] - 33s 417ms/step - loss: 1.5354 - accuracy: 0.4072\n",
            "Epoch 33/40\n",
            "80/80 [==============================] - 33s 416ms/step - loss: 1.5138 - accuracy: 0.4087\n",
            "Epoch 34/40\n",
            "80/80 [==============================] - 34s 418ms/step - loss: 1.5043 - accuracy: 0.4237\n",
            "Epoch 35/40\n",
            "80/80 [==============================] - 33s 416ms/step - loss: 1.4162 - accuracy: 0.4520\n",
            "Epoch 36/40\n",
            "80/80 [==============================] - 34s 419ms/step - loss: 1.4667 - accuracy: 0.4280\n",
            "Epoch 37/40\n",
            "80/80 [==============================] - 34s 419ms/step - loss: 1.4651 - accuracy: 0.4280\n",
            "Epoch 38/40\n",
            "80/80 [==============================] - 34s 420ms/step - loss: 1.4610 - accuracy: 0.4205\n",
            "Epoch 39/40\n",
            "80/80 [==============================] - 34s 419ms/step - loss: 1.4579 - accuracy: 0.4276\n",
            "Epoch 40/40\n",
            "80/80 [==============================] - 33s 417ms/step - loss: 1.4454 - accuracy: 0.4386\n"
          ]
        }
      ]
    },
    {
      "cell_type": "code",
      "source": [
        "import matplotlib.pyplot as plt\n",
        "\n",
        "def plot_hist(hist):\n",
        "    plt.plot(hist.history[\"accuracy\"])\n",
        "    #plt.plot(hist.history[\"val_accuracy\"])\n",
        "    plt.title(\"model accuracy\")\n",
        "    plt.ylabel(\"accuracy\")\n",
        "    plt.xlabel(\"epoch\")\n",
        "    plt.legend([\"train\", \"validation\"], loc=\"upper left\")\n",
        "    plt.show()\n",
        "\n",
        "plot_hist(hist)"
      ],
      "metadata": {
        "colab": {
          "base_uri": "https://localhost:8080/",
          "height": 472
        },
        "id": "iS-F4U2PyQov",
        "outputId": "4a0387de-c9ae-4740-8dec-b605a12449f2"
      },
      "execution_count": null,
      "outputs": [
        {
          "output_type": "display_data",
          "data": {
            "text/plain": [
              "<Figure size 640x480 with 1 Axes>"
            ],
            "image/png": "[encoded data removed]"
          },
          "metadata": {}
        }
      ]
    },
    {
      "cell_type": "code",
      "source": [
        "preds = model_9.evaluate(test_x, test_y)\n",
        "print (\"Loss = \" + str(preds[0]))\n",
        "print (\"Test Accuracy = \" + str(preds[1]))"
      ],
      "metadata": {
        "colab": {
          "base_uri": "https://localhost:8080/",
          "height": 200
        },
        "id": "D8e0Z8P1yQzP",
        "outputId": "01efc7f3-b26a-4c3e-a985-6210a5a4883c"
      },
      "execution_count": null,
      "outputs": [
        {
          "output_type": "error",
          "ename": "NameError",
          "evalue": "ignored",
          "traceback": [
            "\u001b[0;31m---------------------------------------------------------------------------\u001b[0m",
            "\u001b[0;31mNameError\u001b[0m                                 Traceback (most recent call last)",
            "\u001b[0;32m<ipython-input-21-88965f653047>\u001b[0m in \u001b[0;36m<cell line: 1>\u001b[0;34m()\u001b[0m\n\u001b[0;32m----> 1\u001b[0;31m \u001b[0mpreds\u001b[0m \u001b[0;34m=\u001b[0m \u001b[0mmodel_9\u001b[0m\u001b[0;34m.\u001b[0m\u001b[0mevaluate\u001b[0m\u001b[0;34m(\u001b[0m\u001b[0mtest_x\u001b[0m\u001b[0;34m,\u001b[0m \u001b[0mtest_y\u001b[0m\u001b[0;34m)\u001b[0m\u001b[0;34m\u001b[0m\u001b[0;34m\u001b[0m\u001b[0m\n\u001b[0m\u001b[1;32m      2\u001b[0m \u001b[0mprint\u001b[0m \u001b[0;34m(\u001b[0m\u001b[0;34m\"Loss = \"\u001b[0m \u001b[0;34m+\u001b[0m \u001b[0mstr\u001b[0m\u001b[0;34m(\u001b[0m\u001b[0mpreds\u001b[0m\u001b[0;34m[\u001b[0m\u001b[0;36m0\u001b[0m\u001b[0;34m]\u001b[0m\u001b[0;34m)\u001b[0m\u001b[0;34m)\u001b[0m\u001b[0;34m\u001b[0m\u001b[0;34m\u001b[0m\u001b[0m\n\u001b[1;32m      3\u001b[0m \u001b[0mprint\u001b[0m \u001b[0;34m(\u001b[0m\u001b[0;34m\"Test Accuracy = \"\u001b[0m \u001b[0;34m+\u001b[0m \u001b[0mstr\u001b[0m\u001b[0;34m(\u001b[0m\u001b[0mpreds\u001b[0m\u001b[0;34m[\u001b[0m\u001b[0;36m1\u001b[0m\u001b[0;34m]\u001b[0m\u001b[0;34m)\u001b[0m\u001b[0;34m)\u001b[0m\u001b[0;34m\u001b[0m\u001b[0;34m\u001b[0m\u001b[0m\n",
            "\u001b[0;31mNameError\u001b[0m: name 'model_9' is not defined"
          ]
        }
      ]
    },
    {
      "cell_type": "markdown",
      "source": [
        "###Finding the Mean Class Accuracy,F1 Scores,Average Precision,Average Recall (model 9)"
      ],
      "metadata": {
        "id": "_CBGn0uQ3-6I"
      }
    },
    {
      "cell_type": "code",
      "source": [
        "from sklearn.metrics import precision_score, recall_score, f1_score\n",
        "\n",
        "test_loss, test_acc = model_9.evaluate(test_x, test_y)\n",
        "pred_labels = np.argmax(model_9.predict(test_x), axis=1)\n",
        "\n",
        "true_labels = np.argmax(test_y, axis=1)\n",
        "\n",
        "class_accuracies = []\n",
        "f1_scores = []\n",
        "avg_precisions = []\n",
        "avg_recalls = []\n",
        "\n",
        "for class_label in range(NUM_CLASSES):\n",
        "    class_indices = np.where(true_labels == class_label)[0]\n",
        "    class_pred_labels = pred_labels[class_indices]\n",
        "    class_true_labels = true_labels[class_indices]\n",
        "\n",
        "    # Calculate class accuracy\n",
        "    class_accuracy = np.mean(class_pred_labels == class_true_labels)\n",
        "    class_accuracies.append(class_accuracy)\n",
        "\n",
        "    # Calculate F1 score\n",
        "    class_f1_score = f1_score(class_true_labels, class_pred_labels, average='weighted', zero_division=0)\n",
        "    f1_scores.append(class_f1_score)\n",
        "\n",
        "    # Calculate precision\n",
        "    class_precision = precision_score(class_true_labels, class_pred_labels, average='weighted', zero_division=0)\n",
        "    avg_precisions.append(class_precision)\n",
        "\n",
        "    # Calculate recall\n",
        "    class_recall = recall_score(class_true_labels, class_pred_labels, average='weighted', zero_division=0)\n",
        "    avg_recalls.append(class_recall)\n",
        "\n",
        "mean_class_accuracy = np.mean(class_accuracies)\n",
        "mean_f1_score = np.mean(f1_scores)\n",
        "mean_precision = np.mean(avg_precisions)\n",
        "mean_recall = np.mean(avg_recalls)\n",
        "\n",
        "print(\"Mean Class Accuracy:\", mean_class_accuracy)\n",
        "print(\"Mean F1 Score:\", mean_f1_score)\n",
        "print(\"Mean Average Precision:\", mean_precision)\n",
        "print(\"Mean Average Recall:\", mean_recall)"
      ],
      "metadata": {
        "colab": {
          "base_uri": "https://localhost:8080/"
        },
        "id": "suNPRkqW4HPv",
        "outputId": "c3650811-a440-4b22-9ba1-e0846c164b12"
      },
      "execution_count": null,
      "outputs": [
        {
          "output_type": "stream",
          "name": "stdout",
          "text": [
            "5/5 [==============================] - 0s 85ms/step - loss: 4.7203 - accuracy: 0.1029\n",
            "5/5 [==============================] - 3s 96ms/step\n",
            "Mean Class Accuracy: 0.10861159774203252\n",
            "Mean F1 Score: 0.16939196281301547\n",
            "Mean Average Precision: 0.5555555555555556\n",
            "Mean Average Recall: 0.10861159774203252\n"
          ]
        }
      ]
    },
    {
      "cell_type": "markdown",
      "source": [
        "#Cropping Augmentation with Adam optimizer (model 10)"
      ],
      "metadata": {
        "id": "IFF48APeFLmR"
      }
    },
    {
      "cell_type": "code",
      "source": [
        "import tensorflow as tf\n",
        "from tensorflow.keras.applications import EfficientNetB1\n",
        "from tensorflow.keras.preprocessing.image import ImageDataGenerator\n",
        "from tensorflow.keras import layers\n",
        "\n",
        "NUM_CLASSES = 9\n",
        "IMG_SIZE = 240\n",
        "\n",
        "# Create ImageDataGenerator with cropping augmentation\n",
        "train_datagen = ImageDataGenerator(\n",
        "    preprocessing_function=tf.keras.applications.efficientnet.preprocess_input,\n",
        "    width_shift_range=0.1,  # Adjust the horizontal shift range\n",
        "    height_shift_range=0.1,  # Adjust the vertical shift range\n",
        "    zoom_range=0.1,  # Adjust the zoom range\n",
        "    shear_range=0.1,  # Adjust the shear range\n",
        "    fill_mode='nearest'  # Use the nearest mode for filling missing pixels\n",
        ")\n",
        "train_datagen.fit(train_x)\n",
        "\n",
        "train_generator = train_datagen.flow(\n",
        "    train_x,\n",
        "    train_y,\n",
        "    batch_size=32,\n",
        "    shuffle=True\n",
        ")\n",
        "\n",
        "inputs = layers.Input(shape=(IMG_SIZE, IMG_SIZE, 3))\n",
        "\n",
        "# Using model without transfer learning\n",
        "outputs = EfficientNetB1(include_top=True, weights=None, classes=NUM_CLASSES)(inputs)\n",
        "\n",
        "# Create RMSprop optimizer\n",
        "\n",
        "model_10 = tf.keras.Model(inputs, outputs)\n",
        "model_10.compile(optimizer=\"adam\", loss='categorical_crossentropy', metrics=['accuracy'])\n",
        "model_10.summary()\n",
        "\n",
        "hist = model_10.fit(\n",
        "    train_generator,\n",
        "    steps_per_epoch=len(train_x) // 32,\n",
        "    epochs=40\n",
        ")\n"
      ],
      "metadata": {
        "colab": {
          "base_uri": "https://localhost:8080/"
        },
        "id": "0rNtSvtrFL4A",
        "outputId": "b38b6289-c03c-4c4a-f34e-bb1ac4e49a7d"
      },
      "execution_count": null,
      "outputs": [
        {
          "output_type": "stream",
          "name": "stdout",
          "text": [
            "Model: \"model\"\n",
            "_________________________________________________________________\n",
            " Layer (type)                Output Shape              Param #   \n",
            "=================================================================\n",
            " input_1 (InputLayer)        [(None, 240, 240, 3)]     0         \n",
            "                                                                 \n",
            " efficientnetb1 (Functional)  (None, 9)                6586768   \n",
            "                                                                 \n",
            "=================================================================\n",
            "Total params: 6,586,768\n",
            "Trainable params: 6,524,713\n",
            "Non-trainable params: 62,055\n",
            "_________________________________________________________________\n",
            "Epoch 1/40\n",
            "80/80 [==============================] - 127s 650ms/step - loss: 3.4891 - accuracy: 0.1459\n",
            "Epoch 2/40\n",
            "80/80 [==============================] - 44s 539ms/step - loss: 2.6337 - accuracy: 0.1696\n",
            "Epoch 3/40\n",
            "80/80 [==============================] - 45s 555ms/step - loss: 2.3435 - accuracy: 0.1959\n",
            "Epoch 4/40\n",
            "80/80 [==============================] - 43s 537ms/step - loss: 2.1734 - accuracy: 0.2482\n",
            "Epoch 5/40\n",
            "80/80 [==============================] - 43s 538ms/step - loss: 2.0338 - accuracy: 0.2781\n",
            "Epoch 6/40\n",
            "80/80 [==============================] - 44s 550ms/step - loss: 2.0297 - accuracy: 0.3151\n",
            "Epoch 7/40\n",
            "80/80 [==============================] - 43s 536ms/step - loss: 1.8328 - accuracy: 0.3674\n",
            "Epoch 8/40\n",
            "80/80 [==============================] - 43s 538ms/step - loss: 1.7199 - accuracy: 0.4111\n",
            "Epoch 9/40\n",
            "80/80 [==============================] - 43s 532ms/step - loss: 1.5664 - accuracy: 0.4689\n",
            "Epoch 10/40\n",
            "80/80 [==============================] - 43s 532ms/step - loss: 1.4684 - accuracy: 0.4910\n",
            "Epoch 11/40\n",
            "80/80 [==============================] - 44s 546ms/step - loss: 1.2963 - accuracy: 0.5629\n",
            "Epoch 12/40\n",
            "80/80 [==============================] - 43s 534ms/step - loss: 1.0797 - accuracy: 0.6428\n",
            "Epoch 13/40\n",
            "80/80 [==============================] - 43s 534ms/step - loss: 0.9514 - accuracy: 0.6798\n",
            "Epoch 14/40\n",
            "80/80 [==============================] - 43s 536ms/step - loss: 0.7181 - accuracy: 0.7683\n",
            "Epoch 15/40\n",
            "80/80 [==============================] - 45s 559ms/step - loss: 0.6602 - accuracy: 0.7695\n",
            "Epoch 16/40\n",
            "80/80 [==============================] - 43s 532ms/step - loss: 0.5409 - accuracy: 0.8218\n",
            "Epoch 17/40\n",
            "80/80 [==============================] - 43s 532ms/step - loss: 0.4689 - accuracy: 0.8454\n",
            "Epoch 18/40\n",
            "80/80 [==============================] - 45s 553ms/step - loss: 0.3975 - accuracy: 0.8721\n",
            "Epoch 19/40\n",
            "80/80 [==============================] - 43s 536ms/step - loss: 0.3780 - accuracy: 0.8784\n",
            "Epoch 20/40\n",
            "80/80 [==============================] - 43s 534ms/step - loss: 0.3623 - accuracy: 0.8839\n",
            "Epoch 21/40\n",
            "80/80 [==============================] - 43s 535ms/step - loss: 0.2228 - accuracy: 0.9284\n",
            "Epoch 22/40\n",
            "80/80 [==============================] - 43s 542ms/step - loss: 0.2214 - accuracy: 0.9296\n",
            "Epoch 23/40\n",
            "80/80 [==============================] - 43s 536ms/step - loss: 0.2265 - accuracy: 0.9276\n",
            "Epoch 24/40\n",
            "80/80 [==============================] - 43s 534ms/step - loss: 0.2140 - accuracy: 0.9296\n",
            "Epoch 25/40\n",
            "80/80 [==============================] - 43s 533ms/step - loss: 0.1718 - accuracy: 0.9520\n",
            "Epoch 26/40\n",
            "80/80 [==============================] - 45s 557ms/step - loss: 0.1550 - accuracy: 0.9508\n",
            "Epoch 27/40\n",
            "80/80 [==============================] - 44s 539ms/step - loss: 0.1693 - accuracy: 0.9430\n",
            "Epoch 28/40\n",
            "80/80 [==============================] - 43s 537ms/step - loss: 0.1304 - accuracy: 0.9611\n",
            "Epoch 29/40\n",
            "80/80 [==============================] - 44s 549ms/step - loss: 0.1224 - accuracy: 0.9603\n",
            "Epoch 30/40\n",
            "80/80 [==============================] - 43s 534ms/step - loss: 0.0991 - accuracy: 0.9685\n",
            "Epoch 31/40\n",
            "80/80 [==============================] - 43s 540ms/step - loss: 0.1289 - accuracy: 0.9603\n",
            "Epoch 32/40\n",
            "80/80 [==============================] - 44s 549ms/step - loss: 0.1108 - accuracy: 0.9650\n",
            "Epoch 33/40\n",
            "80/80 [==============================] - 43s 536ms/step - loss: 0.1269 - accuracy: 0.9599\n",
            "Epoch 34/40\n",
            "80/80 [==============================] - 43s 537ms/step - loss: 0.0780 - accuracy: 0.9768\n",
            "Epoch 35/40\n",
            "80/80 [==============================] - 44s 545ms/step - loss: 0.0777 - accuracy: 0.9792\n",
            "Epoch 36/40\n",
            "80/80 [==============================] - 44s 539ms/step - loss: 0.0807 - accuracy: 0.9768\n",
            "Epoch 37/40\n",
            "80/80 [==============================] - 44s 551ms/step - loss: 0.0742 - accuracy: 0.9764\n",
            "Epoch 38/40\n",
            "80/80 [==============================] - 43s 539ms/step - loss: 0.0748 - accuracy: 0.9772\n",
            "Epoch 39/40\n",
            "80/80 [==============================] - 44s 542ms/step - loss: 0.0822 - accuracy: 0.9740\n",
            "Epoch 40/40\n",
            "80/80 [==============================] - 43s 539ms/step - loss: 0.1380 - accuracy: 0.9579\n"
          ]
        }
      ]
    },
    {
      "cell_type": "code",
      "source": [
        "def plot_hist(hist):\n",
        "    plt.plot(hist.history[\"accuracy\"])\n",
        "    #plt.plot(hist.history[\"val_accuracy\"])\n",
        "    plt.title(\"model accuracy\")\n",
        "    plt.ylabel(\"accuracy\")\n",
        "    plt.xlabel(\"epoch\")\n",
        "    plt.legend([\"train\", \"validation\"], loc=\"upper left\")\n",
        "    plt.show()\n",
        "\n",
        "plot_hist(hist)"
      ],
      "metadata": {
        "colab": {
          "base_uri": "https://localhost:8080/",
          "height": 472
        },
        "id": "38z5hApGP486",
        "outputId": "68f63c96-b88b-44a2-f097-98ad75c4e7fb"
      },
      "execution_count": null,
      "outputs": [
        {
          "output_type": "display_data",
          "data": {
            "text/plain": [
              "<Figure size 640x480 with 1 Axes>"
            ],
            "image/png": "[encoded data removed]"
          },
          "metadata": {}
        }
      ]
    },
    {
      "cell_type": "code",
      "source": [
        "preds = model_10.evaluate(test_x, test_y)\n",
        "print (\"Loss = \" + str(preds[0]))\n",
        "print (\"Test Accuracy = \" + str(preds[1]))"
      ],
      "metadata": {
        "colab": {
          "base_uri": "https://localhost:8080/"
        },
        "id": "TtAzrpHuP4_p",
        "outputId": "1c6050c5-756b-4023-a2f9-1deff2432499"
      },
      "execution_count": null,
      "outputs": [
        {
          "output_type": "stream",
          "name": "stdout",
          "text": [
            "5/5 [==============================] - 7s 250ms/step - loss: 0.0135 - accuracy: 1.0000\n",
            "Loss = 0.01352627296000719\n",
            "Test Accuracy = 1.0\n"
          ]
        }
      ]
    },
    {
      "cell_type": "markdown",
      "source": [
        "###Finding the Mean Class Accuracy,F1 Scores,Average Precision,Average Recall (model 10)"
      ],
      "metadata": {
        "id": "89UK0fvJQESd"
      }
    },
    {
      "cell_type": "code",
      "source": [
        "from sklearn.metrics import precision_score, recall_score, f1_score\n",
        "\n",
        "test_loss, test_acc = model_10.evaluate(test_x, test_y)\n",
        "pred_labels = np.argmax(model_10 .predict(test_x), axis=1)\n",
        "\n",
        "true_labels = np.argmax(test_y, axis=1)\n",
        "\n",
        "class_accuracies = []\n",
        "f1_scores = []\n",
        "avg_precisions = []\n",
        "avg_recalls = []\n",
        "\n",
        "for class_label in range(NUM_CLASSES):\n",
        "    class_indices = np.where(true_labels == class_label)[0]\n",
        "    class_pred_labels = pred_labels[class_indices]\n",
        "    class_true_labels = true_labels[class_indices]\n",
        "\n",
        "    # Calculate class accuracy\n",
        "    class_accuracy = np.mean(class_pred_labels == class_true_labels)\n",
        "    class_accuracies.append(class_accuracy)\n",
        "\n",
        "    # Calculate F1 score\n",
        "    class_f1_score = f1_score(class_true_labels, class_pred_labels, average='weighted', zero_division=0)\n",
        "    f1_scores.append(class_f1_score)\n",
        "\n",
        "    # Calculate precision\n",
        "    class_precision = precision_score(class_true_labels, class_pred_labels, average='weighted', zero_division=0)\n",
        "    avg_precisions.append(class_precision)\n",
        "\n",
        "    # Calculate recall\n",
        "    class_recall = recall_score(class_true_labels, class_pred_labels, average='weighted', zero_division=0)\n",
        "    avg_recalls.append(class_recall)\n",
        "\n",
        "mean_class_accuracy = np.mean(class_accuracies)\n",
        "mean_f1_score = np.mean(f1_scores)\n",
        "mean_precision = np.mean(avg_precisions)\n",
        "mean_recall = np.mean(avg_recalls)\n",
        "\n",
        "print(\"Mean Class Accuracy:\", mean_class_accuracy)\n",
        "print(\"Mean F1 Score:\", mean_f1_score)\n",
        "print(\"Mean Average Precision:\", mean_precision)\n",
        "print(\"Mean Average Recall:\", mean_recall)"
      ],
      "metadata": {
        "colab": {
          "base_uri": "https://localhost:8080/"
        },
        "id": "3f_5I8sLQJmm",
        "outputId": "8e0b8829-e8cf-49fc-e414-459a32b22406"
      },
      "execution_count": null,
      "outputs": [
        {
          "output_type": "stream",
          "name": "stdout",
          "text": [
            "5/5 [==============================] - 0s 86ms/step - loss: 0.0135 - accuracy: 1.0000\n",
            "5/5 [==============================] - 2s 103ms/step\n",
            "Mean Class Accuracy: 1.0\n",
            "Mean F1 Score: 1.0\n",
            "Mean Average Precision: 1.0\n",
            "Mean Average Recall: 1.0\n"
          ]
        }
      ]
    },
    {
      "cell_type": "markdown",
      "source": [
        "#Cropping Augmentation with SGD optimizer (model 11)"
      ],
      "metadata": {
        "id": "b5VjCbKjaE7C"
      }
    },
    {
      "cell_type": "code",
      "source": [
        "import tensorflow as tf\n",
        "from tensorflow.keras.applications import EfficientNetB1\n",
        "from tensorflow.keras.preprocessing.image import ImageDataGenerator\n",
        "from tensorflow.keras import layers\n",
        "\n",
        "NUM_CLASSES = 9\n",
        "IMG_SIZE = 240\n",
        "\n",
        "# Create ImageDataGenerator with cropping augmentation\n",
        "train_datagen = ImageDataGenerator(\n",
        "    preprocessing_function=tf.keras.applications.efficientnet.preprocess_input,\n",
        "    width_shift_range=0.1,  # Adjust the horizontal shift range\n",
        "    height_shift_range=0.1,  # Adjust the vertical shift range\n",
        "    zoom_range=0.1,  # Adjust the zoom range\n",
        "    shear_range=0.1,  # Adjust the shear range\n",
        "    fill_mode='nearest'  # Use the nearest mode for filling missing pixels\n",
        ")\n",
        "train_datagen.fit(train_x)\n",
        "\n",
        "train_generator = train_datagen.flow(\n",
        "    train_x,\n",
        "    train_y,\n",
        "    batch_size=32,\n",
        "    shuffle=True\n",
        ")\n",
        "\n",
        "inputs = layers.Input(shape=(IMG_SIZE, IMG_SIZE, 3))\n",
        "\n",
        "# Using model without transfer learning\n",
        "outputs = EfficientNetB1(include_top=True, weights=None, classes=NUM_CLASSES)(inputs)\n",
        "\n",
        "# Create RMSprop optimizer\n",
        "\n",
        "model_11 = tf.keras.Model(inputs, outputs)\n",
        "model_11.compile(optimizer=\"sgd\", loss='categorical_crossentropy', metrics=['accuracy'])\n",
        "model_11.summary()\n",
        "\n",
        "hist = model_11.fit(\n",
        "    train_generator,\n",
        "    steps_per_epoch=len(train_x) // 32,\n",
        "    epochs=40\n",
        ")\n"
      ],
      "metadata": {
        "colab": {
          "base_uri": "https://localhost:8080/"
        },
        "id": "w2BT5trSaKpc",
        "outputId": "a22c3a23-20a5-4bf3-81bb-8ed4a8b1e40b"
      },
      "execution_count": null,
      "outputs": [
        {
          "output_type": "stream",
          "name": "stdout",
          "text": [
            "Model: \"model_1\"\n",
            "_________________________________________________________________\n",
            " Layer (type)                Output Shape              Param #   \n",
            "=================================================================\n",
            " input_3 (InputLayer)        [(None, 240, 240, 3)]     0         \n",
            "                                                                 \n",
            " efficientnetb1 (Functional)  (None, 9)                6586768   \n",
            "                                                                 \n",
            "=================================================================\n",
            "Total params: 6,586,768\n",
            "Trainable params: 6,524,713\n",
            "Non-trainable params: 62,055\n",
            "_________________________________________________________________\n",
            "Epoch 1/40\n",
            "80/80 [==============================] - 96s 672ms/step - loss: 2.9507 - accuracy: 0.1066\n",
            "Epoch 2/40\n",
            "80/80 [==============================] - 44s 545ms/step - loss: 2.8031 - accuracy: 0.1353\n",
            "Epoch 3/40\n",
            "80/80 [==============================] - 44s 542ms/step - loss: 2.6577 - accuracy: 0.1507\n",
            "Epoch 4/40\n",
            "80/80 [==============================] - 45s 554ms/step - loss: 2.5700 - accuracy: 0.1349\n",
            "Epoch 5/40\n",
            "80/80 [==============================] - 44s 551ms/step - loss: 2.6016 - accuracy: 0.1719\n",
            "Epoch 6/40\n",
            "80/80 [==============================] - 44s 542ms/step - loss: 2.5169 - accuracy: 0.1727\n",
            "Epoch 7/40\n",
            "80/80 [==============================] - 43s 539ms/step - loss: 2.4660 - accuracy: 0.1857\n",
            "Epoch 8/40\n",
            "80/80 [==============================] - 43s 538ms/step - loss: 2.6463 - accuracy: 0.2010\n",
            "Epoch 9/40\n",
            "80/80 [==============================] - 43s 538ms/step - loss: 2.5988 - accuracy: 0.2034\n",
            "Epoch 10/40\n",
            "80/80 [==============================] - 43s 538ms/step - loss: 2.4489 - accuracy: 0.2238\n",
            "Epoch 11/40\n",
            "80/80 [==============================] - 43s 527ms/step - loss: 2.5048 - accuracy: 0.2109\n",
            "Epoch 12/40\n",
            "80/80 [==============================] - 43s 532ms/step - loss: 2.4419 - accuracy: 0.2293\n",
            "Epoch 13/40\n",
            "80/80 [==============================] - 44s 553ms/step - loss: 2.4916 - accuracy: 0.2293\n",
            "Epoch 14/40\n",
            "80/80 [==============================] - 43s 535ms/step - loss: 2.3789 - accuracy: 0.2478\n",
            "Epoch 15/40\n",
            "80/80 [==============================] - 43s 537ms/step - loss: 2.3395 - accuracy: 0.2419\n",
            "Epoch 16/40\n",
            "80/80 [==============================] - 43s 533ms/step - loss: 2.3268 - accuracy: 0.2447\n",
            "Epoch 17/40\n",
            "80/80 [==============================] - 45s 557ms/step - loss: 2.3167 - accuracy: 0.2553\n",
            "Epoch 18/40\n",
            "80/80 [==============================] - 43s 535ms/step - loss: 2.3505 - accuracy: 0.2703\n",
            "Epoch 19/40\n",
            "80/80 [==============================] - 43s 537ms/step - loss: 2.2825 - accuracy: 0.2880\n",
            "Epoch 20/40\n",
            "80/80 [==============================] - 44s 552ms/step - loss: 2.1873 - accuracy: 0.2813\n",
            "Epoch 21/40\n",
            "80/80 [==============================] - 43s 538ms/step - loss: 2.1216 - accuracy: 0.2919\n",
            "Epoch 22/40\n",
            "80/80 [==============================] - 43s 540ms/step - loss: 2.1735 - accuracy: 0.3021\n",
            "Epoch 23/40\n",
            "80/80 [==============================] - 43s 538ms/step - loss: 2.1031 - accuracy: 0.3186\n",
            "Epoch 24/40\n",
            "80/80 [==============================] - 44s 540ms/step - loss: 2.1016 - accuracy: 0.3194\n",
            "Epoch 25/40\n",
            "80/80 [==============================] - 43s 533ms/step - loss: 2.1287 - accuracy: 0.3261\n",
            "Epoch 26/40\n",
            "80/80 [==============================] - 43s 541ms/step - loss: 2.0520 - accuracy: 0.3328\n",
            "Epoch 27/40\n",
            "80/80 [==============================] - 44s 541ms/step - loss: 2.0636 - accuracy: 0.3470\n",
            "Epoch 28/40\n",
            "80/80 [==============================] - 43s 541ms/step - loss: 1.9798 - accuracy: 0.3450\n",
            "Epoch 29/40\n",
            "80/80 [==============================] - 45s 556ms/step - loss: 1.9510 - accuracy: 0.3706\n",
            "Epoch 30/40\n",
            "80/80 [==============================] - 43s 537ms/step - loss: 1.8806 - accuracy: 0.3741\n",
            "Epoch 31/40\n",
            "80/80 [==============================] - 43s 538ms/step - loss: 1.8667 - accuracy: 0.3926\n",
            "Epoch 32/40\n",
            "80/80 [==============================] - 43s 539ms/step - loss: 1.8353 - accuracy: 0.4076\n",
            "Epoch 33/40\n",
            "80/80 [==============================] - 43s 537ms/step - loss: 1.8594 - accuracy: 0.4194\n",
            "Epoch 34/40\n",
            "80/80 [==============================] - 43s 529ms/step - loss: 1.7496 - accuracy: 0.4312\n",
            "Epoch 35/40\n",
            "80/80 [==============================] - 42s 522ms/step - loss: 1.7193 - accuracy: 0.4398\n",
            "Epoch 36/40\n",
            "80/80 [==============================] - 44s 550ms/step - loss: 1.7000 - accuracy: 0.4540\n",
            "Epoch 37/40\n",
            "80/80 [==============================] - 42s 521ms/step - loss: 1.6647 - accuracy: 0.4658\n",
            "Epoch 38/40\n",
            "80/80 [==============================] - 42s 523ms/step - loss: 1.6182 - accuracy: 0.4835\n",
            "Epoch 39/40\n",
            "80/80 [==============================] - 42s 523ms/step - loss: 1.5461 - accuracy: 0.4937\n",
            "Epoch 40/40\n",
            "80/80 [==============================] - 43s 538ms/step - loss: 1.5070 - accuracy: 0.5126\n"
          ]
        }
      ]
    },
    {
      "cell_type": "code",
      "source": [
        "def plot_hist(hist):\n",
        "    plt.plot(hist.history[\"accuracy\"])\n",
        "    #plt.plot(hist.history[\"val_accuracy\"])\n",
        "    plt.title(\"model accuracy\")\n",
        "    plt.ylabel(\"accuracy\")\n",
        "    plt.xlabel(\"epoch\")\n",
        "    plt.legend([\"train\", \"validation\"], loc=\"upper left\")\n",
        "    plt.show()\n",
        "\n",
        "plot_hist(hist)"
      ],
      "metadata": {
        "colab": {
          "base_uri": "https://localhost:8080/",
          "height": 472
        },
        "id": "NJibxL1aaYBW",
        "outputId": "5dc1bda5-c4b0-4dbd-f41a-b31ce9987002"
      },
      "execution_count": null,
      "outputs": [
        {
          "output_type": "display_data",
          "data": {
            "text/plain": [
              "<Figure size 640x480 with 1 Axes>"
            ],
            "image/png": "[encoded data removed]"
          },
          "metadata": {}
        }
      ]
    },
    {
      "cell_type": "code",
      "source": [
        "preds = model_11.evaluate(test_x, test_y)\n",
        "print (\"Loss = \" + str(preds[0]))\n",
        "print (\"Test Accuracy = \" + str(preds[1]))"
      ],
      "metadata": {
        "colab": {
          "base_uri": "https://localhost:8080/"
        },
        "id": "-5MHQ4mJaYKR",
        "outputId": "115d6c35-ca79-42c8-f630-0a859da1126d"
      },
      "execution_count": null,
      "outputs": [
        {
          "output_type": "stream",
          "name": "stdout",
          "text": [
            "5/5 [==============================] - 1s 93ms/step - loss: 2.3446 - accuracy: 0.4926\n",
            "Loss = 2.344590663909912\n",
            "Test Accuracy = 0.49264705181121826\n"
          ]
        }
      ]
    },
    {
      "cell_type": "markdown",
      "source": [
        "###Finding the Mean Class Accuracy,F1 Scores,Average Precision,Average Recall (model 11)"
      ],
      "metadata": {
        "id": "GV_VMAFpaflc"
      }
    },
    {
      "cell_type": "code",
      "source": [
        "from sklearn.metrics import precision_score, recall_score, f1_score\n",
        "\n",
        "test_loss, test_acc = model_11.evaluate(test_x, test_y)\n",
        "pred_labels = np.argmax(model_11 .predict(test_x), axis=1)\n",
        "\n",
        "true_labels = np.argmax(test_y, axis=1)\n",
        "\n",
        "class_accuracies = []\n",
        "f1_scores = []\n",
        "avg_precisions = []\n",
        "avg_recalls = []\n",
        "\n",
        "for class_label in range(NUM_CLASSES):\n",
        "    class_indices = np.where(true_labels == class_label)[0]\n",
        "    class_pred_labels = pred_labels[class_indices]\n",
        "    class_true_labels = true_labels[class_indices]\n",
        "\n",
        "    # Calculate class accuracy\n",
        "    class_accuracy = np.mean(class_pred_labels == class_true_labels)\n",
        "    class_accuracies.append(class_accuracy)\n",
        "\n",
        "    # Calculate F1 score\n",
        "    class_f1_score = f1_score(class_true_labels, class_pred_labels, average='weighted', zero_division=0)\n",
        "    f1_scores.append(class_f1_score)\n",
        "\n",
        "    # Calculate precision\n",
        "    class_precision = precision_score(class_true_labels, class_pred_labels, average='weighted', zero_division=0)\n",
        "    avg_precisions.append(class_precision)\n",
        "\n",
        "    # Calculate recall\n",
        "    class_recall = recall_score(class_true_labels, class_pred_labels, average='weighted', zero_division=0)\n",
        "    avg_recalls.append(class_recall)\n",
        "\n",
        "mean_class_accuracy = np.mean(class_accuracies)\n",
        "mean_f1_score = np.mean(f1_scores)\n",
        "mean_precision = np.mean(avg_precisions)\n",
        "mean_recall = np.mean(avg_recalls)\n",
        "\n",
        "print(\"Mean Class Accuracy:\", mean_class_accuracy)\n",
        "print(\"Mean F1 Score:\", mean_f1_score)\n",
        "print(\"Mean Average Precision:\", mean_precision)\n",
        "print(\"Mean Average Recall:\", mean_recall)"
      ],
      "metadata": {
        "colab": {
          "base_uri": "https://localhost:8080/"
        },
        "id": "7Opq_xEsajc3",
        "outputId": "9e746144-0aa8-4748-c44d-ca17dbce35bd"
      },
      "execution_count": null,
      "outputs": [
        {
          "output_type": "stream",
          "name": "stdout",
          "text": [
            "5/5 [==============================] - 4s 87ms/step - loss: 2.3446 - accuracy: 0.4926\n",
            "5/5 [==============================] - 3s 105ms/step\n",
            "Mean Class Accuracy: 0.47168161950770643\n",
            "Mean F1 Score: 0.6110559375265258\n",
            "Mean Average Precision: 1.0\n",
            "Mean Average Recall: 0.47168161950770643\n"
          ]
        }
      ]
    },
    {
      "cell_type": "markdown",
      "source": [
        "#Cropping Augmentation with RMSprop optimizer (model 12)"
      ],
      "metadata": {
        "id": "BfkC5WbalG3H"
      }
    },
    {
      "cell_type": "code",
      "source": [
        "import tensorflow as tf\n",
        "from tensorflow.keras.applications import EfficientNetB1\n",
        "from tensorflow.keras.preprocessing.image import ImageDataGenerator\n",
        "from tensorflow.keras import layers\n",
        "\n",
        "NUM_CLASSES = 9\n",
        "IMG_SIZE = 240\n",
        "\n",
        "# Create ImageDataGenerator with cropping augmentation\n",
        "train_datagen = ImageDataGenerator(\n",
        "    preprocessing_function=tf.keras.applications.efficientnet.preprocess_input,\n",
        "    width_shift_range=0.1,  # Adjust the horizontal shift range\n",
        "    height_shift_range=0.1,  # Adjust the vertical shift range\n",
        "    zoom_range=0.1,  # Adjust the zoom range\n",
        "    shear_range=0.1,  # Adjust the shear range\n",
        "    fill_mode='nearest'  # Use the nearest mode for filling missing pixels\n",
        ")\n",
        "train_datagen.fit(train_x)\n",
        "\n",
        "train_generator = train_datagen.flow(\n",
        "    train_x,\n",
        "    train_y,\n",
        "    batch_size=32,\n",
        "    shuffle=True\n",
        ")\n",
        "\n",
        "inputs = layers.Input(shape=(IMG_SIZE, IMG_SIZE, 3))\n",
        "\n",
        "# Using model without transfer learning\n",
        "outputs = EfficientNetB1(include_top=True, weights=None, classes=NUM_CLASSES)(inputs)\n",
        "\n",
        "# Create RMSprop optimizer\n",
        "optimizer = tf.keras.optimizers.RMSprop(learning_rate=0.001, rho=0.9)\n",
        "\n",
        "# Create RMSprop optimizer\n",
        "\n",
        "model_12 = tf.keras.Model(inputs, outputs)\n",
        "model_12.compile(optimizer=optimizer, loss='categorical_crossentropy', metrics=['accuracy'])\n",
        "model_12.summary()\n",
        "\n",
        "hist = model_12.fit(\n",
        "    train_generator,\n",
        "    steps_per_epoch=len(train_x) // 32,\n",
        "    epochs=40\n",
        ")"
      ],
      "metadata": {
        "colab": {
          "base_uri": "https://localhost:8080/"
        },
        "id": "34I3Yh9HlHGm",
        "outputId": "9de21c7f-3c45-47ad-9727-8d5d2c3596de"
      },
      "execution_count": null,
      "outputs": [
        {
          "output_type": "stream",
          "name": "stdout",
          "text": [
            "Model: \"model_2\"\n",
            "_________________________________________________________________\n",
            " Layer (type)                Output Shape              Param #   \n",
            "=================================================================\n",
            " input_5 (InputLayer)        [(None, 240, 240, 3)]     0         \n",
            "                                                                 \n",
            " efficientnetb1 (Functional)  (None, 9)                6586768   \n",
            "                                                                 \n",
            "=================================================================\n",
            "Total params: 6,586,768\n",
            "Trainable params: 6,524,713\n",
            "Non-trainable params: 62,055\n",
            "_________________________________________________________________\n",
            "Epoch 1/40\n",
            "80/80 [==============================] - 117s 569ms/step - loss: 3.5503 - accuracy: 0.1298\n",
            "Epoch 2/40\n",
            "80/80 [==============================] - 45s 553ms/step - loss: 2.4157 - accuracy: 0.1664\n",
            "Epoch 3/40\n",
            "80/80 [==============================] - 43s 541ms/step - loss: 2.2359 - accuracy: 0.2014\n",
            "Epoch 4/40\n",
            "80/80 [==============================] - 43s 540ms/step - loss: 2.1211 - accuracy: 0.2589\n",
            "Epoch 5/40\n",
            "80/80 [==============================] - 44s 546ms/step - loss: 1.9520 - accuracy: 0.3198\n",
            "Epoch 6/40\n",
            "80/80 [==============================] - 44s 542ms/step - loss: 1.7889 - accuracy: 0.3655\n",
            "Epoch 7/40\n",
            "80/80 [==============================] - 44s 538ms/step - loss: 1.6179 - accuracy: 0.4331\n",
            "Epoch 8/40\n",
            "80/80 [==============================] - 43s 539ms/step - loss: 1.5079 - accuracy: 0.4870\n",
            "Epoch 9/40\n",
            "80/80 [==============================] - 44s 542ms/step - loss: 1.2180 - accuracy: 0.5822\n",
            "Epoch 10/40\n",
            "80/80 [==============================] - 44s 544ms/step - loss: 1.0048 - accuracy: 0.6601\n",
            "Epoch 11/40\n",
            "80/80 [==============================] - 43s 534ms/step - loss: 0.8037 - accuracy: 0.7231\n",
            "Epoch 12/40\n",
            "80/80 [==============================] - 45s 566ms/step - loss: 0.6159 - accuracy: 0.7852\n",
            "Epoch 13/40\n",
            "80/80 [==============================] - 43s 538ms/step - loss: 0.4774 - accuracy: 0.8399\n",
            "Epoch 14/40\n",
            "80/80 [==============================] - 43s 541ms/step - loss: 0.4213 - accuracy: 0.8651\n",
            "Epoch 15/40\n",
            "80/80 [==============================] - 45s 564ms/step - loss: 0.3607 - accuracy: 0.8875\n",
            "Epoch 16/40\n",
            "80/80 [==============================] - 44s 538ms/step - loss: 0.2936 - accuracy: 0.9091\n",
            "Epoch 17/40\n",
            "80/80 [==============================] - 43s 540ms/step - loss: 0.2686 - accuracy: 0.9182\n",
            "Epoch 18/40\n",
            "80/80 [==============================] - 45s 561ms/step - loss: 0.2269 - accuracy: 0.9194\n",
            "Epoch 19/40\n",
            "80/80 [==============================] - 44s 542ms/step - loss: 0.2088 - accuracy: 0.9367\n",
            "Epoch 20/40\n",
            "80/80 [==============================] - 43s 538ms/step - loss: 0.2029 - accuracy: 0.9363\n",
            "Epoch 21/40\n",
            "80/80 [==============================] - 44s 540ms/step - loss: 0.1805 - accuracy: 0.9402\n",
            "Epoch 22/40\n",
            "80/80 [==============================] - 45s 560ms/step - loss: 0.1639 - accuracy: 0.9508\n",
            "Epoch 23/40\n",
            "80/80 [==============================] - 44s 546ms/step - loss: 0.1385 - accuracy: 0.9496\n",
            "Epoch 24/40\n",
            "80/80 [==============================] - 43s 535ms/step - loss: 0.1342 - accuracy: 0.9571\n",
            "Epoch 25/40\n",
            "80/80 [==============================] - 43s 537ms/step - loss: 0.1264 - accuracy: 0.9626\n",
            "Epoch 26/40\n",
            "80/80 [==============================] - 43s 539ms/step - loss: 0.1218 - accuracy: 0.9614\n",
            "Epoch 27/40\n",
            "80/80 [==============================] - 44s 546ms/step - loss: 0.1097 - accuracy: 0.9638\n",
            "Epoch 28/40\n",
            "80/80 [==============================] - 43s 535ms/step - loss: 0.1174 - accuracy: 0.9603\n",
            "Epoch 29/40\n",
            "80/80 [==============================] - 43s 537ms/step - loss: 0.0951 - accuracy: 0.9697\n",
            "Epoch 30/40\n",
            "80/80 [==============================] - 43s 539ms/step - loss: 0.0824 - accuracy: 0.9736\n",
            "Epoch 31/40\n",
            "80/80 [==============================] - 45s 561ms/step - loss: 0.0945 - accuracy: 0.9673\n",
            "Epoch 32/40\n",
            "80/80 [==============================] - 44s 545ms/step - loss: 0.1023 - accuracy: 0.9680\n",
            "Epoch 33/40\n",
            "80/80 [==============================] - 43s 540ms/step - loss: 0.0723 - accuracy: 0.9784\n",
            "Epoch 34/40\n",
            "80/80 [==============================] - 46s 573ms/step - loss: 0.0807 - accuracy: 0.9740\n",
            "Epoch 35/40\n",
            "80/80 [==============================] - 44s 541ms/step - loss: 0.0704 - accuracy: 0.9776\n",
            "Epoch 36/40\n",
            "80/80 [==============================] - 43s 539ms/step - loss: 0.0788 - accuracy: 0.9748\n",
            "Epoch 37/40\n",
            "80/80 [==============================] - 43s 539ms/step - loss: 0.0588 - accuracy: 0.9831\n",
            "Epoch 38/40\n",
            "80/80 [==============================] - 44s 541ms/step - loss: 0.0826 - accuracy: 0.9752\n",
            "Epoch 39/40\n",
            "80/80 [==============================] - 44s 541ms/step - loss: 0.0589 - accuracy: 0.9823\n",
            "Epoch 40/40\n",
            "80/80 [==============================] - 45s 560ms/step - loss: 0.0604 - accuracy: 0.9815\n"
          ]
        }
      ]
    },
    {
      "cell_type": "code",
      "source": [
        "def plot_hist(hist):\n",
        "    plt.plot(hist.history[\"accuracy\"])\n",
        "    #plt.plot(hist.history[\"val_accuracy\"])\n",
        "    plt.title(\"model accuracy\")\n",
        "    plt.ylabel(\"accuracy\")\n",
        "    plt.xlabel(\"epoch\")\n",
        "    plt.legend([\"train\", \"validation\"], loc=\"upper left\")\n",
        "    plt.show()\n",
        "\n",
        "plot_hist(hist)"
      ],
      "metadata": {
        "colab": {
          "base_uri": "https://localhost:8080/",
          "height": 472
        },
        "id": "_Yu4XQu5mein",
        "outputId": "58550237-7249-4c5f-9773-5e4b3bd65db8"
      },
      "execution_count": null,
      "outputs": [
        {
          "output_type": "display_data",
          "data": {
            "text/plain": [
              "<Figure size 640x480 with 1 Axes>"
            ],
            "image/png": "[encoded data removed]"
          },
          "metadata": {}
        }
      ]
    },
    {
      "cell_type": "code",
      "source": [
        "preds = model_12.evaluate(test_x, test_y)\n",
        "print (\"Loss = \" + str(preds[0]))\n",
        "print (\"Test Accuracy = \" + str(preds[1]))"
      ],
      "metadata": {
        "colab": {
          "base_uri": "https://localhost:8080/"
        },
        "id": "g_ZfmC04melO",
        "outputId": "860161e0-d8ab-4fa6-9ff5-b05e320f7258"
      },
      "execution_count": null,
      "outputs": [
        {
          "output_type": "stream",
          "name": "stdout",
          "text": [
            "5/5 [==============================] - 9s 333ms/step - loss: 0.0724 - accuracy: 0.9779\n",
            "Loss = 0.07242725044488907\n",
            "Test Accuracy = 0.9779411554336548\n"
          ]
        }
      ]
    },
    {
      "cell_type": "markdown",
      "source": [
        "###Finding the Mean Class Accuracy,F1 Scores,Average Precision,Average Recall (model 12)"
      ],
      "metadata": {
        "id": "Pg22k4R7mlbl"
      }
    },
    {
      "cell_type": "code",
      "source": [
        "from sklearn.metrics import precision_score, recall_score, f1_score\n",
        "\n",
        "test_loss, test_acc = model_12.evaluate(test_x, test_y)\n",
        "pred_labels = np.argmax(model_12 .predict(test_x), axis=1)\n",
        "\n",
        "true_labels = np.argmax(test_y, axis=1)\n",
        "\n",
        "class_accuracies = []\n",
        "f1_scores = []\n",
        "avg_precisions = []\n",
        "avg_recalls = []\n",
        "\n",
        "for class_label in range(NUM_CLASSES):\n",
        "    class_indices = np.where(true_labels == class_label)[0]\n",
        "    class_pred_labels = pred_labels[class_indices]\n",
        "    class_true_labels = true_labels[class_indices]\n",
        "\n",
        "    # Calculate class accuracy\n",
        "    class_accuracy = np.mean(class_pred_labels == class_true_labels)\n",
        "    class_accuracies.append(class_accuracy)\n",
        "\n",
        "    # Calculate F1 score\n",
        "    class_f1_score = f1_score(class_true_labels, class_pred_labels, average='weighted', zero_division=0)\n",
        "    f1_scores.append(class_f1_score)\n",
        "\n",
        "    # Calculate precision\n",
        "    class_precision = precision_score(class_true_labels, class_pred_labels, average='weighted', zero_division=0)\n",
        "    avg_precisions.append(class_precision)\n",
        "\n",
        "    # Calculate recall\n",
        "    class_recall = recall_score(class_true_labels, class_pred_labels, average='weighted', zero_division=0)\n",
        "    avg_recalls.append(class_recall)\n",
        "\n",
        "mean_class_accuracy = np.mean(class_accuracies)\n",
        "mean_f1_score = np.mean(f1_scores)\n",
        "mean_precision = np.mean(avg_precisions)\n",
        "mean_recall = np.mean(avg_recalls)\n",
        "\n",
        "print(\"Mean Class Accuracy:\", mean_class_accuracy)\n",
        "print(\"Mean F1 Score:\", mean_f1_score)\n",
        "print(\"Mean Average Precision:\", mean_precision)\n",
        "print(\"Mean Average Recall:\", mean_recall)"
      ],
      "metadata": {
        "colab": {
          "base_uri": "https://localhost:8080/"
        },
        "id": "KFSjzgHfmp28",
        "outputId": "4dad4695-9996-45d7-fa64-dca2700e989c"
      },
      "execution_count": null,
      "outputs": [
        {
          "output_type": "stream",
          "name": "stdout",
          "text": [
            "5/5 [==============================] - 1s 88ms/step - loss: 0.0198 - accuracy: 0.9853\n",
            "5/5 [==============================] - 4s 103ms/step\n",
            "Mean Class Accuracy: 0.9841269841269842\n",
            "Mean F1 Score: 0.9914529914529915\n",
            "Mean Average Precision: 1.0\n",
            "Mean Average Recall: 0.9841269841269842\n"
          ]
        }
      ]
    },
    {
      "cell_type": "markdown",
      "source": [
        "# CutOut Augmentation with Adam optimizer (model 13)"
      ],
      "metadata": {
        "id": "KDljoayHA9-i"
      }
    },
    {
      "cell_type": "code",
      "source": [
        "import tensorflow as tf\n",
        "from tensorflow.keras.applications import EfficientNetB1\n",
        "from tensorflow.keras.preprocessing.image import ImageDataGenerator\n",
        "from tensorflow.keras import layers\n",
        "import numpy as np\n",
        "\n",
        "NUM_CLASSES = 9\n",
        "IMG_SIZE = 240\n",
        "\n",
        "# Create ImageDataGenerator with cropping augmentation\n",
        "train_datagen = ImageDataGenerator(\n",
        "    preprocessing_function=tf.keras.applications.efficientnet.preprocess_input,\n",
        "    width_shift_range=0.1,\n",
        "    height_shift_range=0.1,\n",
        "    zoom_range=0.1,\n",
        "    shear_range=0.1,\n",
        "    fill_mode='nearest'\n",
        ")\n",
        "train_datagen.fit(train_x)\n",
        "\n",
        "# Custom cutout augmentation function\n",
        "def cutout(image, mask_size):\n",
        "    mask_value = image.mean()\n",
        "    image_height, image_width, _ = image.shape\n",
        "    top = np.random.randint(0, image_height - mask_size)\n",
        "    left = np.random.randint(0, image_width - mask_size)\n",
        "    bottom = top + mask_size\n",
        "    right = left + mask_size\n",
        "    image[top:bottom, left:right, :] = mask_value\n",
        "    return image\n",
        "\n",
        "# Custom preprocessing function with cutout augmentation\n",
        "def custom_preprocessing(image):\n",
        "    image = cutout(image, mask_size=16)  # Adjust the mask size as desired\n",
        "    return image\n",
        "\n",
        "# Update the preprocessing function of the ImageDataGenerator\n",
        "train_datagen.preprocessing_function = custom_preprocessing\n",
        "\n",
        "train_generator = train_datagen.flow(\n",
        "    train_x,\n",
        "    train_y,\n",
        "    batch_size=32,\n",
        "    shuffle=True\n",
        ")\n",
        "\n",
        "inputs = layers.Input(shape=(IMG_SIZE, IMG_SIZE, 3))\n",
        "\n",
        "# Using model without transfer learning\n",
        "outputs = EfficientNetB1(include_top=True, weights=None, classes=NUM_CLASSES)(inputs)\n",
        "\n",
        "# Create RMSprop optimizer\n",
        "\n",
        "model_13 = tf.keras.Model(inputs, outputs)\n",
        "model_13.compile(optimizer='adam', loss='categorical_crossentropy', metrics=['accuracy'])\n",
        "model_13.summary()\n",
        "\n",
        "hist = model_13.fit(\n",
        "    train_generator,\n",
        "    steps_per_epoch=len(train_x) // 32,\n",
        "    epochs=40\n",
        ")\n"
      ],
      "metadata": {
        "colab": {
          "base_uri": "https://localhost:8080/"
        },
        "id": "HUNl9bSI_BFb",
        "outputId": "58713ce2-d6a5-43f5-9aca-28178dd5e864"
      },
      "execution_count": null,
      "outputs": [
        {
          "output_type": "stream",
          "name": "stdout",
          "text": [
            "Model: \"model_1\"\n",
            "_________________________________________________________________\n",
            " Layer (type)                Output Shape              Param #   \n",
            "=================================================================\n",
            " input_3 (InputLayer)        [(None, 240, 240, 3)]     0         \n",
            "                                                                 \n",
            " efficientnetb1 (Functional)  (None, 9)                6586768   \n",
            "                                                                 \n",
            "=================================================================\n",
            "Total params: 6,586,768\n",
            "Trainable params: 6,524,713\n",
            "Non-trainable params: 62,055\n",
            "_________________________________________________________________\n",
            "Epoch 1/40\n",
            "80/80 [==============================] - 129s 638ms/step - loss: 3.6100 - accuracy: 0.1282\n",
            "Epoch 2/40\n",
            "80/80 [==============================] - 61s 753ms/step - loss: 2.7055 - accuracy: 0.1613\n",
            "Epoch 3/40\n",
            "80/80 [==============================] - 57s 697ms/step - loss: 2.4403 - accuracy: 0.2073\n",
            "Epoch 4/40\n",
            "80/80 [==============================] - 58s 716ms/step - loss: 2.2658 - accuracy: 0.2085\n",
            "Epoch 5/40\n",
            "80/80 [==============================] - 49s 606ms/step - loss: 2.1035 - accuracy: 0.2443\n",
            "Epoch 6/40\n",
            "80/80 [==============================] - 47s 590ms/step - loss: 2.0410 - accuracy: 0.2836\n",
            "Epoch 7/40\n",
            "80/80 [==============================] - 47s 584ms/step - loss: 1.9815 - accuracy: 0.3159\n",
            "Epoch 8/40\n",
            "80/80 [==============================] - 47s 589ms/step - loss: 1.8787 - accuracy: 0.3541\n",
            "Epoch 9/40\n",
            "80/80 [==============================] - 48s 595ms/step - loss: 1.7140 - accuracy: 0.3895\n",
            "Epoch 10/40\n",
            "80/80 [==============================] - 47s 584ms/step - loss: 1.6274 - accuracy: 0.4473\n",
            "Epoch 11/40\n",
            "80/80 [==============================] - 48s 599ms/step - loss: 1.5343 - accuracy: 0.4654\n",
            "Epoch 12/40\n",
            "80/80 [==============================] - 47s 585ms/step - loss: 1.3206 - accuracy: 0.5338\n",
            "Epoch 13/40\n",
            "80/80 [==============================] - 48s 596ms/step - loss: 1.1537 - accuracy: 0.5999\n",
            "Epoch 14/40\n",
            "80/80 [==============================] - 47s 588ms/step - loss: 1.0277 - accuracy: 0.6601\n",
            "Epoch 15/40\n",
            "80/80 [==============================] - 47s 589ms/step - loss: 0.8259 - accuracy: 0.7301\n",
            "Epoch 16/40\n",
            "80/80 [==============================] - 48s 599ms/step - loss: 0.7313 - accuracy: 0.7541\n",
            "Epoch 17/40\n",
            "80/80 [==============================] - 48s 593ms/step - loss: 0.5767 - accuracy: 0.8080\n",
            "Epoch 18/40\n",
            "80/80 [==============================] - 47s 590ms/step - loss: 0.4417 - accuracy: 0.8560\n",
            "Epoch 19/40\n",
            "80/80 [==============================] - 48s 590ms/step - loss: 0.4449 - accuracy: 0.8544\n",
            "Epoch 20/40\n",
            "80/80 [==============================] - 48s 589ms/step - loss: 0.3567 - accuracy: 0.8812\n",
            "Epoch 21/40\n",
            "80/80 [==============================] - 49s 602ms/step - loss: 0.2971 - accuracy: 0.9044\n",
            "Epoch 22/40\n",
            "80/80 [==============================] - 47s 581ms/step - loss: 0.2947 - accuracy: 0.9079\n",
            "Epoch 23/40\n",
            "80/80 [==============================] - 47s 587ms/step - loss: 0.2053 - accuracy: 0.9375\n",
            "Epoch 24/40\n",
            "80/80 [==============================] - 47s 583ms/step - loss: 0.1937 - accuracy: 0.9453\n",
            "Epoch 25/40\n",
            "80/80 [==============================] - 50s 624ms/step - loss: 0.2630 - accuracy: 0.9178\n",
            "Epoch 26/40\n",
            "80/80 [==============================] - 49s 609ms/step - loss: 0.1624 - accuracy: 0.9434\n",
            "Epoch 27/40\n",
            "80/80 [==============================] - 47s 588ms/step - loss: 0.1648 - accuracy: 0.9489\n",
            "Epoch 28/40\n",
            "80/80 [==============================] - 46s 570ms/step - loss: 0.1801 - accuracy: 0.9434\n",
            "Epoch 29/40\n",
            "80/80 [==============================] - 46s 567ms/step - loss: 0.1567 - accuracy: 0.9461\n",
            "Epoch 30/40\n",
            "80/80 [==============================] - 46s 563ms/step - loss: 0.1755 - accuracy: 0.9382\n",
            "Epoch 31/40\n",
            "80/80 [==============================] - 46s 573ms/step - loss: 0.1314 - accuracy: 0.9567\n",
            "Epoch 32/40\n",
            "80/80 [==============================] - 45s 560ms/step - loss: 0.1188 - accuracy: 0.9587\n",
            "Epoch 33/40\n",
            "80/80 [==============================] - 46s 572ms/step - loss: 0.1590 - accuracy: 0.9457\n",
            "Epoch 34/40\n",
            "80/80 [==============================] - 46s 566ms/step - loss: 0.1156 - accuracy: 0.9614\n",
            "Epoch 35/40\n",
            "80/80 [==============================] - 46s 570ms/step - loss: 0.1038 - accuracy: 0.9697\n",
            "Epoch 36/40\n",
            "80/80 [==============================] - 45s 560ms/step - loss: 0.0945 - accuracy: 0.9701\n",
            "Epoch 37/40\n",
            "80/80 [==============================] - 47s 584ms/step - loss: 0.0860 - accuracy: 0.9709\n",
            "Epoch 38/40\n",
            "80/80 [==============================] - 45s 563ms/step - loss: 0.1267 - accuracy: 0.9563\n",
            "Epoch 39/40\n",
            "80/80 [==============================] - 46s 569ms/step - loss: 0.0810 - accuracy: 0.9729\n",
            "Epoch 40/40\n",
            "80/80 [==============================] - 45s 557ms/step - loss: 0.0903 - accuracy: 0.9713\n"
          ]
        }
      ]
    },
    {
      "cell_type": "code",
      "source": [],
      "metadata": {
        "colab": {
          "base_uri": "https://localhost:8080/",
          "height": 472
        },
        "id": "OKYRxEZuBQ2a",
        "outputId": "81e85984-f283-4ff2-879a-9a6938d1a15b"
      },
      "execution_count": null,
      "outputs": [
        {
          "output_type": "display_data",
          "data": {
            "text/plain": [
              "<Figure size 640x480 with 1 Axes>"
            ],
            "image/png": "[encoded data removed]"
          },
          "metadata": {}
        }
      ]
    },
    {
      "cell_type": "code",
      "source": [
        "preds = model_13.evaluate(test_x, test_y)\n",
        "print (\"Loss = \" + str(preds[0]))\n",
        "print (\"Test Accuracy = \" + str(preds[1]))"
      ],
      "metadata": {
        "colab": {
          "base_uri": "https://localhost:8080/"
        },
        "id": "y-zxKpJMBUMZ",
        "outputId": "b9344094-e776-420a-f050-5eba2c991b92"
      },
      "execution_count": null,
      "outputs": [
        {
          "output_type": "stream",
          "name": "stdout",
          "text": [
            "5/5 [==============================] - 0s 83ms/step - loss: 0.0724 - accuracy: 0.9779\n",
            "Loss = 0.07242725044488907\n",
            "Test Accuracy = 0.9779411554336548\n"
          ]
        }
      ]
    },
    {
      "cell_type": "markdown",
      "source": [
        "### Finding the Mean Class Accuracy,F1 Scores,Average Precision,Average Recall (model 13)"
      ],
      "metadata": {
        "id": "3yvBU7wwBqpj"
      }
    },
    {
      "cell_type": "code",
      "source": [
        "from sklearn.metrics import precision_score, recall_score, f1_score\n",
        "\n",
        "test_loss, test_acc = model_13.evaluate(test_x, test_y)\n",
        "pred_labels = np.argmax(model_13 .predict(test_x), axis=1)\n",
        "\n",
        "true_labels = np.argmax(test_y, axis=1)\n",
        "\n",
        "class_accuracies = []\n",
        "f1_scores = []\n",
        "avg_precisions = []\n",
        "avg_recalls = []\n",
        "\n",
        "for class_label in range(NUM_CLASSES):\n",
        "    class_indices = np.where(true_labels == class_label)[0]\n",
        "    class_pred_labels = pred_labels[class_indices]\n",
        "    class_true_labels = true_labels[class_indices]\n",
        "\n",
        "    # Calculate class accuracy\n",
        "    class_accuracy = np.mean(class_pred_labels == class_true_labels)\n",
        "    class_accuracies.append(class_accuracy)\n",
        "\n",
        "    # Calculate F1 score\n",
        "    class_f1_score = f1_score(class_true_labels, class_pred_labels, average='weighted', zero_division=0)\n",
        "    f1_scores.append(class_f1_score)\n",
        "\n",
        "    # Calculate precision\n",
        "    class_precision = precision_score(class_true_labels, class_pred_labels, average='weighted', zero_division=0)\n",
        "    avg_precisions.append(class_precision)\n",
        "\n",
        "    # Calculate recall\n",
        "    class_recall = recall_score(class_true_labels, class_pred_labels, average='weighted', zero_division=0)\n",
        "    avg_recalls.append(class_recall)\n",
        "\n",
        "mean_class_accuracy = np.mean(class_accuracies)\n",
        "mean_f1_score = np.mean(f1_scores)\n",
        "mean_precision = np.mean(avg_precisions)\n",
        "mean_recall = np.mean(avg_recalls)\n",
        "\n",
        "print(\"Mean Class Accuracy:\", mean_class_accuracy)\n",
        "print(\"Mean F1 Score:\", mean_f1_score)\n",
        "print(\"Mean Average Precision:\", mean_precision)\n",
        "print(\"Mean Average Recall:\", mean_recall)"
      ],
      "metadata": {
        "colab": {
          "base_uri": "https://localhost:8080/"
        },
        "id": "8Z6xNdXyBbtp",
        "outputId": "6536ddaa-243d-4f5b-f3f3-b50e352e7d28"
      },
      "execution_count": null,
      "outputs": [
        {
          "output_type": "stream",
          "name": "stdout",
          "text": [
            "5/5 [==============================] - 1s 85ms/step - loss: 0.0724 - accuracy: 0.9779\n",
            "5/5 [==============================] - 2s 96ms/step\n",
            "Mean Class Accuracy: 0.9748677248677249\n",
            "Mean F1 Score: 0.9866220735785952\n",
            "Mean Average Precision: 1.0\n",
            "Mean Average Recall: 0.9748677248677249\n"
          ]
        }
      ]
    },
    {
      "cell_type": "markdown",
      "source": [
        "# CutOut Augmentation with SGD optimizer (model 14)"
      ],
      "metadata": {
        "id": "1SISd6KyKyRI"
      }
    },
    {
      "cell_type": "code",
      "source": [
        "import tensorflow as tf\n",
        "from tensorflow.keras.applications import EfficientNetB1\n",
        "from tensorflow.keras.preprocessing.image import ImageDataGenerator\n",
        "from tensorflow.keras import layers\n",
        "import numpy as np\n",
        "\n",
        "NUM_CLASSES = 9\n",
        "IMG_SIZE = 240\n",
        "\n",
        "# Create ImageDataGenerator with cropping augmentation\n",
        "train_datagen = ImageDataGenerator(\n",
        "    preprocessing_function=tf.keras.applications.efficientnet.preprocess_input,\n",
        "    width_shift_range=0.1,\n",
        "    height_shift_range=0.1,\n",
        "    zoom_range=0.1,\n",
        "    shear_range=0.1,\n",
        "    fill_mode='nearest'\n",
        ")\n",
        "train_datagen.fit(train_x)\n",
        "\n",
        "# Custom cutout augmentation function\n",
        "def cutout(image, mask_size):\n",
        "    mask_value = image.mean()\n",
        "    image_height, image_width, _ = image.shape\n",
        "    top = np.random.randint(0, image_height - mask_size)\n",
        "    left = np.random.randint(0, image_width - mask_size)\n",
        "    bottom = top + mask_size\n",
        "    right = left + mask_size\n",
        "    image[top:bottom, left:right, :] = mask_value\n",
        "    return image\n",
        "\n",
        "# Custom preprocessing function with cutout augmentation\n",
        "def custom_preprocessing(image):\n",
        "    image = cutout(image, mask_size=16)  # Adjust the mask size as desired\n",
        "    return image\n",
        "\n",
        "# Update the preprocessing function of the ImageDataGenerator\n",
        "train_datagen.preprocessing_function = custom_preprocessing\n",
        "\n",
        "train_generator = train_datagen.flow(\n",
        "    train_x,\n",
        "    train_y,\n",
        "    batch_size=32,\n",
        "    shuffle=True\n",
        ")\n",
        "\n",
        "inputs = layers.Input(shape=(IMG_SIZE, IMG_SIZE, 3))\n",
        "\n",
        "# Using model without transfer learning\n",
        "outputs = EfficientNetB1(include_top=True, weights=None, classes=NUM_CLASSES)(inputs)\n",
        "\n",
        "# Create RMSprop optimizer\n",
        "\n",
        "model_14 = tf.keras.Model(inputs, outputs)\n",
        "model_14.compile(optimizer='sgd', loss='categorical_crossentropy', metrics=['accuracy'])\n",
        "model_14.summary()\n",
        "\n",
        "hist = model_14.fit(\n",
        "    train_generator,\n",
        "    steps_per_epoch=len(train_x) // 32,\n",
        "    epochs=40\n",
        ")\n"
      ],
      "metadata": {
        "colab": {
          "base_uri": "https://localhost:8080/"
        },
        "id": "gaOEfofOKsaR",
        "outputId": "c3d5d4d5-d3c4-4f61-e65a-f9a80a1b77d8"
      },
      "execution_count": null,
      "outputs": [
        {
          "output_type": "stream",
          "name": "stdout",
          "text": [
            "Model: \"model_3\"\n",
            "_________________________________________________________________\n",
            " Layer (type)                Output Shape              Param #   \n",
            "=================================================================\n",
            " input_7 (InputLayer)        [(None, 240, 240, 3)]     0         \n",
            "                                                                 \n",
            " efficientnetb1 (Functional)  (None, 9)                6586768   \n",
            "                                                                 \n",
            "=================================================================\n",
            "Total params: 6,586,768\n",
            "Trainable params: 6,524,713\n",
            "Non-trainable params: 62,055\n",
            "_________________________________________________________________\n",
            "Epoch 1/40\n",
            "80/80 [==============================] - 96s 730ms/step - loss: 3.1276 - accuracy: 0.1125\n",
            "Epoch 2/40\n",
            "80/80 [==============================] - 56s 690ms/step - loss: 2.8422 - accuracy: 0.1326\n",
            "Epoch 3/40\n",
            "80/80 [==============================] - 46s 574ms/step - loss: 2.7305 - accuracy: 0.1282\n",
            "Epoch 4/40\n",
            "80/80 [==============================] - 46s 573ms/step - loss: 2.7552 - accuracy: 0.1353\n",
            "Epoch 5/40\n",
            "80/80 [==============================] - 47s 587ms/step - loss: 2.6813 - accuracy: 0.1503\n",
            "Epoch 6/40\n",
            "80/80 [==============================] - 65s 814ms/step - loss: 2.6213 - accuracy: 0.1503\n",
            "Epoch 7/40\n",
            "80/80 [==============================] - 47s 591ms/step - loss: 2.5804 - accuracy: 0.1515\n",
            "Epoch 8/40\n",
            "80/80 [==============================] - 47s 581ms/step - loss: 2.5562 - accuracy: 0.1621\n",
            "Epoch 9/40\n",
            "80/80 [==============================] - 46s 573ms/step - loss: 2.5346 - accuracy: 0.1707\n",
            "Epoch 10/40\n",
            "80/80 [==============================] - 46s 577ms/step - loss: 2.5896 - accuracy: 0.1790\n",
            "Epoch 11/40\n",
            "80/80 [==============================] - 47s 589ms/step - loss: 2.5191 - accuracy: 0.1837\n",
            "Epoch 12/40\n",
            "80/80 [==============================] - 48s 593ms/step - loss: 2.4337 - accuracy: 0.1869\n",
            "Epoch 13/40\n",
            "80/80 [==============================] - 46s 571ms/step - loss: 2.4479 - accuracy: 0.2109\n",
            "Epoch 14/40\n",
            "80/80 [==============================] - 47s 581ms/step - loss: 2.3958 - accuracy: 0.2274\n",
            "Epoch 15/40\n",
            "80/80 [==============================] - 46s 577ms/step - loss: 2.3659 - accuracy: 0.2136\n",
            "Epoch 16/40\n",
            "80/80 [==============================] - 47s 587ms/step - loss: 2.3185 - accuracy: 0.2297\n",
            "Epoch 17/40\n",
            "80/80 [==============================] - 46s 571ms/step - loss: 2.3490 - accuracy: 0.2349\n",
            "Epoch 18/40\n",
            "80/80 [==============================] - 46s 575ms/step - loss: 2.2166 - accuracy: 0.2470\n",
            "Epoch 19/40\n",
            "80/80 [==============================] - 46s 577ms/step - loss: 2.2698 - accuracy: 0.2522\n",
            "Epoch 20/40\n",
            "80/80 [==============================] - 47s 587ms/step - loss: 2.2288 - accuracy: 0.2612\n",
            "Epoch 21/40\n",
            "80/80 [==============================] - 47s 580ms/step - loss: 2.2269 - accuracy: 0.2582\n",
            "Epoch 22/40\n",
            "80/80 [==============================] - 47s 581ms/step - loss: 2.1866 - accuracy: 0.2636\n",
            "Epoch 23/40\n",
            "80/80 [==============================] - 47s 589ms/step - loss: 2.1041 - accuracy: 0.2864\n",
            "Epoch 24/40\n",
            "80/80 [==============================] - 47s 578ms/step - loss: 2.0989 - accuracy: 0.2801\n",
            "Epoch 25/40\n",
            "80/80 [==============================] - 46s 573ms/step - loss: 2.0684 - accuracy: 0.2958\n",
            "Epoch 26/40\n",
            "80/80 [==============================] - 47s 580ms/step - loss: 2.0758 - accuracy: 0.3025\n",
            "Epoch 27/40\n",
            "80/80 [==============================] - 48s 593ms/step - loss: 2.0497 - accuracy: 0.3053\n",
            "Epoch 28/40\n",
            "80/80 [==============================] - 47s 590ms/step - loss: 1.9934 - accuracy: 0.3092\n",
            "Epoch 29/40\n",
            "80/80 [==============================] - 47s 585ms/step - loss: 1.9973 - accuracy: 0.3257\n",
            "Epoch 30/40\n",
            "80/80 [==============================] - 46s 576ms/step - loss: 1.9363 - accuracy: 0.3371\n",
            "Epoch 31/40\n",
            "80/80 [==============================] - 46s 577ms/step - loss: 1.9108 - accuracy: 0.3603\n",
            "Epoch 32/40\n",
            "80/80 [==============================] - 47s 584ms/step - loss: 1.9078 - accuracy: 0.3517\n",
            "Epoch 33/40\n",
            "80/80 [==============================] - 47s 577ms/step - loss: 1.8610 - accuracy: 0.3560\n",
            "Epoch 34/40\n",
            "80/80 [==============================] - 47s 581ms/step - loss: 1.8325 - accuracy: 0.3635\n",
            "Epoch 35/40\n",
            "80/80 [==============================] - 47s 581ms/step - loss: 1.7798 - accuracy: 0.3828\n",
            "Epoch 36/40\n",
            "80/80 [==============================] - 47s 589ms/step - loss: 1.7783 - accuracy: 0.3855\n",
            "Epoch 37/40\n",
            "80/80 [==============================] - 47s 590ms/step - loss: 1.7608 - accuracy: 0.4068\n",
            "Epoch 38/40\n",
            "80/80 [==============================] - 46s 575ms/step - loss: 1.6923 - accuracy: 0.4194\n",
            "Epoch 39/40\n",
            "80/80 [==============================] - 47s 582ms/step - loss: 1.6529 - accuracy: 0.4355\n",
            "Epoch 40/40\n",
            "80/80 [==============================] - 47s 589ms/step - loss: 1.6241 - accuracy: 0.4544\n"
          ]
        }
      ]
    },
    {
      "cell_type": "code",
      "source": [
        "def plot_hist(hist):\n",
        "    plt.plot(hist.history[\"accuracy\"])\n",
        "    #plt.plot(hist.history[\"val_accuracy\"])\n",
        "    plt.title(\"model accuracy\")\n",
        "    plt.ylabel(\"accuracy\")\n",
        "    plt.xlabel(\"epoch\")\n",
        "    plt.legend([\"train\", \"validation\"], loc=\"upper left\")\n",
        "    plt.show()\n",
        "\n",
        "plot_hist(hist)"
      ],
      "metadata": {
        "colab": {
          "base_uri": "https://localhost:8080/",
          "height": 472
        },
        "id": "EHpFkgdALOj6",
        "outputId": "35d61d97-5953-43cd-f280-19ff320ce6b8"
      },
      "execution_count": null,
      "outputs": [
        {
          "output_type": "display_data",
          "data": {
            "text/plain": [
              "<Figure size 640x480 with 1 Axes>"
            ],
            "image/png": "[encoded data removed]"
          },
          "metadata": {}
        }
      ]
    },
    {
      "cell_type": "code",
      "source": [
        "preds = model_14.evaluate(test_x, test_y)\n",
        "print (\"Loss = \" + str(preds[0]))\n",
        "print (\"Test Accuracy = \" + str(preds[1]))"
      ],
      "metadata": {
        "colab": {
          "base_uri": "https://localhost:8080/"
        },
        "id": "5gvwSRvkLY24",
        "outputId": "6bf6fc3d-e433-4a7c-a5c8-35b885826a5b"
      },
      "execution_count": null,
      "outputs": [
        {
          "output_type": "stream",
          "name": "stdout",
          "text": [
            "5/5 [==============================] - 3s 85ms/step - loss: 1.4282 - accuracy: 0.4706\n",
            "Loss = 1.428154706954956\n",
            "Test Accuracy = 0.47058823704719543\n"
          ]
        }
      ]
    },
    {
      "cell_type": "markdown",
      "source": [
        "###Finding the Mean Class Accuracy,F1 Scores,Average Precision,Average Recall (model 14)"
      ],
      "metadata": {
        "id": "i_inagLaLqcV"
      }
    },
    {
      "cell_type": "code",
      "source": [
        "from sklearn.metrics import precision_score, recall_score, f1_score\n",
        "\n",
        "test_loss, test_acc = model_14.evaluate(test_x, test_y)\n",
        "pred_labels = np.argmax(model_14 .predict(test_x), axis=1)\n",
        "\n",
        "true_labels = np.argmax(test_y, axis=1)\n",
        "\n",
        "class_accuracies = []\n",
        "f1_scores = []\n",
        "avg_precisions = []\n",
        "avg_recalls = []\n",
        "\n",
        "for class_label in range(NUM_CLASSES):\n",
        "    class_indices = np.where(true_labels == class_label)[0]\n",
        "    class_pred_labels = pred_labels[class_indices]\n",
        "    class_true_labels = true_labels[class_indices]\n",
        "\n",
        "    # Calculate class accuracy\n",
        "    class_accuracy = np.mean(class_pred_labels == class_true_labels)\n",
        "    class_accuracies.append(class_accuracy)\n",
        "\n",
        "    # Calculate F1 score\n",
        "    class_f1_score = f1_score(class_true_labels, class_pred_labels, average='weighted', zero_division=0)\n",
        "    f1_scores.append(class_f1_score)\n",
        "\n",
        "    # Calculate precision\n",
        "    class_precision = precision_score(class_true_labels, class_pred_labels, average='weighted', zero_division=0)\n",
        "    avg_precisions.append(class_precision)\n",
        "\n",
        "    # Calculate recall\n",
        "    class_recall = recall_score(class_true_labels, class_pred_labels, average='weighted', zero_division=0)\n",
        "    avg_recalls.append(class_recall)\n",
        "\n",
        "mean_class_accuracy = np.mean(class_accuracies)\n",
        "mean_f1_score = np.mean(f1_scores)\n",
        "mean_precision = np.mean(avg_precisions)\n",
        "mean_recall = np.mean(avg_recalls)\n",
        "\n",
        "print(\"Mean Class Accuracy:\", mean_class_accuracy)\n",
        "print(\"Mean F1 Score:\", mean_f1_score)\n",
        "print(\"Mean Average Precision:\", mean_precision)\n",
        "print(\"Mean Average Recall:\", mean_recall)"
      ],
      "metadata": {
        "colab": {
          "base_uri": "https://localhost:8080/"
        },
        "id": "IbxcC5VCLY5f",
        "outputId": "c1edf5fe-a213-4e5f-93a4-2e0c70e47165"
      },
      "execution_count": null,
      "outputs": [
        {
          "output_type": "stream",
          "name": "stdout",
          "text": [
            "5/5 [==============================] - 0s 86ms/step - loss: 1.4282 - accuracy: 0.4706\n",
            "5/5 [==============================] - 3s 97ms/step\n",
            "Mean Class Accuracy: 0.4578388868243941\n",
            "Mean F1 Score: 0.6144398284129967\n",
            "Mean Average Precision: 1.0\n",
            "Mean Average Recall: 0.4578388868243941\n"
          ]
        }
      ]
    },
    {
      "cell_type": "markdown",
      "source": [
        "#CutOut Augmentation with RMSprop optimizer (model 15)"
      ],
      "metadata": {
        "id": "lOK4tWXzVasf"
      }
    },
    {
      "cell_type": "code",
      "source": [
        "import tensorflow as tf\n",
        "from tensorflow.keras.applications import EfficientNetB1\n",
        "from tensorflow.keras.preprocessing.image import ImageDataGenerator\n",
        "from tensorflow.keras import layers\n",
        "import numpy as np\n",
        "\n",
        "NUM_CLASSES = 9\n",
        "IMG_SIZE = 240\n",
        "\n",
        "# Create ImageDataGenerator with cropping augmentation\n",
        "train_datagen = ImageDataGenerator(\n",
        "    preprocessing_function=tf.keras.applications.efficientnet.preprocess_input,\n",
        "    width_shift_range=0.1,\n",
        "    height_shift_range=0.1,\n",
        "    zoom_range=0.1,\n",
        "    shear_range=0.1,\n",
        "    fill_mode='nearest'\n",
        ")\n",
        "train_datagen.fit(train_x)\n",
        "\n",
        "# Custom cutout augmentation function\n",
        "def cutout(image, mask_size):\n",
        "    mask_value = image.mean()\n",
        "    image_height, image_width, _ = image.shape\n",
        "    top = np.random.randint(0, image_height - mask_size)\n",
        "    left = np.random.randint(0, image_width - mask_size)\n",
        "    bottom = top + mask_size\n",
        "    right = left + mask_size\n",
        "    image[top:bottom, left:right, :] = mask_value\n",
        "    return image\n",
        "\n",
        "# Custom preprocessing function with cutout augmentation\n",
        "def custom_preprocessing(image):\n",
        "    image = cutout(image, mask_size=16)  # Adjust the mask size as desired\n",
        "    return image\n",
        "\n",
        "# Update the preprocessing function of the ImageDataGenerator\n",
        "train_datagen.preprocessing_function = custom_preprocessing\n",
        "\n",
        "train_generator = train_datagen.flow(\n",
        "    train_x,\n",
        "    train_y,\n",
        "    batch_size=32,\n",
        "    shuffle=True\n",
        ")\n",
        "\n",
        "inputs = layers.Input(shape=(IMG_SIZE, IMG_SIZE, 3))\n",
        "\n",
        "# Using model without transfer learning\n",
        "outputs = EfficientNetB1(include_top=True, weights=None, classes=NUM_CLASSES)(inputs)\n",
        "\n",
        "# Create RMSprop optimizer\n",
        "optimizer = tf.keras.optimizers.RMSprop(learning_rate=0.001, rho=0.9)\n",
        "\n",
        "model_15 = tf.keras.Model(inputs, outputs)\n",
        "model_15.compile(optimizer=optimizer, loss='categorical_crossentropy', metrics=['accuracy'])\n",
        "model_15.summary()\n",
        "\n",
        "hist = model_15.fit(\n",
        "    train_generator,\n",
        "    steps_per_epoch=len(train_x) // 32,\n",
        "    epochs=40\n",
        ")\n"
      ],
      "metadata": {
        "colab": {
          "base_uri": "https://localhost:8080/"
        },
        "id": "fXOpAi4gLY7w",
        "outputId": "7c036faf-cb67-49a9-8828-e8352d54a07b"
      },
      "execution_count": null,
      "outputs": [
        {
          "output_type": "stream",
          "name": "stdout",
          "text": [
            "Model: \"model_4\"\n",
            "_________________________________________________________________\n",
            " Layer (type)                Output Shape              Param #   \n",
            "=================================================================\n",
            " input_9 (InputLayer)        [(None, 240, 240, 3)]     0         \n",
            "                                                                 \n",
            " efficientnetb1 (Functional)  (None, 9)                6586768   \n",
            "                                                                 \n",
            "=================================================================\n",
            "Total params: 6,586,768\n",
            "Trainable params: 6,524,713\n",
            "Non-trainable params: 62,055\n",
            "_________________________________________________________________\n",
            "Epoch 1/40\n",
            "80/80 [==============================] - 139s 746ms/step - loss: 3.7615 - accuracy: 0.1400\n",
            "Epoch 2/40\n",
            "80/80 [==============================] - 48s 594ms/step - loss: 2.5270 - accuracy: 0.1581\n",
            "Epoch 3/40\n",
            "80/80 [==============================] - 47s 587ms/step - loss: 2.2835 - accuracy: 0.1853\n",
            "Epoch 4/40\n",
            "80/80 [==============================] - 48s 592ms/step - loss: 2.1411 - accuracy: 0.2313\n",
            "Epoch 5/40\n",
            "80/80 [==============================] - 47s 588ms/step - loss: 1.9904 - accuracy: 0.3049\n",
            "Epoch 6/40\n",
            "80/80 [==============================] - 47s 576ms/step - loss: 1.8363 - accuracy: 0.3525\n",
            "Epoch 7/40\n",
            "80/80 [==============================] - 47s 581ms/step - loss: 1.6697 - accuracy: 0.4162\n",
            "Epoch 8/40\n",
            "80/80 [==============================] - 47s 580ms/step - loss: 1.5512 - accuracy: 0.4886\n",
            "Epoch 9/40\n",
            "80/80 [==============================] - 48s 592ms/step - loss: 1.3634 - accuracy: 0.5535\n",
            "Epoch 10/40\n",
            "80/80 [==============================] - 46s 573ms/step - loss: 1.1999 - accuracy: 0.6054\n",
            "Epoch 11/40\n",
            "80/80 [==============================] - 46s 577ms/step - loss: 1.0239 - accuracy: 0.6589\n",
            "Epoch 12/40\n",
            "80/80 [==============================] - 46s 577ms/step - loss: 0.9118 - accuracy: 0.7085\n",
            "Epoch 13/40\n",
            "80/80 [==============================] - 47s 586ms/step - loss: 0.7157 - accuracy: 0.7612\n",
            "Epoch 14/40\n",
            "80/80 [==============================] - 47s 576ms/step - loss: 0.6139 - accuracy: 0.7923\n",
            "Epoch 15/40\n",
            "80/80 [==============================] - 46s 578ms/step - loss: 0.4889 - accuracy: 0.8328\n",
            "Epoch 16/40\n",
            "80/80 [==============================] - 47s 583ms/step - loss: 0.4226 - accuracy: 0.8635\n",
            "Epoch 17/40\n",
            "80/80 [==============================] - 47s 581ms/step - loss: 0.3833 - accuracy: 0.8820\n",
            "Epoch 18/40\n",
            "80/80 [==============================] - 46s 570ms/step - loss: 0.3158 - accuracy: 0.8930\n",
            "Epoch 19/40\n",
            "80/80 [==============================] - 48s 598ms/step - loss: 0.2967 - accuracy: 0.9044\n",
            "Epoch 20/40\n",
            "80/80 [==============================] - 47s 579ms/step - loss: 0.2433 - accuracy: 0.9209\n",
            "Epoch 21/40\n",
            "80/80 [==============================] - 48s 598ms/step - loss: 0.2142 - accuracy: 0.9249\n",
            "Epoch 22/40\n",
            "80/80 [==============================] - 48s 587ms/step - loss: 0.2051 - accuracy: 0.9406\n",
            "Epoch 23/40\n",
            "80/80 [==============================] - 47s 580ms/step - loss: 0.1876 - accuracy: 0.9473\n",
            "Epoch 24/40\n",
            "80/80 [==============================] - 46s 571ms/step - loss: 0.1954 - accuracy: 0.9410\n",
            "Epoch 25/40\n",
            "80/80 [==============================] - 48s 596ms/step - loss: 0.1636 - accuracy: 0.9508\n",
            "Epoch 26/40\n",
            "80/80 [==============================] - 46s 572ms/step - loss: 0.1703 - accuracy: 0.9481\n",
            "Epoch 27/40\n",
            "80/80 [==============================] - 46s 574ms/step - loss: 0.1397 - accuracy: 0.9575\n",
            "Epoch 28/40\n",
            "80/80 [==============================] - 46s 577ms/step - loss: 0.1357 - accuracy: 0.9634\n",
            "Epoch 29/40\n",
            "80/80 [==============================] - 48s 596ms/step - loss: 0.1572 - accuracy: 0.9536\n",
            "Epoch 30/40\n",
            "80/80 [==============================] - 46s 574ms/step - loss: 0.1228 - accuracy: 0.9614\n",
            "Epoch 31/40\n",
            "80/80 [==============================] - 47s 585ms/step - loss: 0.1037 - accuracy: 0.9662\n",
            "Epoch 32/40\n",
            "80/80 [==============================] - 48s 594ms/step - loss: 0.1123 - accuracy: 0.9654\n",
            "Epoch 33/40\n",
            "80/80 [==============================] - 48s 599ms/step - loss: 0.1092 - accuracy: 0.9646\n",
            "Epoch 34/40\n",
            "80/80 [==============================] - 48s 588ms/step - loss: 0.0940 - accuracy: 0.9697\n",
            "Epoch 35/40\n",
            "80/80 [==============================] - 46s 576ms/step - loss: 0.0992 - accuracy: 0.9709\n",
            "Epoch 36/40\n",
            "80/80 [==============================] - 59s 727ms/step - loss: 0.0819 - accuracy: 0.9744\n",
            "Epoch 37/40\n",
            "80/80 [==============================] - 49s 604ms/step - loss: 0.0908 - accuracy: 0.9732\n",
            "Epoch 38/40\n",
            "80/80 [==============================] - 49s 606ms/step - loss: 0.0703 - accuracy: 0.9788\n",
            "Epoch 39/40\n",
            "80/80 [==============================] - 48s 595ms/step - loss: 0.0850 - accuracy: 0.9725\n",
            "Epoch 40/40\n",
            "80/80 [==============================] - 48s 599ms/step - loss: 0.0707 - accuracy: 0.9776\n"
          ]
        }
      ]
    },
    {
      "cell_type": "code",
      "source": [
        "def plot_hist(hist):\n",
        "    plt.plot(hist.history[\"accuracy\"])\n",
        "    #plt.plot(hist.history[\"val_accuracy\"])\n",
        "    plt.title(\"model accuracy\")\n",
        "    plt.ylabel(\"accuracy\")\n",
        "    plt.xlabel(\"epoch\")\n",
        "    plt.legend([\"train\", \"validation\"], loc=\"upper left\")\n",
        "    plt.show()\n",
        "\n",
        "plot_hist(hist)"
      ],
      "metadata": {
        "colab": {
          "base_uri": "https://localhost:8080/",
          "height": 472
        },
        "id": "Sx0Bb4wTLY-w",
        "outputId": "d23637ac-622b-49c8-bbc1-f906595ff401"
      },
      "execution_count": null,
      "outputs": [
        {
          "output_type": "display_data",
          "data": {
            "text/plain": [
              "<Figure size 640x480 with 1 Axes>"
            ],
            "image/png": "[encoded data removed]"
          },
          "metadata": {}
        }
      ]
    },
    {
      "cell_type": "code",
      "source": [
        "preds = model_15.evaluate(test_x, test_y)\n",
        "print (\"Loss = \" + str(preds[0]))\n",
        "print (\"Test Accuracy = \" + str(preds[1]))"
      ],
      "metadata": {
        "colab": {
          "base_uri": "https://localhost:8080/"
        },
        "id": "dLDlAtI0WjmY",
        "outputId": "6d347ade-fb0b-44e0-f85f-cd2baff8dd7c"
      },
      "execution_count": null,
      "outputs": [
        {
          "output_type": "stream",
          "name": "stdout",
          "text": [
            "5/5 [==============================] - 6s 92ms/step - loss: 0.1153 - accuracy: 0.9632\n",
            "Loss = 0.11528429388999939\n",
            "Test Accuracy = 0.9632353186607361\n"
          ]
        }
      ]
    },
    {
      "cell_type": "markdown",
      "source": [
        "###Finding the Mean Class Accuracy,F1 Scores,Average Precision,Average Recall (model 15)"
      ],
      "metadata": {
        "id": "E5pkOIafWj0N"
      }
    },
    {
      "cell_type": "code",
      "source": [
        "from sklearn.metrics import precision_score, recall_score, f1_score\n",
        "\n",
        "test_loss, test_acc = model_15.evaluate(test_x, test_y)\n",
        "pred_labels = np.argmax(model_15.predict(test_x), axis=1)\n",
        "\n",
        "true_labels = np.argmax(test_y, axis=1)\n",
        "\n",
        "class_accuracies = []\n",
        "f1_scores = []\n",
        "avg_precisions = []\n",
        "avg_recalls = []\n",
        "\n",
        "for class_label in range(NUM_CLASSES):\n",
        "    class_indices = np.where(true_labels == class_label)[0]\n",
        "    class_pred_labels = pred_labels[class_indices]\n",
        "    class_true_labels = true_labels[class_indices]\n",
        "\n",
        "    # Calculate class accuracy\n",
        "    class_accuracy = np.mean(class_pred_labels == class_true_labels)\n",
        "    class_accuracies.append(class_accuracy)\n",
        "\n",
        "    # Calculate F1 score\n",
        "    class_f1_score = f1_score(class_true_labels, class_pred_labels, average='weighted', zero_division=0)\n",
        "    f1_scores.append(class_f1_score)\n",
        "\n",
        "    # Calculate precision\n",
        "    class_precision = precision_score(class_true_labels, class_pred_labels, average='weighted', zero_division=0)\n",
        "    avg_precisions.append(class_precision)\n",
        "\n",
        "    # Calculate recall\n",
        "    class_recall = recall_score(class_true_labels, class_pred_labels, average='weighted', zero_division=0)\n",
        "    avg_recalls.append(class_recall)\n",
        "\n",
        "mean_class_accuracy = np.mean(class_accuracies)\n",
        "mean_f1_score = np.mean(f1_scores)\n",
        "mean_precision = np.mean(avg_precisions)\n",
        "mean_recall = np.mean(avg_recalls)\n",
        "\n",
        "print(\"Mean Class Accuracy:\", mean_class_accuracy)\n",
        "print(\"Mean F1 Score:\", mean_f1_score)\n",
        "print(\"Mean Average Precision:\", mean_precision)\n",
        "print(\"Mean Average Recall:\", mean_recall)"
      ],
      "metadata": {
        "colab": {
          "base_uri": "https://localhost:8080/"
        },
        "id": "EZggIOtfWkBl",
        "outputId": "06b98677-3c58-421e-cbbd-9dcf3b5afdd6"
      },
      "execution_count": null,
      "outputs": [
        {
          "output_type": "stream",
          "name": "stdout",
          "text": [
            "5/5 [==============================] - 1s 88ms/step - loss: 0.1153 - accuracy: 0.9632\n",
            "5/5 [==============================] - 2s 98ms/step\n",
            "Mean Class Accuracy: 0.9676818082615184\n",
            "Mean F1 Score: 0.9832152209929989\n",
            "Mean Average Precision: 1.0\n",
            "Mean Average Recall: 0.9676818082615184\n"
          ]
        }
      ]
    },
    {
      "cell_type": "markdown",
      "source": [
        "# Contrast augmentation with AdaM optimizer (model 16)"
      ],
      "metadata": {
        "id": "Do3K2sFyWxdl"
      }
    },
    {
      "cell_type": "code",
      "source": [
        "import tensorflow as tf\n",
        "from tensorflow.keras import layers\n",
        "from tensorflow.keras.applications import EfficientNetB1\n",
        "from tensorflow.keras.preprocessing.image import ImageDataGenerator\n",
        "\n",
        "def gamma_contrast_augmentation(image):\n",
        "    # Apply gamma contrast augmentation\n",
        "    gamma = tf.random.uniform([], 0.8, 1.2)\n",
        "    image = tf.pow(image, gamma)\n",
        "    return image\n",
        "\n",
        "train_datagen = ImageDataGenerator(\n",
        "    preprocessing_function=gamma_contrast_augmentation,\n",
        "    rotation_range=45\n",
        ")\n",
        "train_datagen.fit(train_x)\n",
        "\n",
        "train_generator = train_datagen.flow(\n",
        "    train_x,\n",
        "    train_y,\n",
        "    batch_size=32,\n",
        "    shuffle=True\n",
        ")\n",
        "\n",
        "NUM_CLASSES = 9\n",
        "IMG_SIZE = 240\n",
        "\n",
        "inputs = layers.Input(shape=(IMG_SIZE, IMG_SIZE, 3))\n",
        "\n",
        "# Using model without transfer learning\n",
        "outputs = EfficientNetB1(include_top=True, weights=None, classes=NUM_CLASSES)(inputs)\n",
        "model_16 = tf.keras.Model(inputs, outputs)\n",
        "model_16.compile(optimizer=\"adam\", loss=\"categorical_crossentropy\", metrics=[\"accuracy\"])\n",
        "model_16.summary()\n",
        "\n",
        "hist = model_16.fit(\n",
        "    train_generator,\n",
        "    steps_per_epoch=len(train_x) // 32,\n",
        "    epochs=40\n",
        ")\n"
      ],
      "metadata": {
        "colab": {
          "base_uri": "https://localhost:8080/"
        },
        "id": "3nbm4_u0fKhN",
        "outputId": "9d3770d0-6cff-4272-dda6-7b63f18049dc"
      },
      "execution_count": null,
      "outputs": [
        {
          "output_type": "stream",
          "name": "stdout",
          "text": [
            "Model: \"model\"\n",
            "_________________________________________________________________\n",
            " Layer (type)                Output Shape              Param #   \n",
            "=================================================================\n",
            " input_1 (InputLayer)        [(None, 240, 240, 3)]     0         \n",
            "                                                                 \n",
            " efficientnetb1 (Functional)  (None, 9)                6586768   \n",
            "                                                                 \n",
            "=================================================================\n",
            "Total params: 6,586,768\n",
            "Trainable params: 6,524,713\n",
            "Non-trainable params: 62,055\n",
            "_________________________________________________________________\n",
            "Epoch 1/40\n",
            "80/80 [==============================] - 146s 856ms/step - loss: 3.5342 - accuracy: 0.1424\n",
            "Epoch 2/40\n",
            "80/80 [==============================] - 69s 866ms/step - loss: 2.7273 - accuracy: 0.1699\n",
            "Epoch 3/40\n",
            "80/80 [==============================] - 69s 861ms/step - loss: 2.3891 - accuracy: 0.1979\n",
            "Epoch 4/40\n",
            "80/80 [==============================] - 68s 849ms/step - loss: 2.1933 - accuracy: 0.2474\n",
            "Epoch 5/40\n",
            "80/80 [==============================] - 69s 853ms/step - loss: 2.0959 - accuracy: 0.2805\n",
            "Epoch 6/40\n",
            "80/80 [==============================] - 71s 889ms/step - loss: 1.9953 - accuracy: 0.3171\n",
            "Epoch 7/40\n",
            "80/80 [==============================] - 71s 891ms/step - loss: 1.8833 - accuracy: 0.3501\n",
            "Epoch 8/40\n",
            "80/80 [==============================] - 69s 866ms/step - loss: 1.7875 - accuracy: 0.3780\n",
            "Epoch 9/40\n",
            "80/80 [==============================] - 69s 865ms/step - loss: 1.7148 - accuracy: 0.4178\n",
            "Epoch 10/40\n",
            "80/80 [==============================] - 75s 935ms/step - loss: 1.6114 - accuracy: 0.4540\n",
            "Epoch 11/40\n",
            "80/80 [==============================] - 69s 863ms/step - loss: 1.4931 - accuracy: 0.4878\n",
            "Epoch 12/40\n",
            "80/80 [==============================] - 70s 869ms/step - loss: 1.3974 - accuracy: 0.5185\n",
            "Epoch 13/40\n",
            "80/80 [==============================] - 70s 879ms/step - loss: 1.2909 - accuracy: 0.5515\n",
            "Epoch 14/40\n",
            "80/80 [==============================] - 71s 883ms/step - loss: 1.1559 - accuracy: 0.5991\n",
            "Epoch 15/40\n",
            "80/80 [==============================] - 70s 880ms/step - loss: 1.0588 - accuracy: 0.6440\n",
            "Epoch 16/40\n",
            "80/80 [==============================] - 70s 881ms/step - loss: 0.9359 - accuracy: 0.6853\n",
            "Epoch 17/40\n",
            "80/80 [==============================] - 70s 869ms/step - loss: 0.8575 - accuracy: 0.7089\n",
            "Epoch 18/40\n",
            "80/80 [==============================] - 71s 882ms/step - loss: 0.7491 - accuracy: 0.7427\n",
            "Epoch 19/40\n",
            "80/80 [==============================] - 70s 875ms/step - loss: 0.6165 - accuracy: 0.7974\n",
            "Epoch 20/40\n",
            "80/80 [==============================] - 71s 888ms/step - loss: 0.6002 - accuracy: 0.8037\n",
            "Epoch 21/40\n",
            "80/80 [==============================] - 71s 882ms/step - loss: 0.5184 - accuracy: 0.8261\n",
            "Epoch 22/40\n",
            "80/80 [==============================] - 71s 891ms/step - loss: 0.4753 - accuracy: 0.8419\n",
            "Epoch 23/40\n",
            "80/80 [==============================] - 71s 886ms/step - loss: 0.4535 - accuracy: 0.8572\n",
            "Epoch 24/40\n",
            "80/80 [==============================] - 72s 895ms/step - loss: 0.3253 - accuracy: 0.8777\n",
            "Epoch 25/40\n",
            "80/80 [==============================] - 70s 876ms/step - loss: 0.3673 - accuracy: 0.8828\n",
            "Epoch 26/40\n",
            "80/80 [==============================] - 71s 890ms/step - loss: 0.2891 - accuracy: 0.9072\n",
            "Epoch 27/40\n",
            "80/80 [==============================] - 72s 902ms/step - loss: 0.3079 - accuracy: 0.9040\n",
            "Epoch 28/40\n",
            "80/80 [==============================] - 70s 880ms/step - loss: 0.2545 - accuracy: 0.9150\n",
            "Epoch 29/40\n",
            "80/80 [==============================] - 70s 876ms/step - loss: 0.2652 - accuracy: 0.9166\n",
            "Epoch 30/40\n",
            "80/80 [==============================] - 71s 892ms/step - loss: 0.2240 - accuracy: 0.9304\n",
            "Epoch 31/40\n",
            "80/80 [==============================] - 70s 874ms/step - loss: 0.2328 - accuracy: 0.9264\n",
            "Epoch 32/40\n",
            "80/80 [==============================] - 69s 868ms/step - loss: 0.2427 - accuracy: 0.9201\n",
            "Epoch 33/40\n",
            "80/80 [==============================] - 69s 868ms/step - loss: 0.2166 - accuracy: 0.9296\n",
            "Epoch 34/40\n",
            "80/80 [==============================] - 71s 877ms/step - loss: 0.1610 - accuracy: 0.9481\n",
            "Epoch 35/40\n",
            "80/80 [==============================] - 70s 869ms/step - loss: 0.1703 - accuracy: 0.9449\n",
            "Epoch 36/40\n",
            "80/80 [==============================] - 70s 874ms/step - loss: 0.1574 - accuracy: 0.9485\n",
            "Epoch 37/40\n",
            "80/80 [==============================] - 69s 865ms/step - loss: 0.1339 - accuracy: 0.9599\n",
            "Epoch 38/40\n",
            "80/80 [==============================] - 70s 871ms/step - loss: 0.1808 - accuracy: 0.9406\n",
            "Epoch 39/40\n",
            "80/80 [==============================] - 69s 861ms/step - loss: 0.1916 - accuracy: 0.9414\n",
            "Epoch 40/40\n",
            "80/80 [==============================] - 70s 870ms/step - loss: 0.1442 - accuracy: 0.9536\n"
          ]
        }
      ]
    },
    {
      "cell_type": "code",
      "source": [
        "def plot_hist(hist):\n",
        "    plt.plot(hist.history[\"accuracy\"])\n",
        "    #plt.plot(hist.history[\"val_accuracy\"])\n",
        "    plt.title(\"model accuracy\")\n",
        "    plt.ylabel(\"accuracy\")\n",
        "    plt.xlabel(\"epoch\")\n",
        "    plt.legend([\"train\", \"validation\"], loc=\"upper left\")\n",
        "    plt.show()\n",
        "\n",
        "plot_hist(hist)"
      ],
      "metadata": {
        "colab": {
          "base_uri": "https://localhost:8080/",
          "height": 472
        },
        "id": "pr5wWp6ophH_",
        "outputId": "2ec1ed4a-4ed0-4c55-d807-77368e58520c"
      },
      "execution_count": null,
      "outputs": [
        {
          "output_type": "display_data",
          "data": {
            "text/plain": [
              "<Figure size 640x480 with 1 Axes>"
            ],
            "image/png": "[encoded data removed]"
          },
          "metadata": {}
        }
      ]
    },
    {
      "cell_type": "code",
      "source": [
        "preds = model_16.evaluate(test_x, test_y)\n",
        "print (\"Loss = \" + str(preds[0]))\n",
        "print (\"Test Accuracy = \" + str(preds[1]))"
      ],
      "metadata": {
        "colab": {
          "base_uri": "https://localhost:8080/"
        },
        "id": "QqK0Rdrz3U6O",
        "outputId": "be691e4e-dc57-4b7a-87ab-694b335ee8c2"
      },
      "execution_count": null,
      "outputs": [
        {
          "output_type": "stream",
          "name": "stdout",
          "text": [
            "5/5 [==============================] - 13s 470ms/step - loss: 0.0771 - accuracy: 0.9779\n",
            "Loss = 0.07710959017276764\n",
            "Test Accuracy = 0.9779411554336548\n"
          ]
        }
      ]
    },
    {
      "cell_type": "markdown",
      "source": [
        "###Finding the Mean Class Accuracy,F1 Scores,Average Precision,Average Recall (model 16)"
      ],
      "metadata": {
        "id": "_XgSmxFM3b2Q"
      }
    },
    {
      "cell_type": "code",
      "source": [
        "from sklearn.metrics import precision_score, recall_score, f1_score\n",
        "\n",
        "test_loss, test_acc = model_16.evaluate(test_x, test_y)\n",
        "pred_labels = np.argmax(model_16.predict(test_x), axis=1)\n",
        "\n",
        "true_labels = np.argmax(test_y, axis=1)\n",
        "\n",
        "class_accuracies = []\n",
        "f1_scores = []\n",
        "avg_precisions = []\n",
        "avg_recalls = []\n",
        "\n",
        "for class_label in range(NUM_CLASSES):\n",
        "    class_indices = np.where(true_labels == class_label)[0]\n",
        "    class_pred_labels = pred_labels[class_indices]\n",
        "    class_true_labels = true_labels[class_indices]\n",
        "\n",
        "    # Calculate class accuracy\n",
        "    class_accuracy = np.mean(class_pred_labels == class_true_labels)\n",
        "    class_accuracies.append(class_accuracy)\n",
        "\n",
        "    # Calculate F1 score\n",
        "    class_f1_score = f1_score(class_true_labels, class_pred_labels, average='weighted', zero_division=0)\n",
        "    f1_scores.append(class_f1_score)\n",
        "\n",
        "    # Calculate precision\n",
        "    class_precision = precision_score(class_true_labels, class_pred_labels, average='weighted', zero_division=0)\n",
        "    avg_precisions.append(class_precision)\n",
        "\n",
        "    # Calculate recall\n",
        "    class_recall = recall_score(class_true_labels, class_pred_labels, average='weighted', zero_division=0)\n",
        "    avg_recalls.append(class_recall)\n",
        "\n",
        "mean_class_accuracy = np.mean(class_accuracies)\n",
        "mean_f1_score = np.mean(f1_scores)\n",
        "mean_precision = np.mean(avg_precisions)\n",
        "mean_recall = np.mean(avg_recalls)\n",
        "\n",
        "print(\"Mean Class Accuracy:\", mean_class_accuracy)\n",
        "print(\"Mean F1 Score:\", mean_f1_score)\n",
        "print(\"Mean Average Precision:\", mean_precision)\n",
        "print(\"Mean Average Recall:\", mean_recall)"
      ],
      "metadata": {
        "colab": {
          "base_uri": "https://localhost:8080/"
        },
        "id": "hwtrRj603Y3p",
        "outputId": "d47eca97-beb3-4284-e526-0ae29b926fcf"
      },
      "execution_count": null,
      "outputs": [
        {
          "output_type": "stream",
          "name": "stdout",
          "text": [
            "5/5 [==============================] - 1s 100ms/step - loss: 0.0771 - accuracy: 0.9779\n",
            "5/5 [==============================] - 7s 99ms/step\n",
            "Mean Class Accuracy: 0.9753086419753088\n",
            "Mean F1 Score: 0.9867243867243867\n",
            "Mean Average Precision: 1.0\n",
            "Mean Average Recall: 0.9753086419753088\n"
          ]
        }
      ]
    },
    {
      "cell_type": "markdown",
      "source": [
        "# Contrast augmentation with SDG optimizer (model 17)"
      ],
      "metadata": {
        "id": "CapxCJep3iO5"
      }
    },
    {
      "cell_type": "code",
      "source": [
        "import tensorflow as tf\n",
        "from tensorflow.keras import layers\n",
        "from tensorflow.keras.applications import EfficientNetB1\n",
        "from tensorflow.keras.preprocessing.image import ImageDataGenerator\n",
        "\n",
        "def gamma_contrast_augmentation(image):\n",
        "    # Apply gamma contrast augmentation\n",
        "    gamma = tf.random.uniform([], 0.8, 1.2)\n",
        "    image = tf.pow(image, gamma)\n",
        "    return image\n",
        "\n",
        "train_datagen = ImageDataGenerator(\n",
        "    preprocessing_function=gamma_contrast_augmentation,\n",
        "    rotation_range=45\n",
        ")\n",
        "train_datagen.fit(train_x)\n",
        "\n",
        "train_generator = train_datagen.flow(\n",
        "    train_x,\n",
        "    train_y,\n",
        "    batch_size=32,\n",
        "    shuffle=True\n",
        ")\n",
        "\n",
        "NUM_CLASSES = 9\n",
        "IMG_SIZE = 240\n",
        "\n",
        "inputs = layers.Input(shape=(IMG_SIZE, IMG_SIZE, 3))\n",
        "\n",
        "# Using model without transfer learning\n",
        "outputs = EfficientNetB1(include_top=True, weights=None, classes=NUM_CLASSES)(inputs)\n",
        "model_17 = tf.keras.Model(inputs, outputs)\n",
        "model_17.compile(optimizer=\"sgd\", loss=\"categorical_crossentropy\", metrics=[\"accuracy\"])\n",
        "model_17.summary()\n",
        "\n",
        "hist = model_17.fit(\n",
        "    train_generator,\n",
        "    steps_per_epoch=len(train_x) // 32,\n",
        "    epochs=40\n",
        ")\n"
      ],
      "metadata": {
        "colab": {
          "base_uri": "https://localhost:8080/"
        },
        "id": "CY7G7UT53g6g",
        "outputId": "ce09cb84-85d3-4300-e131-6e0af4266c81"
      },
      "execution_count": null,
      "outputs": [
        {
          "output_type": "stream",
          "name": "stdout",
          "text": [
            "Model: \"model_2\"\n",
            "_________________________________________________________________\n",
            " Layer (type)                Output Shape              Param #   \n",
            "=================================================================\n",
            " input_5 (InputLayer)        [(None, 240, 240, 3)]     0         \n",
            "                                                                 \n",
            " efficientnetb1 (Functional)  (None, 9)                6586768   \n",
            "                                                                 \n",
            "=================================================================\n",
            "Total params: 6,586,768\n",
            "Trainable params: 6,524,713\n",
            "Non-trainable params: 62,055\n",
            "_________________________________________________________________\n",
            "Epoch 1/40\n",
            "80/80 [==============================] - 105s 881ms/step - loss: 2.9913 - accuracy: 0.1385\n",
            "Epoch 2/40\n",
            "80/80 [==============================] - 72s 894ms/step - loss: 2.8790 - accuracy: 0.1259\n",
            "Epoch 3/40\n",
            "80/80 [==============================] - 71s 890ms/step - loss: 2.7539 - accuracy: 0.1424\n",
            "Epoch 4/40\n",
            "80/80 [==============================] - 72s 898ms/step - loss: 2.6188 - accuracy: 0.1361\n",
            "Epoch 5/40\n",
            "80/80 [==============================] - 71s 885ms/step - loss: 2.5499 - accuracy: 0.1522\n",
            "Epoch 6/40\n",
            "80/80 [==============================] - 71s 888ms/step - loss: 2.5933 - accuracy: 0.1475\n",
            "Epoch 7/40\n",
            "80/80 [==============================] - 72s 898ms/step - loss: 2.5432 - accuracy: 0.1530\n",
            "Epoch 8/40\n",
            "80/80 [==============================] - 72s 893ms/step - loss: 2.4493 - accuracy: 0.1581\n",
            "Epoch 9/40\n",
            "80/80 [==============================] - 72s 898ms/step - loss: 2.4277 - accuracy: 0.1644\n",
            "Epoch 10/40\n",
            "80/80 [==============================] - 72s 894ms/step - loss: 2.3886 - accuracy: 0.1739\n",
            "Epoch 11/40\n",
            "80/80 [==============================] - 72s 901ms/step - loss: 2.4264 - accuracy: 0.1825\n",
            "Epoch 12/40\n",
            "80/80 [==============================] - 72s 894ms/step - loss: 2.4022 - accuracy: 0.1928\n",
            "Epoch 13/40\n",
            "80/80 [==============================] - 71s 892ms/step - loss: 2.4631 - accuracy: 0.1888\n",
            "Epoch 14/40\n",
            "80/80 [==============================] - 72s 897ms/step - loss: 2.3745 - accuracy: 0.1979\n",
            "Epoch 15/40\n",
            "80/80 [==============================] - 71s 892ms/step - loss: 2.3004 - accuracy: 0.2132\n",
            "Epoch 16/40\n",
            "80/80 [==============================] - 72s 897ms/step - loss: 2.2810 - accuracy: 0.2274\n",
            "Epoch 17/40\n",
            "80/80 [==============================] - 71s 893ms/step - loss: 2.3115 - accuracy: 0.2199\n",
            "Epoch 18/40\n",
            "80/80 [==============================] - 72s 897ms/step - loss: 2.2201 - accuracy: 0.2514\n",
            "Epoch 19/40\n",
            "80/80 [==============================] - 72s 897ms/step - loss: 2.2295 - accuracy: 0.2522\n",
            "Epoch 20/40\n",
            "80/80 [==============================] - 72s 894ms/step - loss: 2.1883 - accuracy: 0.2537\n",
            "Epoch 21/40\n",
            "80/80 [==============================] - 71s 882ms/step - loss: 2.1852 - accuracy: 0.2687\n",
            "Epoch 22/40\n",
            "80/80 [==============================] - 72s 892ms/step - loss: 2.1562 - accuracy: 0.2710\n",
            "Epoch 23/40\n",
            "80/80 [==============================] - 71s 894ms/step - loss: 2.1227 - accuracy: 0.2801\n",
            "Epoch 24/40\n",
            "80/80 [==============================] - 72s 895ms/step - loss: 2.0829 - accuracy: 0.2887\n",
            "Epoch 25/40\n",
            "80/80 [==============================] - 71s 879ms/step - loss: 2.0849 - accuracy: 0.3033\n",
            "Epoch 26/40\n",
            "80/80 [==============================] - 71s 890ms/step - loss: 2.0398 - accuracy: 0.3104\n",
            "Epoch 27/40\n",
            "80/80 [==============================] - 72s 895ms/step - loss: 2.0066 - accuracy: 0.3124\n",
            "Epoch 28/40\n",
            "80/80 [==============================] - 72s 900ms/step - loss: 2.0589 - accuracy: 0.3226\n",
            "Epoch 29/40\n",
            "80/80 [==============================] - 71s 891ms/step - loss: 2.0313 - accuracy: 0.3320\n",
            "Epoch 30/40\n",
            "80/80 [==============================] - 71s 890ms/step - loss: 1.9895 - accuracy: 0.3332\n",
            "Epoch 31/40\n",
            "80/80 [==============================] - 71s 889ms/step - loss: 1.9692 - accuracy: 0.3537\n",
            "Epoch 32/40\n",
            "80/80 [==============================] - 71s 882ms/step - loss: 1.9420 - accuracy: 0.3426\n",
            "Epoch 33/40\n",
            "80/80 [==============================] - 71s 886ms/step - loss: 1.9128 - accuracy: 0.3580\n",
            "Epoch 34/40\n",
            "80/80 [==============================] - 71s 884ms/step - loss: 1.9003 - accuracy: 0.3627\n",
            "Epoch 35/40\n",
            "80/80 [==============================] - 71s 885ms/step - loss: 1.8088 - accuracy: 0.3812\n",
            "Epoch 36/40\n",
            "80/80 [==============================] - 73s 908ms/step - loss: 1.8190 - accuracy: 0.3788\n",
            "Epoch 37/40\n",
            "80/80 [==============================] - 72s 895ms/step - loss: 1.7601 - accuracy: 0.4079\n",
            "Epoch 38/40\n",
            "80/80 [==============================] - 72s 901ms/step - loss: 1.7659 - accuracy: 0.4072\n",
            "Epoch 39/40\n",
            "80/80 [==============================] - 71s 889ms/step - loss: 1.7017 - accuracy: 0.4213\n",
            "Epoch 40/40\n",
            "80/80 [==============================] - 72s 900ms/step - loss: 1.6996 - accuracy: 0.4245\n"
          ]
        }
      ]
    },
    {
      "cell_type": "code",
      "source": [
        "def plot_hist(hist):\n",
        "    plt.plot(hist.history[\"accuracy\"])\n",
        "    #plt.plot(hist.history[\"val_accuracy\"])\n",
        "    plt.title(\"model accuracy\")\n",
        "    plt.ylabel(\"accuracy\")\n",
        "    plt.xlabel(\"epoch\")\n",
        "    plt.legend([\"train\", \"validation\"], loc=\"upper left\")\n",
        "    plt.show()\n",
        "\n",
        "plot_hist(hist)"
      ],
      "metadata": {
        "colab": {
          "base_uri": "https://localhost:8080/",
          "height": 472
        },
        "id": "gqgV1_343oP3",
        "outputId": "8248693a-1d6e-4538-8d15-747969ecaa85"
      },
      "execution_count": null,
      "outputs": [
        {
          "output_type": "display_data",
          "data": {
            "text/plain": [
              "<Figure size 640x480 with 1 Axes>"
            ],
            "image/png": "[encoded data removed]"
          },
          "metadata": {}
        }
      ]
    },
    {
      "cell_type": "code",
      "source": [
        "preds = model_17.evaluate(test_x, test_y)\n",
        "print (\"Loss = \" + str(preds[0]))\n",
        "print (\"Test Accuracy = \" + str(preds[1]))"
      ],
      "metadata": {
        "colab": {
          "base_uri": "https://localhost:8080/"
        },
        "id": "ziFWQCuQAwEs",
        "outputId": "f101b090-ff61-4482-d051-164d98ef650a"
      },
      "execution_count": null,
      "outputs": [
        {
          "output_type": "stream",
          "name": "stdout",
          "text": [
            "5/5 [==============================] - 5s 114ms/step - loss: 1.6079 - accuracy: 0.3750\n",
            "Loss = 1.6078647375106812\n",
            "Test Accuracy = 0.375\n"
          ]
        }
      ]
    },
    {
      "cell_type": "markdown",
      "source": [
        "###Finding the Mean Class Accuracy,F1 Scores,Average Precision,Average Recall (model 17)"
      ],
      "metadata": {
        "id": "eLnCc4AvAwtT"
      }
    },
    {
      "cell_type": "code",
      "source": [
        "from sklearn.metrics import precision_score, recall_score, f1_score\n",
        "\n",
        "test_loss, test_acc = model_17.evaluate(test_x, test_y)\n",
        "pred_labels = np.argmax(model_17.predict(test_x), axis=1)\n",
        "\n",
        "true_labels = np.argmax(test_y, axis=1)\n",
        "\n",
        "class_accuracies = []\n",
        "f1_scores = []\n",
        "avg_precisions = []\n",
        "avg_recalls = []\n",
        "\n",
        "for class_label in range(NUM_CLASSES):\n",
        "    class_indices = np.where(true_labels == class_label)[0]\n",
        "    class_pred_labels = pred_labels[class_indices]\n",
        "    class_true_labels = true_labels[class_indices]\n",
        "\n",
        "    # Calculate class accuracy\n",
        "    class_accuracy = np.mean(class_pred_labels == class_true_labels)\n",
        "    class_accuracies.append(class_accuracy)\n",
        "\n",
        "    # Calculate F1 score\n",
        "    class_f1_score = f1_score(class_true_labels, class_pred_labels, average='weighted', zero_division=0)\n",
        "    f1_scores.append(class_f1_score)\n",
        "\n",
        "    # Calculate precision\n",
        "    class_precision = precision_score(class_true_labels, class_pred_labels, average='weighted', zero_division=0)\n",
        "    avg_precisions.append(class_precision)\n",
        "\n",
        "    # Calculate recall\n",
        "    class_recall = recall_score(class_true_labels, class_pred_labels, average='weighted', zero_division=0)\n",
        "    avg_recalls.append(class_recall)\n",
        "\n",
        "mean_class_accuracy = np.mean(class_accuracies)\n",
        "mean_f1_score = np.mean(f1_scores)\n",
        "mean_precision = np.mean(avg_precisions)\n",
        "mean_recall = np.mean(avg_recalls)\n",
        "\n",
        "print(\"Mean Class Accuracy:\", mean_class_accuracy)\n",
        "print(\"Mean F1 Score:\", mean_f1_score)\n",
        "print(\"Mean Average Precision:\", mean_precision)\n",
        "print(\"Mean Average Recall:\", mean_recall)"
      ],
      "metadata": {
        "colab": {
          "base_uri": "https://localhost:8080/"
        },
        "id": "WbYG8DIfAw2c",
        "outputId": "1a326331-bf0a-4470-bec9-cbdcf7815e6a"
      },
      "execution_count": null,
      "outputs": [
        {
          "output_type": "stream",
          "name": "stdout",
          "text": [
            "5/5 [==============================] - 1s 102ms/step - loss: 1.6079 - accuracy: 0.3750\n",
            "5/5 [==============================] - 6s 109ms/step\n",
            "Mean Class Accuracy: 0.35176425828599744\n",
            "Mean F1 Score: 0.4824203755576305\n",
            "Mean Average Precision: 1.0\n",
            "Mean Average Recall: 0.35176425828599744\n"
          ]
        }
      ]
    },
    {
      "cell_type": "markdown",
      "source": [
        "# Contrast augmentation with RMS optimizer (model 18)"
      ],
      "metadata": {
        "id": "wsGRpEJ0F8LE"
      }
    },
    {
      "cell_type": "code",
      "source": [
        "import tensorflow as tf\n",
        "from tensorflow.keras import layers\n",
        "from tensorflow.keras.applications import EfficientNetB1\n",
        "from tensorflow.keras.preprocessing.image import ImageDataGenerator\n",
        "\n",
        "def gamma_contrast_augmentation(image):\n",
        "    # Apply gamma contrast augmentation\n",
        "    gamma = tf.random.uniform([], 0.8, 1.2)\n",
        "    image = tf.pow(image, gamma)\n",
        "    return image\n",
        "\n",
        "train_datagen = ImageDataGenerator(\n",
        "    preprocessing_function=gamma_contrast_augmentation,\n",
        "    rotation_range=45\n",
        ")\n",
        "train_datagen.fit(train_x)\n",
        "\n",
        "train_generator = train_datagen.flow(\n",
        "    train_x,\n",
        "    train_y,\n",
        "    batch_size=32,\n",
        "    shuffle=True\n",
        ")\n",
        "\n",
        "NUM_CLASSES = 9\n",
        "IMG_SIZE = 240\n",
        "\n",
        "inputs = layers.Input(shape=(IMG_SIZE, IMG_SIZE, 3))\n",
        "\n",
        "# Using model without transfer learning\n",
        "optimizer = tf.keras.optimizers.RMSprop(learning_rate=0.001, rho=0.9)\n",
        "\n",
        "outputs = EfficientNetB1(include_top=True, weights=None, classes=NUM_CLASSES)(inputs)\n",
        "model_18 = tf.keras.Model(inputs, outputs)\n",
        "model_18.compile(optimizer=optimizer, loss=\"categorical_crossentropy\", metrics=[\"accuracy\"])\n",
        "model_18.summary()\n",
        "\n",
        "hist = model_18.fit(\n",
        "    train_generator,\n",
        "    steps_per_epoch=len(train_x) // 32,\n",
        "    epochs=40\n",
        ")\n"
      ],
      "metadata": {
        "colab": {
          "base_uri": "https://localhost:8080/"
        },
        "id": "N4qIGrysFm3X",
        "outputId": "ddbca252-e94d-4406-b965-f595bec2e7a9"
      },
      "execution_count": null,
      "outputs": [
        {
          "output_type": "stream",
          "name": "stdout",
          "text": [
            "Model: \"model\"\n",
            "_________________________________________________________________\n",
            " Layer (type)                Output Shape              Param #   \n",
            "=================================================================\n",
            " input_1 (InputLayer)        [(None, 240, 240, 3)]     0         \n",
            "                                                                 \n",
            " efficientnetb1 (Functional)  (None, 9)                6586768   \n",
            "                                                                 \n",
            "=================================================================\n",
            "Total params: 6,586,768\n",
            "Trainable params: 6,524,713\n",
            "Non-trainable params: 62,055\n",
            "_________________________________________________________________\n",
            "Epoch 1/40\n",
            "80/80 [==============================] - 124s 801ms/step - loss: 3.6364 - accuracy: 0.1294\n",
            "Epoch 2/40\n",
            "80/80 [==============================] - 65s 808ms/step - loss: 2.4484 - accuracy: 0.1774\n",
            "Epoch 3/40\n",
            "80/80 [==============================] - 65s 808ms/step - loss: 2.2851 - accuracy: 0.1979\n",
            "Epoch 4/40\n",
            "80/80 [==============================] - 66s 819ms/step - loss: 2.1333 - accuracy: 0.2211\n",
            "Epoch 5/40\n",
            "80/80 [==============================] - 66s 821ms/step - loss: 1.9617 - accuracy: 0.2887\n",
            "Epoch 6/40\n",
            "80/80 [==============================] - 67s 828ms/step - loss: 1.8137 - accuracy: 0.3438\n",
            "Epoch 7/40\n",
            "80/80 [==============================] - 65s 807ms/step - loss: 1.6454 - accuracy: 0.4072\n",
            "Epoch 8/40\n",
            "80/80 [==============================] - 65s 812ms/step - loss: 1.5090 - accuracy: 0.4457\n",
            "Epoch 9/40\n",
            "80/80 [==============================] - 65s 815ms/step - loss: 1.3492 - accuracy: 0.5149\n",
            "Epoch 10/40\n",
            "80/80 [==============================] - 66s 820ms/step - loss: 1.2118 - accuracy: 0.5838\n",
            "Epoch 11/40\n",
            "80/80 [==============================] - 65s 813ms/step - loss: 1.0321 - accuracy: 0.6377\n",
            "Epoch 12/40\n",
            "80/80 [==============================] - 66s 820ms/step - loss: 0.9660 - accuracy: 0.6574\n",
            "Epoch 13/40\n",
            "80/80 [==============================] - 64s 799ms/step - loss: 0.8217 - accuracy: 0.7175\n",
            "Epoch 14/40\n",
            "80/80 [==============================] - 65s 817ms/step - loss: 0.6753 - accuracy: 0.7714\n",
            "Epoch 15/40\n",
            "80/80 [==============================] - 65s 818ms/step - loss: 0.5987 - accuracy: 0.7978\n",
            "Epoch 16/40\n",
            "80/80 [==============================] - 65s 817ms/step - loss: 0.5339 - accuracy: 0.8183\n",
            "Epoch 17/40\n",
            "80/80 [==============================] - 65s 808ms/step - loss: 0.4495 - accuracy: 0.8446\n",
            "Epoch 18/40\n",
            "80/80 [==============================] - 64s 804ms/step - loss: 0.4103 - accuracy: 0.8588\n",
            "Epoch 19/40\n",
            "80/80 [==============================] - 66s 821ms/step - loss: 0.3799 - accuracy: 0.8710\n",
            "Epoch 20/40\n",
            "80/80 [==============================] - 66s 830ms/step - loss: 0.3287 - accuracy: 0.8895\n",
            "Epoch 21/40\n",
            "80/80 [==============================] - 65s 813ms/step - loss: 0.2907 - accuracy: 0.9024\n",
            "Epoch 22/40\n",
            "80/80 [==============================] - 66s 819ms/step - loss: 0.2694 - accuracy: 0.9099\n",
            "Epoch 23/40\n",
            "80/80 [==============================] - 65s 813ms/step - loss: 0.2676 - accuracy: 0.9052\n",
            "Epoch 24/40\n",
            "80/80 [==============================] - 65s 817ms/step - loss: 0.2274 - accuracy: 0.9229\n",
            "Epoch 25/40\n",
            "80/80 [==============================] - 65s 808ms/step - loss: 0.2317 - accuracy: 0.9233\n",
            "Epoch 26/40\n",
            "80/80 [==============================] - 65s 814ms/step - loss: 0.1861 - accuracy: 0.9461\n",
            "Epoch 27/40\n",
            "80/80 [==============================] - 65s 813ms/step - loss: 0.2095 - accuracy: 0.9327\n",
            "Epoch 28/40\n",
            "80/80 [==============================] - 64s 799ms/step - loss: 0.1743 - accuracy: 0.9406\n",
            "Epoch 29/40\n",
            "80/80 [==============================] - 65s 815ms/step - loss: 0.1645 - accuracy: 0.9477\n",
            "Epoch 30/40\n",
            "80/80 [==============================] - 65s 818ms/step - loss: 0.1756 - accuracy: 0.9418\n",
            "Epoch 31/40\n",
            "80/80 [==============================] - 65s 814ms/step - loss: 0.1508 - accuracy: 0.9536\n",
            "Epoch 32/40\n",
            "80/80 [==============================] - 66s 819ms/step - loss: 0.1609 - accuracy: 0.9473\n",
            "Epoch 33/40\n",
            "80/80 [==============================] - 64s 803ms/step - loss: 0.1527 - accuracy: 0.9544\n",
            "Epoch 34/40\n",
            "80/80 [==============================] - 65s 811ms/step - loss: 0.1487 - accuracy: 0.9508\n",
            "Epoch 35/40\n",
            "80/80 [==============================] - 64s 801ms/step - loss: 0.1249 - accuracy: 0.9614\n",
            "Epoch 36/40\n",
            "80/80 [==============================] - 64s 802ms/step - loss: 0.1172 - accuracy: 0.9681\n",
            "Epoch 37/40\n",
            "80/80 [==============================] - 64s 802ms/step - loss: 0.1102 - accuracy: 0.9618\n",
            "Epoch 38/40\n",
            "80/80 [==============================] - 65s 804ms/step - loss: 0.1298 - accuracy: 0.9591\n",
            "Epoch 39/40\n",
            "80/80 [==============================] - 65s 813ms/step - loss: 0.1304 - accuracy: 0.9548\n",
            "Epoch 40/40\n",
            "80/80 [==============================] - 65s 815ms/step - loss: 0.1048 - accuracy: 0.9677\n"
          ]
        }
      ]
    },
    {
      "cell_type": "code",
      "source": [
        "def plot_hist(hist):\n",
        "    plt.plot(hist.history[\"accuracy\"])\n",
        "    #plt.plot(hist.history[\"val_accuracy\"])\n",
        "    plt.title(\"model accuracy\")\n",
        "    plt.ylabel(\"accuracy\")\n",
        "    plt.xlabel(\"epoch\")\n",
        "    plt.legend([\"train\", \"validation\"], loc=\"upper left\")\n",
        "    plt.show()\n",
        "\n",
        "plot_hist(hist)"
      ],
      "metadata": {
        "colab": {
          "base_uri": "https://localhost:8080/",
          "height": 472
        },
        "id": "VBGWAluE_sR-",
        "outputId": "7e8ca747-9708-47ab-8e41-43b18c9485c4"
      },
      "execution_count": null,
      "outputs": [
        {
          "output_type": "display_data",
          "data": {
            "text/plain": [
              "<Figure size 640x480 with 1 Axes>"
            ],
            "image/png": "[encoded data removed]"
          },
          "metadata": {}
        }
      ]
    },
    {
      "cell_type": "code",
      "source": [
        "preds = model_18.evaluate(test_x, test_y)\n",
        "print (\"Loss = \" + str(preds[0]))\n",
        "print (\"Test Accuracy = \" + str(preds[1]))"
      ],
      "metadata": {
        "colab": {
          "base_uri": "https://localhost:8080/"
        },
        "id": "ZvWUIvG7_sbt",
        "outputId": "b3df67d5-e122-4c3c-d296-0e5b7ac6ee11"
      },
      "execution_count": null,
      "outputs": [
        {
          "output_type": "stream",
          "name": "stdout",
          "text": [
            "5/5 [==============================] - 6s 281ms/step - loss: 0.0262 - accuracy: 0.9853\n",
            "Loss = 0.026171056553721428\n",
            "Test Accuracy = 0.9852941036224365\n"
          ]
        }
      ]
    },
    {
      "cell_type": "markdown",
      "source": [],
      "metadata": {
        "id": "fVREbuzD_-1X"
      }
    },
    {
      "cell_type": "code",
      "source": [
        "from sklearn.metrics import precision_score, recall_score, f1_score\n",
        "\n",
        "test_loss, test_acc = model_18.evaluate(test_x, test_y)\n",
        "pred_labels = np.argmax(model_18.predict(test_x), axis=1)\n",
        "\n",
        "true_labels = np.argmax(test_y, axis=1)\n",
        "\n",
        "class_accuracies = []\n",
        "f1_scores = []\n",
        "avg_precisions = []\n",
        "avg_recalls = []\n",
        "\n",
        "for class_label in range(NUM_CLASSES):\n",
        "    class_indices = np.where(true_labels == class_label)[0]\n",
        "    class_pred_labels = pred_labels[class_indices]\n",
        "    class_true_labels = true_labels[class_indices]\n",
        "\n",
        "    # Calculate class accuracy\n",
        "    class_accuracy = np.mean(class_pred_labels == class_true_labels)\n",
        "    class_accuracies.append(class_accuracy)\n",
        "\n",
        "    # Calculate F1 score\n",
        "    class_f1_score = f1_score(class_true_labels, class_pred_labels, average='weighted', zero_division=0)\n",
        "    f1_scores.append(class_f1_score)\n",
        "\n",
        "    # Calculate precision\n",
        "    class_precision = precision_score(class_true_labels, class_pred_labels, average='weighted', zero_division=0)\n",
        "    avg_precisions.append(class_precision)\n",
        "\n",
        "    # Calculate recall\n",
        "    class_recall = recall_score(class_true_labels, class_pred_labels, average='weighted', zero_division=0)\n",
        "    avg_recalls.append(class_recall)\n",
        "\n",
        "mean_class_accuracy = np.mean(class_accuracies)\n",
        "mean_f1_score = np.mean(f1_scores)\n",
        "mean_precision = np.mean(avg_precisions)\n",
        "mean_recall = np.mean(avg_recalls)\n",
        "\n",
        "print(\"Mean Class Accuracy:\", mean_class_accuracy)\n",
        "print(\"Mean F1 Score:\", mean_f1_score)\n",
        "print(\"Mean Average Precision:\", mean_precision)\n",
        "print(\"Mean Average Recall:\", mean_recall)"
      ],
      "metadata": {
        "colab": {
          "base_uri": "https://localhost:8080/"
        },
        "id": "KHsVh3Zk_5Hv",
        "outputId": "77d5b0ae-aa20-497c-ae52-0961772594ad"
      },
      "execution_count": null,
      "outputs": [
        {
          "output_type": "stream",
          "name": "stdout",
          "text": [
            "5/5 [==============================] - 1s 91ms/step - loss: 0.0262 - accuracy: 0.9853\n",
            "5/5 [==============================] - 4s 110ms/step\n",
            "Mean Class Accuracy: 0.9828042328042328\n",
            "Mean F1 Score: 0.9910538557881553\n",
            "Mean Average Precision: 1.0\n",
            "Mean Average Recall: 0.9828042328042328\n"
          ]
        }
      ]
    },
    {
      "cell_type": "code",
      "source": [],
      "metadata": {
        "id": "k4zwmtp1ABvn"
      },
      "execution_count": null,
      "outputs": []
    }
  ]
}