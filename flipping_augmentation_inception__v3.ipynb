{
  "nbformat": 4,
  "nbformat_minor": 0,
  "metadata": {
    "colab": {
      "provenance": [],
      "gpuType": "T4",
      "authorship_tag": "ABX9TyNwW9SYHCNmK+kyy5c9fIU1",
      "include_colab_link": true
    },
    "kernelspec": {
      "name": "python3",
      "display_name": "Python 3"
    },
    "language_info": {
      "name": "python"
    },
    "accelerator": "GPU"
  },
  "cells": [
    {
      "cell_type": "markdown",
      "metadata": {
        "id": "view-in-github",
        "colab_type": "text"
      },
      "source": [
        "<a href=\"https://colab.research.google.com/github/MrBaten/AutoML/blob/main/flipping_augmentation_inception__v3.ipynb\" target=\"_parent\"><img src=\"https://colab.research.google.com/assets/colab-badge.svg\" alt=\"Open In Colab\"/></a>"
      ]
    },
    {
      "cell_type": "code",
      "execution_count": null,
      "metadata": {
        "id": "ixypzmZJ2a93"
      },
      "outputs": [],
      "source": []
    },
    {
      "cell_type": "code",
      "source": [
        "from google.colab import drive\n",
        "drive.mount('/content/drive')"
      ],
      "metadata": {
        "colab": {
          "base_uri": "https://localhost:8080/"
        },
        "id": "_0SQsRvFmbVL",
        "outputId": "e8262a28-652e-418e-af57-0d395e28d53d"
      },
      "execution_count": null,
      "outputs": [
        {
          "output_type": "stream",
          "name": "stdout",
          "text": [
            "Mounted at /content/drive\n"
          ]
        }
      ]
    },
    {
      "cell_type": "code",
      "source": [
        "\n",
        "import zipfile\n",
        "zip_file_path = '/content/drive/MyDrive/Pest.zip'\n",
        "\n",
        "# Specify the destination directory to extract the contents\n",
        "destination_path = '/content/'\n",
        "\n",
        "# Extract the zip file\n",
        "with zipfile.ZipFile(zip_file_path, 'r') as zip_ref:\n",
        "    zip_ref.extractall(destination_path)"
      ],
      "metadata": {
        "id": "RXV7bzJYY6Py"
      },
      "execution_count": null,
      "outputs": []
    },
    {
      "cell_type": "code",
      "source": [
        "import keras,os\n",
        "import numpy as np\n",
        "import tensorflow as tf\n",
        "import cv2\n",
        "from keras.applications.inception_v3 import InceptionV3\n",
        "from tensorflow.keras.models import Sequential , load_model , Model\n",
        "from tensorflow.keras.layers import Dense, Conv2D, MaxPool2D , Flatten, Dropout, GlobalAveragePooling2D\n",
        "from keras.preprocessing.image import ImageDataGenerator\n",
        "from keras.utils import np_utils\n",
        "from tensorflow.keras import applications\n",
        "from tensorflow.keras import optimizers\n",
        "import pandas as pd\n",
        "import matplotlib.pyplot as plt\n",
        "import seaborn as sns\n",
        "from tensorflow.keras.utils import load_img, img_to_array\n",
        "from keras.layers import BatchNormalization\n",
        "from glob import glob\n",
        "# Step 1: Prepare your dataset\n",
        "# Assume you have a directory with images and corresponding labels\n",
        "\n",
        "with tf.device('/gpu:0'):\n",
        "    pass\n",
        "\n",
        "train_dir = '/content/pest/train'\n",
        "valid_dir = '/content/pest/test'"
      ],
      "metadata": {
        "id": "5M0uPs0y295a"
      },
      "execution_count": null,
      "outputs": []
    },
    {
      "cell_type": "code",
      "source": [
        "horizontal_flip = True\n",
        "vertical_flip = False\n",
        "\n",
        "batch_size = 256\n",
        "train_datagen = ImageDataGenerator(rescale=1/255,\n",
        "                  shear_range=0.3,\n",
        "                  horizontal_flip = horizontal_flip,\n",
        "                  vertical_flip = vertical_flip,\n",
        "                  zoom_range=0.3\n",
        "                  )\n",
        "val_datagen = ImageDataGenerator(rescale=1/255)\n",
        "\n",
        "train_generator = train_datagen.flow_from_directory(\n",
        "                train_dir,\n",
        "                target_size=(224,224),\n",
        "                batch_size=batch_size,\n",
        "                color_mode=\"rgb\",\n",
        "                class_mode=\"categorical\"\n",
        "                )\n",
        "\n",
        "val_generator = val_datagen.flow_from_directory(\n",
        "                valid_dir,\n",
        "                target_size=(224,224),\n",
        "                batch_size=batch_size,\n",
        "                color_mode=\"rgb\",\n",
        "                class_mode=\"categorical\"\n",
        "                )"
      ],
      "metadata": {
        "colab": {
          "base_uri": "https://localhost:8080/"
        },
        "id": "cTOx7W5I3YXw",
        "outputId": "5d80935a-d1e5-4ae0-b72f-89e49c6c2a91"
      },
      "execution_count": null,
      "outputs": [
        {
          "output_type": "stream",
          "name": "stdout",
          "text": [
            "Found 2700 images belonging to 9 classes.\n",
            "Found 450 images belonging to 9 classes.\n"
          ]
        }
      ]
    },
    {
      "cell_type": "code",
      "source": [
        "# Initialize empty lists to store the data and labels\n",
        "train_x = []\n",
        "train_y = []\n",
        "test_x = []\n",
        "test_y = []\n",
        "\n",
        "# Iterate over the training data generator and collect all batches\n",
        "for train_batch_x, train_batch_y in train_generator:\n",
        "    train_x.append(train_batch_x)\n",
        "    train_y.append(train_batch_y)\n",
        "\n",
        "    # Check if we have collected all samples\n",
        "    if len(train_x) * train_generator.batch_size >= len(train_generator.filenames):\n",
        "        break\n",
        "\n",
        "# Concatenate the batches to form the complete training dataset\n",
        "train_x = np.concatenate(train_x, axis=0)\n",
        "train_y = np.concatenate(train_y, axis=0)\n",
        "\n",
        "# Iterate over the test data generator and collect all batches\n",
        "for test_batch_x, test_batch_y in val_generator:\n",
        "    test_x.append(test_batch_x)\n",
        "    test_y.append(test_batch_y)\n",
        "\n",
        "    # Check if we have collected all samples\n",
        "    if len(test_x) * val_generator.batch_size >= len(val_generator.filenames):\n",
        "        break\n",
        "\n",
        "# Concatenate the batches to form the complete test dataset\n",
        "test_x = np.concatenate(test_x, axis=0)\n",
        "test_y = np.concatenate(test_y, axis=0)"
      ],
      "metadata": {
        "id": "Iib0K-J8pDDP"
      },
      "execution_count": null,
      "outputs": []
    },
    {
      "cell_type": "code",
      "source": [
        "print(train_x.shape)\n",
        "print(train_y.shape)\n",
        "print(test_x.shape)\n",
        "print(test_y.shape)"
      ],
      "metadata": {
        "colab": {
          "base_uri": "https://localhost:8080/"
        },
        "id": "n5cJcmNVZ2wM",
        "outputId": "806e6808-3326-4bad-9d4f-c481c46e9684"
      },
      "execution_count": null,
      "outputs": [
        {
          "output_type": "stream",
          "name": "stdout",
          "text": [
            "(2700, 224, 224, 3)\n",
            "(2700, 9)\n",
            "(450, 224, 224, 3)\n",
            "(450, 9)\n"
          ]
        }
      ]
    },
    {
      "cell_type": "code",
      "source": [
        "IncV3 = InceptionV3(include_top = False, weights = \"imagenet\",input_shape = (224,224,3))"
      ],
      "metadata": {
        "id": "tfpVo2_V36wV",
        "colab": {
          "base_uri": "https://localhost:8080/"
        },
        "outputId": "a4f92b1b-f210-4280-d5c6-276438cbdc83"
      },
      "execution_count": null,
      "outputs": [
        {
          "output_type": "stream",
          "name": "stdout",
          "text": [
            "Downloading data from https://storage.googleapis.com/tensorflow/keras-applications/inception_v3/inception_v3_weights_tf_dim_ordering_tf_kernels_notop.h5\n",
            "87910968/87910968 [==============================] - 0s 0us/step\n"
          ]
        }
      ]
    },
    {
      "cell_type": "code",
      "source": [
        "className = glob(train_dir + \"/*\")\n",
        "NumberofClass = len(className)\n",
        "print(\"NumberofClass:\", NumberofClass)"
      ],
      "metadata": {
        "colab": {
          "base_uri": "https://localhost:8080/"
        },
        "id": "y8rM8F5b53NS",
        "outputId": "a5432842-be03-4d72-e486-93db8d4949a2"
      },
      "execution_count": null,
      "outputs": [
        {
          "output_type": "stream",
          "name": "stdout",
          "text": [
            "NumberofClass: 9\n"
          ]
        }
      ]
    },
    {
      "cell_type": "code",
      "source": [
        "model = Sequential()\n",
        "\n",
        "model.add(IncV3)\n",
        "\n",
        "for layer in model.layers:\n",
        "    layer.trainable = False\n",
        "\n",
        "\n",
        "model.add(Flatten())\n",
        "\n",
        "model.add(Dense(units = 2048, activation = \"relu\"))\n",
        "model.add(Dropout(0.5))\n",
        "model.add(Dense(units = NumberofClass, activation = \"softmax\"))\n"
      ],
      "metadata": {
        "id": "8xoS3qEn4Gj_"
      },
      "execution_count": null,
      "outputs": []
    },
    {
      "cell_type": "code",
      "source": [
        "model.compile(optimizer = \"adam\", loss = \"categorical_crossentropy\", metrics = [\"accuracy\"])"
      ],
      "metadata": {
        "id": "bd-P7Oa-6Dri"
      },
      "execution_count": null,
      "outputs": []
    },
    {
      "cell_type": "code",
      "source": [
        "model.fit(train_x, train_y, batch_size=32, epochs=40, validation_data=(test_x, test_y))"
      ],
      "metadata": {
        "colab": {
          "base_uri": "https://localhost:8080/"
        },
        "id": "vOjYUfJ9a_zA",
        "outputId": "c902e282-c8a2-4f9c-a0ea-0e26a37066f8"
      },
      "execution_count": null,
      "outputs": [
        {
          "output_type": "stream",
          "name": "stdout",
          "text": [
            "Epoch 1/40\n",
            "85/85 [==============================] - 27s 151ms/step - loss: 18.8424 - accuracy: 0.6063 - val_loss: 0.7710 - val_accuracy: 0.8667\n",
            "Epoch 2/40\n",
            "85/85 [==============================] - 8s 98ms/step - loss: 0.6645 - accuracy: 0.8737 - val_loss: 0.2797 - val_accuracy: 0.9244\n",
            "Epoch 3/40\n",
            "85/85 [==============================] - 8s 99ms/step - loss: 0.2968 - accuracy: 0.9119 - val_loss: 0.2441 - val_accuracy: 0.9467\n",
            "Epoch 4/40\n",
            "85/85 [==============================] - 9s 101ms/step - loss: 0.1908 - accuracy: 0.9433 - val_loss: 0.2803 - val_accuracy: 0.9311\n",
            "Epoch 5/40\n",
            "85/85 [==============================] - 8s 95ms/step - loss: 0.2692 - accuracy: 0.9326 - val_loss: 0.3505 - val_accuracy: 0.9311\n",
            "Epoch 6/40\n",
            "85/85 [==============================] - 8s 97ms/step - loss: 0.3855 - accuracy: 0.9163 - val_loss: 0.2164 - val_accuracy: 0.9533\n",
            "Epoch 7/40\n",
            "85/85 [==============================] - 9s 100ms/step - loss: 0.3380 - accuracy: 0.9230 - val_loss: 0.4251 - val_accuracy: 0.9133\n",
            "Epoch 8/40\n",
            "85/85 [==============================] - 8s 96ms/step - loss: 0.2775 - accuracy: 0.9270 - val_loss: 0.2037 - val_accuracy: 0.9578\n",
            "Epoch 9/40\n",
            "85/85 [==============================] - 9s 103ms/step - loss: 0.1787 - accuracy: 0.9515 - val_loss: 0.2468 - val_accuracy: 0.9533\n",
            "Epoch 10/40\n",
            "85/85 [==============================] - 8s 99ms/step - loss: 0.2539 - accuracy: 0.9370 - val_loss: 0.4371 - val_accuracy: 0.9444\n",
            "Epoch 11/40\n",
            "85/85 [==============================] - 9s 101ms/step - loss: 0.2899 - accuracy: 0.9307 - val_loss: 0.3558 - val_accuracy: 0.9511\n",
            "Epoch 12/40\n",
            "85/85 [==============================] - 9s 102ms/step - loss: 0.2962 - accuracy: 0.9304 - val_loss: 0.3668 - val_accuracy: 0.9511\n",
            "Epoch 13/40\n",
            "85/85 [==============================] - 9s 102ms/step - loss: 0.2309 - accuracy: 0.9504 - val_loss: 0.4010 - val_accuracy: 0.9467\n",
            "Epoch 14/40\n",
            "85/85 [==============================] - 8s 98ms/step - loss: 0.2186 - accuracy: 0.9507 - val_loss: 0.2198 - val_accuracy: 0.9622\n",
            "Epoch 15/40\n",
            "85/85 [==============================] - 9s 104ms/step - loss: 0.2235 - accuracy: 0.9515 - val_loss: 0.3520 - val_accuracy: 0.9400\n",
            "Epoch 16/40\n",
            "85/85 [==============================] - 9s 101ms/step - loss: 0.1891 - accuracy: 0.9578 - val_loss: 0.2663 - val_accuracy: 0.9689\n",
            "Epoch 17/40\n",
            "85/85 [==============================] - 9s 102ms/step - loss: 0.1799 - accuracy: 0.9619 - val_loss: 0.2986 - val_accuracy: 0.9622\n",
            "Epoch 18/40\n",
            "85/85 [==============================] - 9s 101ms/step - loss: 0.2086 - accuracy: 0.9548 - val_loss: 0.2356 - val_accuracy: 0.9711\n",
            "Epoch 19/40\n",
            "85/85 [==============================] - 9s 105ms/step - loss: 0.2525 - accuracy: 0.9422 - val_loss: 0.3384 - val_accuracy: 0.9600\n",
            "Epoch 20/40\n",
            "85/85 [==============================] - 9s 103ms/step - loss: 0.2667 - accuracy: 0.9504 - val_loss: 0.3565 - val_accuracy: 0.9489\n",
            "Epoch 21/40\n",
            "85/85 [==============================] - 9s 101ms/step - loss: 0.2631 - accuracy: 0.9463 - val_loss: 0.6141 - val_accuracy: 0.9244\n",
            "Epoch 22/40\n",
            "85/85 [==============================] - 8s 99ms/step - loss: 0.5901 - accuracy: 0.9159 - val_loss: 0.4669 - val_accuracy: 0.9422\n",
            "Epoch 23/40\n",
            "85/85 [==============================] - 9s 103ms/step - loss: 0.4364 - accuracy: 0.9211 - val_loss: 0.3109 - val_accuracy: 0.9578\n",
            "Epoch 24/40\n",
            "85/85 [==============================] - 9s 101ms/step - loss: 0.2932 - accuracy: 0.9407 - val_loss: 0.3465 - val_accuracy: 0.9511\n",
            "Epoch 25/40\n",
            "85/85 [==============================] - 9s 103ms/step - loss: 0.2388 - accuracy: 0.9504 - val_loss: 0.3411 - val_accuracy: 0.9489\n",
            "Epoch 26/40\n",
            "85/85 [==============================] - 9s 103ms/step - loss: 0.2602 - accuracy: 0.9474 - val_loss: 0.3710 - val_accuracy: 0.9533\n",
            "Epoch 27/40\n",
            "85/85 [==============================] - 9s 101ms/step - loss: 0.2385 - accuracy: 0.9574 - val_loss: 0.3124 - val_accuracy: 0.9711\n",
            "Epoch 28/40\n",
            "85/85 [==============================] - 9s 104ms/step - loss: 0.3207 - accuracy: 0.9522 - val_loss: 0.3593 - val_accuracy: 0.9622\n",
            "Epoch 29/40\n",
            "85/85 [==============================] - 8s 100ms/step - loss: 0.3312 - accuracy: 0.9493 - val_loss: 0.3767 - val_accuracy: 0.9667\n",
            "Epoch 30/40\n",
            "85/85 [==============================] - 8s 99ms/step - loss: 0.2872 - accuracy: 0.9530 - val_loss: 0.3750 - val_accuracy: 0.9644\n",
            "Epoch 31/40\n",
            "85/85 [==============================] - 9s 100ms/step - loss: 0.2494 - accuracy: 0.9585 - val_loss: 0.3073 - val_accuracy: 0.9578\n",
            "Epoch 32/40\n",
            "85/85 [==============================] - 8s 98ms/step - loss: 0.3041 - accuracy: 0.9511 - val_loss: 0.4124 - val_accuracy: 0.9667\n",
            "Epoch 33/40\n",
            "85/85 [==============================] - 8s 100ms/step - loss: 0.2445 - accuracy: 0.9626 - val_loss: 0.5952 - val_accuracy: 0.9578\n",
            "Epoch 34/40\n",
            "85/85 [==============================] - 9s 104ms/step - loss: 0.3438 - accuracy: 0.9589 - val_loss: 0.4978 - val_accuracy: 0.9578\n",
            "Epoch 35/40\n",
            "85/85 [==============================] - 9s 101ms/step - loss: 0.2381 - accuracy: 0.9585 - val_loss: 0.5122 - val_accuracy: 0.9467\n",
            "Epoch 36/40\n",
            "85/85 [==============================] - 9s 103ms/step - loss: 0.1548 - accuracy: 0.9719 - val_loss: 0.4971 - val_accuracy: 0.9600\n",
            "Epoch 37/40\n",
            "85/85 [==============================] - 9s 103ms/step - loss: 0.1783 - accuracy: 0.9667 - val_loss: 0.4513 - val_accuracy: 0.9533\n",
            "Epoch 38/40\n",
            "85/85 [==============================] - 9s 102ms/step - loss: 0.1185 - accuracy: 0.9759 - val_loss: 0.5315 - val_accuracy: 0.9622\n",
            "Epoch 39/40\n",
            "85/85 [==============================] - 9s 104ms/step - loss: 0.1315 - accuracy: 0.9774 - val_loss: 0.5283 - val_accuracy: 0.9622\n",
            "Epoch 40/40\n",
            "85/85 [==============================] - 9s 100ms/step - loss: 0.2213 - accuracy: 0.9719 - val_loss: 0.5036 - val_accuracy: 0.9489\n"
          ]
        },
        {
          "output_type": "execute_result",
          "data": {
            "text/plain": [
              "<keras.callbacks.History at 0x7f0f2f765ae0>"
            ]
          },
          "metadata": {},
          "execution_count": 11
        }
      ]
    },
    {
      "cell_type": "code",
      "source": [
        "train_loss, train_accuracy = model.evaluate(train_generator)\n",
        "test_loss, test_accuracy = model.evaluate(val_generator)\n",
        "\n",
        "print('Training Accuracy:', train_accuracy)\n",
        "print('Test Accuracy:', test_accuracy)"
      ],
      "metadata": {
        "colab": {
          "base_uri": "https://localhost:8080/"
        },
        "id": "kjt7f3tDpQbM",
        "outputId": "c0599f2f-19f1-45d8-892a-b0d4f2b04a2b"
      },
      "execution_count": null,
      "outputs": [
        {
          "output_type": "stream",
          "name": "stdout",
          "text": [
            "11/11 [==============================] - 50s 4s/step - loss: 0.3319 - accuracy: 0.9759\n",
            "2/2 [==============================] - 9s 7s/step - loss: 0.5037 - accuracy: 0.9489\n",
            "Training Accuracy: 0.9759259223937988\n",
            "Test Accuracy: 0.948888897895813\n"
          ]
        }
      ]
    },
    {
      "cell_type": "code",
      "source": [
        "preds = model.evaluate(test_x, test_y)\n",
        "print (\"Loss = \" + str(preds[0]))\n",
        "print (\"Test Accuracy = \" + str(preds[1]))"
      ],
      "metadata": {
        "colab": {
          "base_uri": "https://localhost:8080/"
        },
        "id": "y3fMGUGvkinB",
        "outputId": "ed58eb16-2f50-40d0-b029-2b7fdbb0c646"
      },
      "execution_count": null,
      "outputs": [
        {
          "output_type": "stream",
          "name": "stdout",
          "text": [
            "15/15 [==============================] - 1s 71ms/step - loss: 0.5036 - accuracy: 0.9489\n",
            "Loss = 0.5036208629608154\n",
            "Test Accuracy = 0.948888897895813\n"
          ]
        }
      ]
    },
    {
      "cell_type": "code",
      "source": [
        "from sklearn.metrics import precision_score, recall_score, f1_score\n",
        "\n",
        "test_loss, test_acc = model.evaluate(test_x, test_y)\n",
        "pred_labels = np.argmax(model.predict(test_x), axis=1)\n",
        "\n",
        "true_labels = np.argmax(test_y, axis=1)\n",
        "\n",
        "class_accuracies = []\n",
        "f1_scores = []\n",
        "avg_precisions = []\n",
        "avg_recalls = []\n",
        "\n",
        "for class_label in range(9):\n",
        "    class_indices = np.where(true_labels == class_label)[0]\n",
        "    class_pred_labels = pred_labels[class_indices]\n",
        "    class_true_labels = true_labels[class_indices]\n",
        "\n",
        "    # Calculate class accuracy\n",
        "    class_accuracy = np.mean(class_pred_labels == class_true_labels)\n",
        "    class_accuracies.append(class_accuracy)\n",
        "\n",
        "    # Calculate F1 score\n",
        "    class_f1_score = f1_score(class_true_labels, class_pred_labels, pos_label=class_label, average='macro')\n",
        "    f1_scores.append(class_f1_score)\n",
        "\n",
        "    # Calculate precision\n",
        "    class_precision = precision_score(class_true_labels, class_pred_labels, pos_label=class_label, average='macro')\n",
        "    avg_precisions.append(class_precision)\n",
        "\n",
        "    # Calculate recall\n",
        "    class_recall = recall_score(class_true_labels, class_pred_labels, pos_label=class_label, average='macro')\n",
        "    avg_recalls.append(class_recall)\n",
        "\n",
        "mean_class_accuracy = np.mean(class_accuracies)\n",
        "f1_score = np.mean(f1_scores)\n",
        "mean_precision = np.mean(avg_precisions)\n",
        "mean_recall = np.mean(avg_recalls)\n",
        "\n",
        "print(\"Mean Class Accuracy:\", mean_class_accuracy)\n",
        "print(\"F1 Score:\", f1_score)\n",
        "print(\"Mean Average Precision:\", mean_precision)\n",
        "print(\"Mean Average Recall:\", mean_recall)"
      ],
      "metadata": {
        "colab": {
          "base_uri": "https://localhost:8080/"
        },
        "id": "QSLWr4LJk0Ni",
        "outputId": "e399cc3e-299c-4a32-d824-2492c6360fa7"
      },
      "execution_count": null,
      "outputs": [
        {
          "output_type": "stream",
          "name": "stdout",
          "text": [
            "15/15 [==============================] - 1s 70ms/step - loss: 0.5036 - accuracy: 0.9489\n",
            "15/15 [==============================] - 2s 70ms/step\n",
            "Mean Class Accuracy: 0.9488888888888888\n",
            "F1 Score: 0.5690039358935096\n",
            "Mean Average Precision: 0.5777777777777777\n",
            "Mean Average Recall: 0.5611111111111111\n"
          ]
        },
        {
          "output_type": "stream",
          "name": "stderr",
          "text": [
            "/usr/local/lib/python3.10/dist-packages/sklearn/metrics/_classification.py:1396: UserWarning: Note that pos_label (set to 0) is ignored when average != 'binary' (got 'macro'). You may use labels=[pos_label] to specify a single positive class.\n",
            "  warnings.warn(\n",
            "/usr/local/lib/python3.10/dist-packages/sklearn/metrics/_classification.py:1396: UserWarning: Note that pos_label (set to 0) is ignored when average != 'binary' (got 'macro'). You may use labels=[pos_label] to specify a single positive class.\n",
            "  warnings.warn(\n",
            "/usr/local/lib/python3.10/dist-packages/sklearn/metrics/_classification.py:1396: UserWarning: Note that pos_label (set to 0) is ignored when average != 'binary' (got 'macro'). You may use labels=[pos_label] to specify a single positive class.\n",
            "  warnings.warn(\n",
            "/usr/local/lib/python3.10/dist-packages/sklearn/metrics/_classification.py:1344: UndefinedMetricWarning: Recall is ill-defined and being set to 0.0 in labels with no true samples. Use `zero_division` parameter to control this behavior.\n",
            "  _warn_prf(average, modifier, msg_start, len(result))\n",
            "/usr/local/lib/python3.10/dist-packages/sklearn/metrics/_classification.py:1396: UserWarning: Note that pos_label (set to 2) is ignored when average != 'binary' (got 'macro'). You may use labels=[pos_label] to specify a single positive class.\n",
            "  warnings.warn(\n",
            "/usr/local/lib/python3.10/dist-packages/sklearn/metrics/_classification.py:1396: UserWarning: Note that pos_label (set to 2) is ignored when average != 'binary' (got 'macro'). You may use labels=[pos_label] to specify a single positive class.\n",
            "  warnings.warn(\n",
            "/usr/local/lib/python3.10/dist-packages/sklearn/metrics/_classification.py:1396: UserWarning: Note that pos_label (set to 2) is ignored when average != 'binary' (got 'macro'). You may use labels=[pos_label] to specify a single positive class.\n",
            "  warnings.warn(\n",
            "/usr/local/lib/python3.10/dist-packages/sklearn/metrics/_classification.py:1344: UndefinedMetricWarning: Recall is ill-defined and being set to 0.0 in labels with no true samples. Use `zero_division` parameter to control this behavior.\n",
            "  _warn_prf(average, modifier, msg_start, len(result))\n",
            "/usr/local/lib/python3.10/dist-packages/sklearn/metrics/_classification.py:1396: UserWarning: Note that pos_label (set to 3) is ignored when average != 'binary' (got 'macro'). You may use labels=[pos_label] to specify a single positive class.\n",
            "  warnings.warn(\n",
            "/usr/local/lib/python3.10/dist-packages/sklearn/metrics/_classification.py:1396: UserWarning: Note that pos_label (set to 3) is ignored when average != 'binary' (got 'macro'). You may use labels=[pos_label] to specify a single positive class.\n",
            "  warnings.warn(\n",
            "/usr/local/lib/python3.10/dist-packages/sklearn/metrics/_classification.py:1396: UserWarning: Note that pos_label (set to 3) is ignored when average != 'binary' (got 'macro'). You may use labels=[pos_label] to specify a single positive class.\n",
            "  warnings.warn(\n",
            "/usr/local/lib/python3.10/dist-packages/sklearn/metrics/_classification.py:1344: UndefinedMetricWarning: Recall is ill-defined and being set to 0.0 in labels with no true samples. Use `zero_division` parameter to control this behavior.\n",
            "  _warn_prf(average, modifier, msg_start, len(result))\n",
            "/usr/local/lib/python3.10/dist-packages/sklearn/metrics/_classification.py:1396: UserWarning: Note that pos_label (set to 4) is ignored when average != 'binary' (got 'macro'). You may use labels=[pos_label] to specify a single positive class.\n",
            "  warnings.warn(\n",
            "/usr/local/lib/python3.10/dist-packages/sklearn/metrics/_classification.py:1396: UserWarning: Note that pos_label (set to 4) is ignored when average != 'binary' (got 'macro'). You may use labels=[pos_label] to specify a single positive class.\n",
            "  warnings.warn(\n",
            "/usr/local/lib/python3.10/dist-packages/sklearn/metrics/_classification.py:1396: UserWarning: Note that pos_label (set to 4) is ignored when average != 'binary' (got 'macro'). You may use labels=[pos_label] to specify a single positive class.\n",
            "  warnings.warn(\n",
            "/usr/local/lib/python3.10/dist-packages/sklearn/metrics/_classification.py:1396: UserWarning: Note that pos_label (set to 5) is ignored when average != 'binary' (got 'macro'). You may use labels=[pos_label] to specify a single positive class.\n",
            "  warnings.warn(\n",
            "/usr/local/lib/python3.10/dist-packages/sklearn/metrics/_classification.py:1396: UserWarning: Note that pos_label (set to 5) is ignored when average != 'binary' (got 'macro'). You may use labels=[pos_label] to specify a single positive class.\n",
            "  warnings.warn(\n",
            "/usr/local/lib/python3.10/dist-packages/sklearn/metrics/_classification.py:1396: UserWarning: Note that pos_label (set to 5) is ignored when average != 'binary' (got 'macro'). You may use labels=[pos_label] to specify a single positive class.\n",
            "  warnings.warn(\n",
            "/usr/local/lib/python3.10/dist-packages/sklearn/metrics/_classification.py:1344: UndefinedMetricWarning: Recall is ill-defined and being set to 0.0 in labels with no true samples. Use `zero_division` parameter to control this behavior.\n",
            "  _warn_prf(average, modifier, msg_start, len(result))\n",
            "/usr/local/lib/python3.10/dist-packages/sklearn/metrics/_classification.py:1396: UserWarning: Note that pos_label (set to 6) is ignored when average != 'binary' (got 'macro'). You may use labels=[pos_label] to specify a single positive class.\n",
            "  warnings.warn(\n",
            "/usr/local/lib/python3.10/dist-packages/sklearn/metrics/_classification.py:1396: UserWarning: Note that pos_label (set to 6) is ignored when average != 'binary' (got 'macro'). You may use labels=[pos_label] to specify a single positive class.\n",
            "  warnings.warn(\n",
            "/usr/local/lib/python3.10/dist-packages/sklearn/metrics/_classification.py:1396: UserWarning: Note that pos_label (set to 6) is ignored when average != 'binary' (got 'macro'). You may use labels=[pos_label] to specify a single positive class.\n",
            "  warnings.warn(\n",
            "/usr/local/lib/python3.10/dist-packages/sklearn/metrics/_classification.py:1396: UserWarning: Note that pos_label (set to 7) is ignored when average != 'binary' (got 'macro'). You may use labels=[pos_label] to specify a single positive class.\n",
            "  warnings.warn(\n",
            "/usr/local/lib/python3.10/dist-packages/sklearn/metrics/_classification.py:1396: UserWarning: Note that pos_label (set to 7) is ignored when average != 'binary' (got 'macro'). You may use labels=[pos_label] to specify a single positive class.\n",
            "  warnings.warn(\n",
            "/usr/local/lib/python3.10/dist-packages/sklearn/metrics/_classification.py:1396: UserWarning: Note that pos_label (set to 7) is ignored when average != 'binary' (got 'macro'). You may use labels=[pos_label] to specify a single positive class.\n",
            "  warnings.warn(\n",
            "/usr/local/lib/python3.10/dist-packages/sklearn/metrics/_classification.py:1344: UndefinedMetricWarning: Recall is ill-defined and being set to 0.0 in labels with no true samples. Use `zero_division` parameter to control this behavior.\n",
            "  _warn_prf(average, modifier, msg_start, len(result))\n",
            "/usr/local/lib/python3.10/dist-packages/sklearn/metrics/_classification.py:1396: UserWarning: Note that pos_label (set to 8) is ignored when average != 'binary' (got 'macro'). You may use labels=[pos_label] to specify a single positive class.\n",
            "  warnings.warn(\n",
            "/usr/local/lib/python3.10/dist-packages/sklearn/metrics/_classification.py:1396: UserWarning: Note that pos_label (set to 8) is ignored when average != 'binary' (got 'macro'). You may use labels=[pos_label] to specify a single positive class.\n",
            "  warnings.warn(\n",
            "/usr/local/lib/python3.10/dist-packages/sklearn/metrics/_classification.py:1396: UserWarning: Note that pos_label (set to 8) is ignored when average != 'binary' (got 'macro'). You may use labels=[pos_label] to specify a single positive class.\n",
            "  warnings.warn(\n",
            "/usr/local/lib/python3.10/dist-packages/sklearn/metrics/_classification.py:1344: UndefinedMetricWarning: Recall is ill-defined and being set to 0.0 in labels with no true samples. Use `zero_division` parameter to control this behavior.\n",
            "  _warn_prf(average, modifier, msg_start, len(result))\n"
          ]
        }
      ]
    },
    {
      "cell_type": "code",
      "source": [],
      "metadata": {
        "id": "aLGmTuiPvrz3"
      },
      "execution_count": null,
      "outputs": []
    },
    {
      "cell_type": "markdown",
      "source": [
        "# SGD"
      ],
      "metadata": {
        "id": "xB2WenWh3R78"
      }
    },
    {
      "cell_type": "code",
      "source": [
        "model.compile(optimizer = \"SGD\", loss = \"categorical_crossentropy\", metrics = [\"accuracy\"])"
      ],
      "metadata": {
        "id": "OjwbW_32v3Yt"
      },
      "execution_count": null,
      "outputs": []
    },
    {
      "cell_type": "code",
      "source": [
        "model.fit(train_x, train_y, batch_size=32, epochs=40, validation_data=(test_x, test_y))"
      ],
      "metadata": {
        "colab": {
          "base_uri": "https://localhost:8080/"
        },
        "outputId": "45c4ccd9-d088-4e86-b90e-84d7093c4e8f",
        "id": "AkAK3Bobv3Yt"
      },
      "execution_count": null,
      "outputs": [
        {
          "output_type": "stream",
          "name": "stdout",
          "text": [
            "Epoch 1/40\n",
            "85/85 [==============================] - 15s 121ms/step - loss: 1.2956 - accuracy: 0.9385 - val_loss: 3.7611 - val_accuracy: 0.9244\n",
            "Epoch 2/40\n",
            "85/85 [==============================] - 8s 90ms/step - loss: 0.9786 - accuracy: 0.9633 - val_loss: 1.1748 - val_accuracy: 0.9622\n",
            "Epoch 3/40\n",
            "85/85 [==============================] - 8s 92ms/step - loss: 0.6421 - accuracy: 0.9689 - val_loss: 1.1365 - val_accuracy: 0.9711\n",
            "Epoch 4/40\n",
            "85/85 [==============================] - 8s 91ms/step - loss: 0.3270 - accuracy: 0.9789 - val_loss: 1.3507 - val_accuracy: 0.9644\n",
            "Epoch 5/40\n",
            "85/85 [==============================] - 8s 97ms/step - loss: 0.2874 - accuracy: 0.9826 - val_loss: 1.3710 - val_accuracy: 0.9711\n",
            "Epoch 6/40\n",
            "85/85 [==============================] - 8s 93ms/step - loss: 0.3129 - accuracy: 0.9833 - val_loss: 1.3398 - val_accuracy: 0.9644\n",
            "Epoch 7/40\n",
            "85/85 [==============================] - 8s 92ms/step - loss: 0.3245 - accuracy: 0.9870 - val_loss: 1.2489 - val_accuracy: 0.9667\n",
            "Epoch 8/40\n",
            "85/85 [==============================] - 8s 98ms/step - loss: 0.2437 - accuracy: 0.9867 - val_loss: 1.2783 - val_accuracy: 0.9644\n",
            "Epoch 9/40\n",
            "85/85 [==============================] - 8s 96ms/step - loss: 0.2937 - accuracy: 0.9833 - val_loss: 1.4114 - val_accuracy: 0.9689\n",
            "Epoch 10/40\n",
            "85/85 [==============================] - 8s 100ms/step - loss: 0.2120 - accuracy: 0.9844 - val_loss: 1.2923 - val_accuracy: 0.9622\n",
            "Epoch 11/40\n",
            "85/85 [==============================] - 8s 94ms/step - loss: 0.1741 - accuracy: 0.9911 - val_loss: 1.4054 - val_accuracy: 0.9644\n",
            "Epoch 12/40\n",
            "85/85 [==============================] - 8s 94ms/step - loss: 0.0851 - accuracy: 0.9930 - val_loss: 1.3019 - val_accuracy: 0.9689\n",
            "Epoch 13/40\n",
            "85/85 [==============================] - 8s 99ms/step - loss: 0.1699 - accuracy: 0.9889 - val_loss: 1.3637 - val_accuracy: 0.9622\n",
            "Epoch 14/40\n",
            "85/85 [==============================] - 8s 93ms/step - loss: 0.1281 - accuracy: 0.9896 - val_loss: 1.3120 - val_accuracy: 0.9667\n",
            "Epoch 15/40\n",
            "85/85 [==============================] - 8s 95ms/step - loss: 0.1235 - accuracy: 0.9919 - val_loss: 1.3514 - val_accuracy: 0.9644\n",
            "Epoch 16/40\n",
            "85/85 [==============================] - 8s 97ms/step - loss: 0.0969 - accuracy: 0.9922 - val_loss: 1.3065 - val_accuracy: 0.9644\n",
            "Epoch 17/40\n",
            "85/85 [==============================] - 8s 94ms/step - loss: 0.1781 - accuracy: 0.9896 - val_loss: 1.3695 - val_accuracy: 0.9644\n",
            "Epoch 18/40\n",
            "85/85 [==============================] - 8s 95ms/step - loss: 0.1357 - accuracy: 0.9900 - val_loss: 1.4394 - val_accuracy: 0.9600\n",
            "Epoch 19/40\n",
            "85/85 [==============================] - 8s 93ms/step - loss: 0.2474 - accuracy: 0.9911 - val_loss: 1.5419 - val_accuracy: 0.9644\n",
            "Epoch 20/40\n",
            "85/85 [==============================] - 8s 99ms/step - loss: 0.2970 - accuracy: 0.9844 - val_loss: 1.5218 - val_accuracy: 0.9667\n",
            "Epoch 21/40\n",
            "85/85 [==============================] - 8s 98ms/step - loss: 0.1081 - accuracy: 0.9911 - val_loss: 1.4322 - val_accuracy: 0.9667\n",
            "Epoch 22/40\n",
            "85/85 [==============================] - 8s 94ms/step - loss: 0.1012 - accuracy: 0.9911 - val_loss: 1.4843 - val_accuracy: 0.9644\n",
            "Epoch 23/40\n",
            "85/85 [==============================] - 8s 100ms/step - loss: 0.1189 - accuracy: 0.9904 - val_loss: 1.5268 - val_accuracy: 0.9644\n",
            "Epoch 24/40\n",
            "85/85 [==============================] - 8s 94ms/step - loss: 0.1481 - accuracy: 0.9904 - val_loss: 1.5089 - val_accuracy: 0.9644\n",
            "Epoch 25/40\n",
            "85/85 [==============================] - 8s 97ms/step - loss: 0.1293 - accuracy: 0.9907 - val_loss: 1.5831 - val_accuracy: 0.9600\n",
            "Epoch 26/40\n",
            "85/85 [==============================] - 8s 99ms/step - loss: 0.1335 - accuracy: 0.9948 - val_loss: 1.4026 - val_accuracy: 0.9622\n",
            "Epoch 27/40\n",
            "85/85 [==============================] - 8s 97ms/step - loss: 0.1045 - accuracy: 0.9907 - val_loss: 1.4144 - val_accuracy: 0.9667\n",
            "Epoch 28/40\n",
            "85/85 [==============================] - 8s 96ms/step - loss: 0.1342 - accuracy: 0.9922 - val_loss: 1.4621 - val_accuracy: 0.9667\n",
            "Epoch 29/40\n",
            "85/85 [==============================] - 8s 95ms/step - loss: 0.0711 - accuracy: 0.9933 - val_loss: 1.4217 - val_accuracy: 0.9667\n",
            "Epoch 30/40\n",
            "85/85 [==============================] - 8s 95ms/step - loss: 0.1230 - accuracy: 0.9896 - val_loss: 1.3577 - val_accuracy: 0.9689\n",
            "Epoch 31/40\n",
            "85/85 [==============================] - 8s 99ms/step - loss: 0.1428 - accuracy: 0.9915 - val_loss: 1.3241 - val_accuracy: 0.9622\n",
            "Epoch 32/40\n",
            "85/85 [==============================] - 8s 98ms/step - loss: 0.0449 - accuracy: 0.9952 - val_loss: 1.3028 - val_accuracy: 0.9689\n",
            "Epoch 33/40\n",
            "85/85 [==============================] - 8s 99ms/step - loss: 0.0947 - accuracy: 0.9941 - val_loss: 1.2534 - val_accuracy: 0.9644\n",
            "Epoch 34/40\n",
            "85/85 [==============================] - 8s 95ms/step - loss: 0.1051 - accuracy: 0.9911 - val_loss: 1.1227 - val_accuracy: 0.9644\n",
            "Epoch 35/40\n",
            "85/85 [==============================] - 8s 95ms/step - loss: 0.1135 - accuracy: 0.9937 - val_loss: 1.2527 - val_accuracy: 0.9622\n",
            "Epoch 36/40\n",
            "85/85 [==============================] - 8s 96ms/step - loss: 0.0890 - accuracy: 0.9937 - val_loss: 1.2871 - val_accuracy: 0.9600\n",
            "Epoch 37/40\n",
            "85/85 [==============================] - 8s 94ms/step - loss: 0.0764 - accuracy: 0.9933 - val_loss: 1.2162 - val_accuracy: 0.9600\n",
            "Epoch 38/40\n",
            "85/85 [==============================] - 8s 99ms/step - loss: 0.0710 - accuracy: 0.9944 - val_loss: 1.3847 - val_accuracy: 0.9644\n",
            "Epoch 39/40\n",
            "85/85 [==============================] - 8s 98ms/step - loss: 0.1299 - accuracy: 0.9926 - val_loss: 1.2543 - val_accuracy: 0.9667\n",
            "Epoch 40/40\n",
            "85/85 [==============================] - 8s 99ms/step - loss: 0.1213 - accuracy: 0.9937 - val_loss: 1.2562 - val_accuracy: 0.9689\n"
          ]
        },
        {
          "output_type": "execute_result",
          "data": {
            "text/plain": [
              "<keras.callbacks.History at 0x7f0f2a2ce680>"
            ]
          },
          "metadata": {},
          "execution_count": 16
        }
      ]
    },
    {
      "cell_type": "code",
      "source": [
        "train_loss, train_accuracy = model.evaluate(train_generator)\n",
        "test_loss, test_accuracy = model.evaluate(val_generator)\n",
        "\n",
        "print('Training Accuracy:', train_accuracy)\n",
        "print('Test Accuracy:', test_accuracy)"
      ],
      "metadata": {
        "colab": {
          "base_uri": "https://localhost:8080/"
        },
        "outputId": "3b10f9b4-4346-47ae-df6b-eae0fe6dc2c3",
        "id": "aVVEtIeFv3Yt"
      },
      "execution_count": null,
      "outputs": [
        {
          "output_type": "stream",
          "name": "stdout",
          "text": [
            "11/11 [==============================] - 39s 3s/step - loss: 0.4897 - accuracy: 0.9856\n",
            "2/2 [==============================] - 2s 690ms/step - loss: 1.2562 - accuracy: 0.9689\n",
            "Training Accuracy: 0.9855555295944214\n",
            "Test Accuracy: 0.9688888788223267\n"
          ]
        }
      ]
    },
    {
      "cell_type": "code",
      "source": [
        "preds = model.evaluate(test_x, test_y)\n",
        "print (\"Loss = \" + str(preds[0]))\n",
        "print (\"Test Accuracy = \" + str(preds[1]))"
      ],
      "metadata": {
        "colab": {
          "base_uri": "https://localhost:8080/"
        },
        "outputId": "5e13692c-c53e-418d-ba04-338cbb7e7780",
        "id": "qSaKK3YOv3Yt"
      },
      "execution_count": null,
      "outputs": [
        {
          "output_type": "stream",
          "name": "stdout",
          "text": [
            "15/15 [==============================] - 1s 67ms/step - loss: 1.2562 - accuracy: 0.9689\n",
            "Loss = 1.2561718225479126\n",
            "Test Accuracy = 0.9688888788223267\n"
          ]
        }
      ]
    },
    {
      "cell_type": "code",
      "source": [
        "from sklearn.metrics import precision_score, recall_score, f1_score\n",
        "\n",
        "test_loss, test_acc = model.evaluate(test_x, test_y)\n",
        "pred_labels = np.argmax(model.predict(test_x), axis=1)\n",
        "\n",
        "true_labels = np.argmax(test_y, axis=1)\n",
        "\n",
        "class_accuracies = []\n",
        "f1_scores = []\n",
        "avg_precisions = []\n",
        "avg_recalls = []\n",
        "\n",
        "for class_label in range(9):\n",
        "    class_indices = np.where(true_labels == class_label)[0]\n",
        "    class_pred_labels = pred_labels[class_indices]\n",
        "    class_true_labels = true_labels[class_indices]\n",
        "\n",
        "    # Calculate class accuracy\n",
        "    class_accuracy = np.mean(class_pred_labels == class_true_labels)\n",
        "    class_accuracies.append(class_accuracy)\n",
        "\n",
        "    # Calculate F1 score\n",
        "    class_f1_score = f1_score(class_true_labels, class_pred_labels, pos_label=class_label, average='macro')\n",
        "    f1_scores.append(class_f1_score)\n",
        "\n",
        "    # Calculate precision\n",
        "    class_precision = precision_score(class_true_labels, class_pred_labels, pos_label=class_label, average='macro')\n",
        "    avg_precisions.append(class_precision)\n",
        "\n",
        "    # Calculate recall\n",
        "    class_recall = recall_score(class_true_labels, class_pred_labels, pos_label=class_label, average='macro')\n",
        "    avg_recalls.append(class_recall)\n",
        "\n",
        "mean_class_accuracy = np.mean(class_accuracies)\n",
        "f1_score = np.mean(f1_scores)\n",
        "mean_precision = np.mean(avg_precisions)\n",
        "mean_recall = np.mean(avg_recalls)\n",
        "\n",
        "print(\"Mean Class Accuracy:\", mean_class_accuracy)\n",
        "print(\"F1 Score:\", f1_score)\n",
        "print(\"Mean Average Precision:\", mean_precision)\n",
        "print(\"Mean Average Recall:\", mean_recall)"
      ],
      "metadata": {
        "colab": {
          "base_uri": "https://localhost:8080/"
        },
        "outputId": "d2148bb7-ab29-4cae-93f3-45fde3db2a28",
        "id": "HEGD3X1Tv3Yu"
      },
      "execution_count": null,
      "outputs": [
        {
          "output_type": "stream",
          "name": "stdout",
          "text": [
            "15/15 [==============================] - 1s 67ms/step - loss: 1.2562 - accuracy: 0.9689\n",
            "15/15 [==============================] - 3s 77ms/step\n",
            "Mean Class Accuracy: 0.9688888888888888\n",
            "F1 Score: 0.7077651757249412\n",
            "Mean Average Precision: 0.7129629629629629\n",
            "Mean Average Recall: 0.702962962962963\n"
          ]
        },
        {
          "output_type": "stream",
          "name": "stderr",
          "text": [
            "/usr/local/lib/python3.10/dist-packages/sklearn/metrics/_classification.py:1396: UserWarning: Note that pos_label (set to 0) is ignored when average != 'binary' (got 'macro'). You may use labels=[pos_label] to specify a single positive class.\n",
            "  warnings.warn(\n",
            "/usr/local/lib/python3.10/dist-packages/sklearn/metrics/_classification.py:1396: UserWarning: Note that pos_label (set to 0) is ignored when average != 'binary' (got 'macro'). You may use labels=[pos_label] to specify a single positive class.\n",
            "  warnings.warn(\n",
            "/usr/local/lib/python3.10/dist-packages/sklearn/metrics/_classification.py:1396: UserWarning: Note that pos_label (set to 0) is ignored when average != 'binary' (got 'macro'). You may use labels=[pos_label] to specify a single positive class.\n",
            "  warnings.warn(\n",
            "/usr/local/lib/python3.10/dist-packages/sklearn/metrics/_classification.py:1396: UserWarning: Note that pos_label (set to 2) is ignored when average != 'binary' (got 'macro'). You may use labels=[pos_label] to specify a single positive class.\n",
            "  warnings.warn(\n",
            "/usr/local/lib/python3.10/dist-packages/sklearn/metrics/_classification.py:1396: UserWarning: Note that pos_label (set to 2) is ignored when average != 'binary' (got 'macro'). You may use labels=[pos_label] to specify a single positive class.\n",
            "  warnings.warn(\n",
            "/usr/local/lib/python3.10/dist-packages/sklearn/metrics/_classification.py:1396: UserWarning: Note that pos_label (set to 2) is ignored when average != 'binary' (got 'macro'). You may use labels=[pos_label] to specify a single positive class.\n",
            "  warnings.warn(\n",
            "/usr/local/lib/python3.10/dist-packages/sklearn/metrics/_classification.py:1396: UserWarning: Note that pos_label (set to 3) is ignored when average != 'binary' (got 'macro'). You may use labels=[pos_label] to specify a single positive class.\n",
            "  warnings.warn(\n",
            "/usr/local/lib/python3.10/dist-packages/sklearn/metrics/_classification.py:1396: UserWarning: Note that pos_label (set to 3) is ignored when average != 'binary' (got 'macro'). You may use labels=[pos_label] to specify a single positive class.\n",
            "  warnings.warn(\n",
            "/usr/local/lib/python3.10/dist-packages/sklearn/metrics/_classification.py:1396: UserWarning: Note that pos_label (set to 3) is ignored when average != 'binary' (got 'macro'). You may use labels=[pos_label] to specify a single positive class.\n",
            "  warnings.warn(\n",
            "/usr/local/lib/python3.10/dist-packages/sklearn/metrics/_classification.py:1344: UndefinedMetricWarning: Recall is ill-defined and being set to 0.0 in labels with no true samples. Use `zero_division` parameter to control this behavior.\n",
            "  _warn_prf(average, modifier, msg_start, len(result))\n",
            "/usr/local/lib/python3.10/dist-packages/sklearn/metrics/_classification.py:1396: UserWarning: Note that pos_label (set to 4) is ignored when average != 'binary' (got 'macro'). You may use labels=[pos_label] to specify a single positive class.\n",
            "  warnings.warn(\n",
            "/usr/local/lib/python3.10/dist-packages/sklearn/metrics/_classification.py:1396: UserWarning: Note that pos_label (set to 4) is ignored when average != 'binary' (got 'macro'). You may use labels=[pos_label] to specify a single positive class.\n",
            "  warnings.warn(\n",
            "/usr/local/lib/python3.10/dist-packages/sklearn/metrics/_classification.py:1396: UserWarning: Note that pos_label (set to 4) is ignored when average != 'binary' (got 'macro'). You may use labels=[pos_label] to specify a single positive class.\n",
            "  warnings.warn(\n",
            "/usr/local/lib/python3.10/dist-packages/sklearn/metrics/_classification.py:1396: UserWarning: Note that pos_label (set to 5) is ignored when average != 'binary' (got 'macro'). You may use labels=[pos_label] to specify a single positive class.\n",
            "  warnings.warn(\n",
            "/usr/local/lib/python3.10/dist-packages/sklearn/metrics/_classification.py:1396: UserWarning: Note that pos_label (set to 5) is ignored when average != 'binary' (got 'macro'). You may use labels=[pos_label] to specify a single positive class.\n",
            "  warnings.warn(\n",
            "/usr/local/lib/python3.10/dist-packages/sklearn/metrics/_classification.py:1396: UserWarning: Note that pos_label (set to 5) is ignored when average != 'binary' (got 'macro'). You may use labels=[pos_label] to specify a single positive class.\n",
            "  warnings.warn(\n",
            "/usr/local/lib/python3.10/dist-packages/sklearn/metrics/_classification.py:1344: UndefinedMetricWarning: Recall is ill-defined and being set to 0.0 in labels with no true samples. Use `zero_division` parameter to control this behavior.\n",
            "  _warn_prf(average, modifier, msg_start, len(result))\n",
            "/usr/local/lib/python3.10/dist-packages/sklearn/metrics/_classification.py:1396: UserWarning: Note that pos_label (set to 6) is ignored when average != 'binary' (got 'macro'). You may use labels=[pos_label] to specify a single positive class.\n",
            "  warnings.warn(\n",
            "/usr/local/lib/python3.10/dist-packages/sklearn/metrics/_classification.py:1396: UserWarning: Note that pos_label (set to 6) is ignored when average != 'binary' (got 'macro'). You may use labels=[pos_label] to specify a single positive class.\n",
            "  warnings.warn(\n",
            "/usr/local/lib/python3.10/dist-packages/sklearn/metrics/_classification.py:1396: UserWarning: Note that pos_label (set to 6) is ignored when average != 'binary' (got 'macro'). You may use labels=[pos_label] to specify a single positive class.\n",
            "  warnings.warn(\n",
            "/usr/local/lib/python3.10/dist-packages/sklearn/metrics/_classification.py:1396: UserWarning: Note that pos_label (set to 7) is ignored when average != 'binary' (got 'macro'). You may use labels=[pos_label] to specify a single positive class.\n",
            "  warnings.warn(\n",
            "/usr/local/lib/python3.10/dist-packages/sklearn/metrics/_classification.py:1396: UserWarning: Note that pos_label (set to 7) is ignored when average != 'binary' (got 'macro'). You may use labels=[pos_label] to specify a single positive class.\n",
            "  warnings.warn(\n",
            "/usr/local/lib/python3.10/dist-packages/sklearn/metrics/_classification.py:1396: UserWarning: Note that pos_label (set to 7) is ignored when average != 'binary' (got 'macro'). You may use labels=[pos_label] to specify a single positive class.\n",
            "  warnings.warn(\n",
            "/usr/local/lib/python3.10/dist-packages/sklearn/metrics/_classification.py:1344: UndefinedMetricWarning: Recall is ill-defined and being set to 0.0 in labels with no true samples. Use `zero_division` parameter to control this behavior.\n",
            "  _warn_prf(average, modifier, msg_start, len(result))\n",
            "/usr/local/lib/python3.10/dist-packages/sklearn/metrics/_classification.py:1396: UserWarning: Note that pos_label (set to 8) is ignored when average != 'binary' (got 'macro'). You may use labels=[pos_label] to specify a single positive class.\n",
            "  warnings.warn(\n",
            "/usr/local/lib/python3.10/dist-packages/sklearn/metrics/_classification.py:1396: UserWarning: Note that pos_label (set to 8) is ignored when average != 'binary' (got 'macro'). You may use labels=[pos_label] to specify a single positive class.\n",
            "  warnings.warn(\n",
            "/usr/local/lib/python3.10/dist-packages/sklearn/metrics/_classification.py:1396: UserWarning: Note that pos_label (set to 8) is ignored when average != 'binary' (got 'macro'). You may use labels=[pos_label] to specify a single positive class.\n",
            "  warnings.warn(\n",
            "/usr/local/lib/python3.10/dist-packages/sklearn/metrics/_classification.py:1344: UndefinedMetricWarning: Recall is ill-defined and being set to 0.0 in labels with no true samples. Use `zero_division` parameter to control this behavior.\n",
            "  _warn_prf(average, modifier, msg_start, len(result))\n"
          ]
        }
      ]
    },
    {
      "cell_type": "code",
      "source": [],
      "metadata": {
        "id": "oN6UX5b6v2jF"
      },
      "execution_count": null,
      "outputs": []
    },
    {
      "cell_type": "markdown",
      "source": [
        "**RMSprop**"
      ],
      "metadata": {
        "id": "eRP8MUgv3dmO"
      }
    },
    {
      "cell_type": "code",
      "source": [
        "from tensorflow.keras.optimizers import RMSprop"
      ],
      "metadata": {
        "id": "SDsjI0nU3ox_"
      },
      "execution_count": null,
      "outputs": []
    },
    {
      "cell_type": "code",
      "source": [
        "model.compile(optimizer = \"RMSprop\", loss = \"categorical_crossentropy\", metrics = [\"accuracy\"])"
      ],
      "metadata": {
        "id": "TS14GUTs3dmd"
      },
      "execution_count": null,
      "outputs": []
    },
    {
      "cell_type": "code",
      "source": [
        "model.fit(train_x, train_y, batch_size=32, epochs=40, validation_data=(test_x, test_y))"
      ],
      "metadata": {
        "colab": {
          "base_uri": "https://localhost:8080/"
        },
        "outputId": "3e64cd3b-46f3-41eb-afb4-1dbfa5db9e9d",
        "id": "yvVvCL2E3dmd"
      },
      "execution_count": null,
      "outputs": [
        {
          "output_type": "stream",
          "name": "stdout",
          "text": [
            "Epoch 1/40\n",
            "85/85 [==============================] - 15s 115ms/step - loss: 0.3402 - accuracy: 0.9844 - val_loss: 1.3991 - val_accuracy: 0.9689\n",
            "Epoch 2/40\n",
            "85/85 [==============================] - 8s 95ms/step - loss: 0.4729 - accuracy: 0.9815 - val_loss: 1.3960 - val_accuracy: 0.9711\n",
            "Epoch 3/40\n",
            "85/85 [==============================] - 8s 91ms/step - loss: 0.3475 - accuracy: 0.9867 - val_loss: 1.7108 - val_accuracy: 0.9711\n",
            "Epoch 4/40\n",
            "85/85 [==============================] - 8s 93ms/step - loss: 0.5505 - accuracy: 0.9815 - val_loss: 2.2383 - val_accuracy: 0.9667\n",
            "Epoch 5/40\n",
            "85/85 [==============================] - 8s 91ms/step - loss: 0.4599 - accuracy: 0.9815 - val_loss: 1.7037 - val_accuracy: 0.9711\n",
            "Epoch 6/40\n",
            "85/85 [==============================] - 8s 93ms/step - loss: 0.4364 - accuracy: 0.9852 - val_loss: 1.5243 - val_accuracy: 0.9756\n",
            "Epoch 7/40\n",
            "85/85 [==============================] - 8s 96ms/step - loss: 0.4516 - accuracy: 0.9815 - val_loss: 2.0867 - val_accuracy: 0.9644\n",
            "Epoch 8/40\n",
            "85/85 [==============================] - 8s 98ms/step - loss: 0.3563 - accuracy: 0.9863 - val_loss: 1.9543 - val_accuracy: 0.9600\n",
            "Epoch 9/40\n",
            "85/85 [==============================] - 8s 94ms/step - loss: 0.3072 - accuracy: 0.9878 - val_loss: 1.8325 - val_accuracy: 0.9667\n",
            "Epoch 10/40\n",
            "85/85 [==============================] - 8s 96ms/step - loss: 0.4533 - accuracy: 0.9815 - val_loss: 1.7239 - val_accuracy: 0.9644\n",
            "Epoch 11/40\n",
            "85/85 [==============================] - 9s 101ms/step - loss: 0.2943 - accuracy: 0.9896 - val_loss: 1.5996 - val_accuracy: 0.9622\n",
            "Epoch 12/40\n",
            "85/85 [==============================] - 8s 97ms/step - loss: 0.1988 - accuracy: 0.9907 - val_loss: 1.9077 - val_accuracy: 0.9756\n",
            "Epoch 13/40\n",
            "85/85 [==============================] - 8s 96ms/step - loss: 0.2311 - accuracy: 0.9922 - val_loss: 1.5679 - val_accuracy: 0.9711\n",
            "Epoch 14/40\n",
            "85/85 [==============================] - 8s 97ms/step - loss: 0.1796 - accuracy: 0.9881 - val_loss: 1.9873 - val_accuracy: 0.9711\n",
            "Epoch 15/40\n",
            "85/85 [==============================] - 8s 96ms/step - loss: 0.2652 - accuracy: 0.9856 - val_loss: 2.0559 - val_accuracy: 0.9711\n",
            "Epoch 16/40\n",
            "85/85 [==============================] - 8s 98ms/step - loss: 0.3813 - accuracy: 0.9844 - val_loss: 3.1232 - val_accuracy: 0.9578\n",
            "Epoch 17/40\n",
            "85/85 [==============================] - 8s 94ms/step - loss: 0.3747 - accuracy: 0.9881 - val_loss: 1.8618 - val_accuracy: 0.9622\n",
            "Epoch 18/40\n",
            "85/85 [==============================] - 8s 99ms/step - loss: 0.2357 - accuracy: 0.9878 - val_loss: 2.2544 - val_accuracy: 0.9622\n",
            "Epoch 19/40\n",
            "85/85 [==============================] - 8s 99ms/step - loss: 0.3332 - accuracy: 0.9870 - val_loss: 2.2020 - val_accuracy: 0.9778\n",
            "Epoch 20/40\n",
            "85/85 [==============================] - 8s 94ms/step - loss: 0.1266 - accuracy: 0.9937 - val_loss: 2.3076 - val_accuracy: 0.9667\n",
            "Epoch 21/40\n",
            "85/85 [==============================] - 8s 95ms/step - loss: 0.3503 - accuracy: 0.9885 - val_loss: 2.0185 - val_accuracy: 0.9711\n",
            "Epoch 22/40\n",
            "85/85 [==============================] - 8s 95ms/step - loss: 0.2918 - accuracy: 0.9893 - val_loss: 2.0046 - val_accuracy: 0.9689\n",
            "Epoch 23/40\n",
            "85/85 [==============================] - 8s 95ms/step - loss: 0.3051 - accuracy: 0.9878 - val_loss: 2.4997 - val_accuracy: 0.9689\n",
            "Epoch 24/40\n",
            "85/85 [==============================] - 8s 96ms/step - loss: 0.2330 - accuracy: 0.9941 - val_loss: 2.4287 - val_accuracy: 0.9667\n",
            "Epoch 25/40\n",
            "85/85 [==============================] - 8s 96ms/step - loss: 0.2917 - accuracy: 0.9874 - val_loss: 2.9222 - val_accuracy: 0.9689\n",
            "Epoch 26/40\n",
            "85/85 [==============================] - 8s 95ms/step - loss: 0.3416 - accuracy: 0.9881 - val_loss: 2.9877 - val_accuracy: 0.9667\n",
            "Epoch 27/40\n",
            "85/85 [==============================] - 8s 97ms/step - loss: 0.3048 - accuracy: 0.9893 - val_loss: 2.6451 - val_accuracy: 0.9622\n",
            "Epoch 28/40\n",
            "85/85 [==============================] - 8s 98ms/step - loss: 0.2797 - accuracy: 0.9896 - val_loss: 2.9189 - val_accuracy: 0.9622\n",
            "Epoch 29/40\n",
            "85/85 [==============================] - 8s 98ms/step - loss: 0.4313 - accuracy: 0.9889 - val_loss: 1.7181 - val_accuracy: 0.9689\n",
            "Epoch 30/40\n",
            "85/85 [==============================] - 8s 94ms/step - loss: 0.2020 - accuracy: 0.9930 - val_loss: 1.5958 - val_accuracy: 0.9644\n",
            "Epoch 31/40\n",
            "85/85 [==============================] - 8s 99ms/step - loss: 0.1420 - accuracy: 0.9926 - val_loss: 3.0343 - val_accuracy: 0.9622\n",
            "Epoch 32/40\n",
            "85/85 [==============================] - 8s 95ms/step - loss: 0.1248 - accuracy: 0.9952 - val_loss: 3.3269 - val_accuracy: 0.9644\n",
            "Epoch 33/40\n",
            "85/85 [==============================] - 8s 94ms/step - loss: 0.1547 - accuracy: 0.9926 - val_loss: 2.4939 - val_accuracy: 0.9622\n",
            "Epoch 34/40\n",
            "85/85 [==============================] - 8s 98ms/step - loss: 0.3520 - accuracy: 0.9900 - val_loss: 3.2149 - val_accuracy: 0.9667\n",
            "Epoch 35/40\n",
            "85/85 [==============================] - 8s 97ms/step - loss: 0.1511 - accuracy: 0.9952 - val_loss: 2.2797 - val_accuracy: 0.9667\n",
            "Epoch 36/40\n",
            "85/85 [==============================] - 8s 95ms/step - loss: 0.2384 - accuracy: 0.9922 - val_loss: 2.9191 - val_accuracy: 0.9667\n",
            "Epoch 37/40\n",
            "85/85 [==============================] - 8s 95ms/step - loss: 0.1928 - accuracy: 0.9933 - val_loss: 2.3665 - val_accuracy: 0.9733\n",
            "Epoch 38/40\n",
            "85/85 [==============================] - 8s 98ms/step - loss: 0.0757 - accuracy: 0.9959 - val_loss: 2.1655 - val_accuracy: 0.9622\n",
            "Epoch 39/40\n",
            "85/85 [==============================] - 8s 100ms/step - loss: 0.1897 - accuracy: 0.9937 - val_loss: 2.6048 - val_accuracy: 0.9644\n",
            "Epoch 40/40\n",
            "85/85 [==============================] - 8s 97ms/step - loss: 0.3970 - accuracy: 0.9893 - val_loss: 3.4433 - val_accuracy: 0.9667\n"
          ]
        },
        {
          "output_type": "execute_result",
          "data": {
            "text/plain": [
              "<keras.callbacks.History at 0x7f0f0eff8550>"
            ]
          },
          "metadata": {},
          "execution_count": 24
        }
      ]
    },
    {
      "cell_type": "code",
      "source": [
        "train_loss, train_accuracy = model.evaluate(train_generator)\n",
        "test_loss, test_accuracy = model.evaluate(val_generator)\n",
        "\n",
        "print('Training Accuracy:', train_accuracy)\n",
        "print('Test Accuracy:', test_accuracy)"
      ],
      "metadata": {
        "colab": {
          "base_uri": "https://localhost:8080/"
        },
        "outputId": "3da1bbe4-8887-4010-d10c-099734b75b0e",
        "id": "ClUZydkv3dmd"
      },
      "execution_count": null,
      "outputs": [
        {
          "output_type": "stream",
          "name": "stdout",
          "text": [
            "11/11 [==============================] - 40s 3s/step - loss: 0.4610 - accuracy: 0.9878\n",
            "2/2 [==============================] - 2s 629ms/step - loss: 3.4434 - accuracy: 0.9667\n",
            "Training Accuracy: 0.9877777695655823\n",
            "Test Accuracy: 0.9666666388511658\n"
          ]
        }
      ]
    },
    {
      "cell_type": "code",
      "source": [
        "preds = model.evaluate(test_x, test_y)\n",
        "print (\"Loss = \" + str(preds[0]))\n",
        "print (\"Test Accuracy = \" + str(preds[1]))"
      ],
      "metadata": {
        "colab": {
          "base_uri": "https://localhost:8080/"
        },
        "outputId": "09671869-e22e-4aab-bb8e-856887166637",
        "id": "qQzc5fWe3dmd"
      },
      "execution_count": null,
      "outputs": [
        {
          "output_type": "stream",
          "name": "stdout",
          "text": [
            "15/15 [==============================] - 1s 72ms/step - loss: 3.4433 - accuracy: 0.9667\n",
            "Loss = 3.4432849884033203\n",
            "Test Accuracy = 0.9666666388511658\n"
          ]
        }
      ]
    },
    {
      "cell_type": "code",
      "source": [
        "from sklearn.metrics import precision_score, recall_score, f1_score\n",
        "\n",
        "test_loss, test_acc = model.evaluate(test_x, test_y)\n",
        "pred_labels = np.argmax(model.predict(test_x), axis=1)\n",
        "\n",
        "true_labels = np.argmax(test_y, axis=1)\n",
        "\n",
        "class_accuracies = []\n",
        "f1_scores = []\n",
        "avg_precisions = []\n",
        "avg_recalls = []\n",
        "\n",
        "for class_label in range(9):\n",
        "    class_indices = np.where(true_labels == class_label)[0]\n",
        "    class_pred_labels = pred_labels[class_indices]\n",
        "    class_true_labels = true_labels[class_indices]\n",
        "\n",
        "    # Calculate class accuracy\n",
        "    class_accuracy = np.mean(class_pred_labels == class_true_labels)\n",
        "    class_accuracies.append(class_accuracy)\n",
        "\n",
        "    # Calculate F1 score\n",
        "    class_f1_score = f1_score(class_true_labels, class_pred_labels, pos_label=class_label, average='macro')\n",
        "    f1_scores.append(class_f1_score)\n",
        "\n",
        "    # Calculate precision\n",
        "    class_precision = precision_score(class_true_labels, class_pred_labels, pos_label=class_label, average='macro')\n",
        "    avg_precisions.append(class_precision)\n",
        "\n",
        "    # Calculate recall\n",
        "    class_recall = recall_score(class_true_labels, class_pred_labels, pos_label=class_label, average='macro')\n",
        "    avg_recalls.append(class_recall)\n",
        "\n",
        "mean_class_accuracy = np.mean(class_accuracies)\n",
        "f1_score = np.mean(f1_scores)\n",
        "mean_precision = np.mean(avg_precisions)\n",
        "mean_recall = np.mean(avg_recalls)\n",
        "\n",
        "print(\"Mean Class Accuracy:\", mean_class_accuracy)\n",
        "print(\"F1 Score:\", f1_score)\n",
        "print(\"Mean Average Precision:\", mean_precision)\n",
        "print(\"Mean Average Recall:\", mean_recall)"
      ],
      "metadata": {
        "colab": {
          "base_uri": "https://localhost:8080/"
        },
        "outputId": "60fe1501-2ae7-4c7c-f773-72b230746aea",
        "id": "9iOw3Khf3dme"
      },
      "execution_count": null,
      "outputs": [
        {
          "output_type": "stream",
          "name": "stdout",
          "text": [
            "15/15 [==============================] - 1s 73ms/step - loss: 3.4433 - accuracy: 0.9667\n",
            "15/15 [==============================] - 3s 73ms/step\n",
            "Mean Class Accuracy: 0.9666666666666666\n",
            "F1 Score: 0.7719041700177914\n",
            "Mean Average Precision: 0.7777777777777777\n",
            "Mean Average Recall: 0.7666666666666667\n"
          ]
        },
        {
          "output_type": "stream",
          "name": "stderr",
          "text": [
            "/usr/local/lib/python3.10/dist-packages/sklearn/metrics/_classification.py:1396: UserWarning: Note that pos_label (set to 0) is ignored when average != 'binary' (got 'macro'). You may use labels=[pos_label] to specify a single positive class.\n",
            "  warnings.warn(\n",
            "/usr/local/lib/python3.10/dist-packages/sklearn/metrics/_classification.py:1396: UserWarning: Note that pos_label (set to 0) is ignored when average != 'binary' (got 'macro'). You may use labels=[pos_label] to specify a single positive class.\n",
            "  warnings.warn(\n",
            "/usr/local/lib/python3.10/dist-packages/sklearn/metrics/_classification.py:1396: UserWarning: Note that pos_label (set to 0) is ignored when average != 'binary' (got 'macro'). You may use labels=[pos_label] to specify a single positive class.\n",
            "  warnings.warn(\n",
            "/usr/local/lib/python3.10/dist-packages/sklearn/metrics/_classification.py:1396: UserWarning: Note that pos_label (set to 2) is ignored when average != 'binary' (got 'macro'). You may use labels=[pos_label] to specify a single positive class.\n",
            "  warnings.warn(\n",
            "/usr/local/lib/python3.10/dist-packages/sklearn/metrics/_classification.py:1396: UserWarning: Note that pos_label (set to 2) is ignored when average != 'binary' (got 'macro'). You may use labels=[pos_label] to specify a single positive class.\n",
            "  warnings.warn(\n",
            "/usr/local/lib/python3.10/dist-packages/sklearn/metrics/_classification.py:1396: UserWarning: Note that pos_label (set to 2) is ignored when average != 'binary' (got 'macro'). You may use labels=[pos_label] to specify a single positive class.\n",
            "  warnings.warn(\n",
            "/usr/local/lib/python3.10/dist-packages/sklearn/metrics/_classification.py:1396: UserWarning: Note that pos_label (set to 3) is ignored when average != 'binary' (got 'macro'). You may use labels=[pos_label] to specify a single positive class.\n",
            "  warnings.warn(\n",
            "/usr/local/lib/python3.10/dist-packages/sklearn/metrics/_classification.py:1396: UserWarning: Note that pos_label (set to 3) is ignored when average != 'binary' (got 'macro'). You may use labels=[pos_label] to specify a single positive class.\n",
            "  warnings.warn(\n",
            "/usr/local/lib/python3.10/dist-packages/sklearn/metrics/_classification.py:1396: UserWarning: Note that pos_label (set to 3) is ignored when average != 'binary' (got 'macro'). You may use labels=[pos_label] to specify a single positive class.\n",
            "  warnings.warn(\n",
            "/usr/local/lib/python3.10/dist-packages/sklearn/metrics/_classification.py:1396: UserWarning: Note that pos_label (set to 4) is ignored when average != 'binary' (got 'macro'). You may use labels=[pos_label] to specify a single positive class.\n",
            "  warnings.warn(\n",
            "/usr/local/lib/python3.10/dist-packages/sklearn/metrics/_classification.py:1396: UserWarning: Note that pos_label (set to 4) is ignored when average != 'binary' (got 'macro'). You may use labels=[pos_label] to specify a single positive class.\n",
            "  warnings.warn(\n",
            "/usr/local/lib/python3.10/dist-packages/sklearn/metrics/_classification.py:1396: UserWarning: Note that pos_label (set to 4) is ignored when average != 'binary' (got 'macro'). You may use labels=[pos_label] to specify a single positive class.\n",
            "  warnings.warn(\n",
            "/usr/local/lib/python3.10/dist-packages/sklearn/metrics/_classification.py:1396: UserWarning: Note that pos_label (set to 5) is ignored when average != 'binary' (got 'macro'). You may use labels=[pos_label] to specify a single positive class.\n",
            "  warnings.warn(\n",
            "/usr/local/lib/python3.10/dist-packages/sklearn/metrics/_classification.py:1396: UserWarning: Note that pos_label (set to 5) is ignored when average != 'binary' (got 'macro'). You may use labels=[pos_label] to specify a single positive class.\n",
            "  warnings.warn(\n",
            "/usr/local/lib/python3.10/dist-packages/sklearn/metrics/_classification.py:1396: UserWarning: Note that pos_label (set to 5) is ignored when average != 'binary' (got 'macro'). You may use labels=[pos_label] to specify a single positive class.\n",
            "  warnings.warn(\n",
            "/usr/local/lib/python3.10/dist-packages/sklearn/metrics/_classification.py:1344: UndefinedMetricWarning: Recall is ill-defined and being set to 0.0 in labels with no true samples. Use `zero_division` parameter to control this behavior.\n",
            "  _warn_prf(average, modifier, msg_start, len(result))\n",
            "/usr/local/lib/python3.10/dist-packages/sklearn/metrics/_classification.py:1396: UserWarning: Note that pos_label (set to 6) is ignored when average != 'binary' (got 'macro'). You may use labels=[pos_label] to specify a single positive class.\n",
            "  warnings.warn(\n",
            "/usr/local/lib/python3.10/dist-packages/sklearn/metrics/_classification.py:1396: UserWarning: Note that pos_label (set to 6) is ignored when average != 'binary' (got 'macro'). You may use labels=[pos_label] to specify a single positive class.\n",
            "  warnings.warn(\n",
            "/usr/local/lib/python3.10/dist-packages/sklearn/metrics/_classification.py:1396: UserWarning: Note that pos_label (set to 6) is ignored when average != 'binary' (got 'macro'). You may use labels=[pos_label] to specify a single positive class.\n",
            "  warnings.warn(\n",
            "/usr/local/lib/python3.10/dist-packages/sklearn/metrics/_classification.py:1396: UserWarning: Note that pos_label (set to 7) is ignored when average != 'binary' (got 'macro'). You may use labels=[pos_label] to specify a single positive class.\n",
            "  warnings.warn(\n",
            "/usr/local/lib/python3.10/dist-packages/sklearn/metrics/_classification.py:1396: UserWarning: Note that pos_label (set to 7) is ignored when average != 'binary' (got 'macro'). You may use labels=[pos_label] to specify a single positive class.\n",
            "  warnings.warn(\n",
            "/usr/local/lib/python3.10/dist-packages/sklearn/metrics/_classification.py:1396: UserWarning: Note that pos_label (set to 7) is ignored when average != 'binary' (got 'macro'). You may use labels=[pos_label] to specify a single positive class.\n",
            "  warnings.warn(\n",
            "/usr/local/lib/python3.10/dist-packages/sklearn/metrics/_classification.py:1344: UndefinedMetricWarning: Recall is ill-defined and being set to 0.0 in labels with no true samples. Use `zero_division` parameter to control this behavior.\n",
            "  _warn_prf(average, modifier, msg_start, len(result))\n",
            "/usr/local/lib/python3.10/dist-packages/sklearn/metrics/_classification.py:1396: UserWarning: Note that pos_label (set to 8) is ignored when average != 'binary' (got 'macro'). You may use labels=[pos_label] to specify a single positive class.\n",
            "  warnings.warn(\n",
            "/usr/local/lib/python3.10/dist-packages/sklearn/metrics/_classification.py:1396: UserWarning: Note that pos_label (set to 8) is ignored when average != 'binary' (got 'macro'). You may use labels=[pos_label] to specify a single positive class.\n",
            "  warnings.warn(\n",
            "/usr/local/lib/python3.10/dist-packages/sklearn/metrics/_classification.py:1396: UserWarning: Note that pos_label (set to 8) is ignored when average != 'binary' (got 'macro'). You may use labels=[pos_label] to specify a single positive class.\n",
            "  warnings.warn(\n",
            "/usr/local/lib/python3.10/dist-packages/sklearn/metrics/_classification.py:1344: UndefinedMetricWarning: Recall is ill-defined and being set to 0.0 in labels with no true samples. Use `zero_division` parameter to control this behavior.\n",
            "  _warn_prf(average, modifier, msg_start, len(result))\n"
          ]
        }
      ]
    },
    {
      "cell_type": "code",
      "source": [
        "import matplotlib.pyplot as plt\n",
        "\n",
        "\n",
        "def plot_hist(hist):\n",
        "    plt.plot(hist.history[\"accuracy\"])\n",
        "    #plt.plot(hist.history[\"val_accuracy\"])\n",
        "    plt.title(\"model accuracy\")\n",
        "    plt.ylabel(\"accuracy\")\n",
        "    plt.xlabel(\"epoch\")\n",
        "    plt.legend([\"train\", \"validation\"], loc=\"upper left\")\n",
        "    plt.show()\n",
        "\n",
        "\n",
        "plot_hist(hist)"
      ],
      "metadata": {
        "colab": {
          "base_uri": "https://localhost:8080/",
          "height": 201
        },
        "id": "QUGAzSNLBrk0",
        "outputId": "a33c890f-73b8-40d5-d368-d17b79b2871c"
      },
      "execution_count": null,
      "outputs": [
        {
          "output_type": "error",
          "ename": "NameError",
          "evalue": "ignored",
          "traceback": [
            "\u001b[0;31m---------------------------------------------------------------------------\u001b[0m",
            "\u001b[0;31mNameError\u001b[0m                                 Traceback (most recent call last)",
            "\u001b[0;32m<ipython-input-3-2ecf350e94f4>\u001b[0m in \u001b[0;36m<cell line: 14>\u001b[0;34m()\u001b[0m\n\u001b[1;32m     12\u001b[0m \u001b[0;34m\u001b[0m\u001b[0m\n\u001b[1;32m     13\u001b[0m \u001b[0;34m\u001b[0m\u001b[0m\n\u001b[0;32m---> 14\u001b[0;31m \u001b[0mplot_hist\u001b[0m\u001b[0;34m(\u001b[0m\u001b[0mhist\u001b[0m\u001b[0;34m)\u001b[0m\u001b[0;34m\u001b[0m\u001b[0;34m\u001b[0m\u001b[0m\n\u001b[0m",
            "\u001b[0;31mNameError\u001b[0m: name 'hist' is not defined"
          ]
        }
      ]
    }
  ]
}